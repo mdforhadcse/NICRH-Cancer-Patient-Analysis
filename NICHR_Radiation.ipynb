{
  "nbformat": 4,
  "nbformat_minor": 0,
  "metadata": {
    "colab": {
      "name": "NICHR Radiation.ipynb",
      "provenance": [],
      "collapsed_sections": [
        "7lxLjbrrMw9i",
        "2gXpxmQpP7Zk",
        "T1NKCivMQDi7",
        "LzdNn86bQeps",
        "hSbEAGFdREcR",
        "RRh7vyMDSdVE",
        "0LSyDq_QSrO_",
        "Agk6EKwUwi-t",
        "aHf6v9p4xVTS",
        "y6Yrg8wNcG2W"
      ]
    },
    "kernelspec": {
      "name": "python3",
      "display_name": "Python 3"
    },
    "language_info": {
      "name": "python"
    }
  },
  "cells": [
    {
      "cell_type": "code",
      "metadata": {
        "colab": {
          "base_uri": "https://localhost:8080/"
        },
        "id": "EbG22aGc_syi",
        "outputId": "28d2c7e9-67c3-45a0-c518-99e07c9dc50d"
      },
      "source": [
        "from google.colab import drive\n",
        "drive.mount('/content/drive')"
      ],
      "execution_count": 91,
      "outputs": [
        {
          "output_type": "stream",
          "name": "stdout",
          "text": [
            "Drive already mounted at /content/drive; to attempt to forcibly remount, call drive.mount(\"/content/drive\", force_remount=True).\n"
          ]
        }
      ]
    },
    {
      "cell_type": "code",
      "metadata": {
        "colab": {
          "base_uri": "https://localhost:8080/",
          "height": 796
        },
        "id": "cUyaJUzRNQR0",
        "outputId": "fdbe53b7-c6c1-4fac-adc6-59cac521dfd3"
      },
      "source": [
        "from google.colab import auth\n",
        "auth.authenticate_user()\n",
        "\n",
        "import gspread\n",
        "from oauth2client.client import GoogleCredentials\n",
        "\n",
        "gc = gspread.authorize(GoogleCredentials.get_application_default())\n",
        "\n",
        "worksheet = gc.open('NICRH Patient Data').sheet1\n",
        "\n",
        "# get_all_values gives a list of rows.\n",
        "rows = worksheet.get_all_values()\n",
        "print(rows)\n",
        "\n",
        "# Convert to a DataFrame and render.\n",
        "import pandas as pd\n",
        "import seaborn as sns\n",
        "import numpy as np\n",
        "df = pd.DataFrame.from_records(rows[1:],columns=rows[0])\n",
        "df"
      ],
      "execution_count": 92,
      "outputs": [
        {
          "output_type": "stream",
          "name": "stdout",
          "text": [
            "[['Case_No', 'Classification', 'Hospital_Name', 'Patient_Name', 'Age', 'Sex', 'Registration_No', 'RT_No', 'Phone_No', 'Local_Address', 'Permanent_Address', 'Occupation', 'Marital_Status', 'Socioeconomic_Condition', 'Educational_Qualification', 'Smoking_History', 'Comorbidities', 'Performance_Status', 'Body_Built', 'Diagnosis', 'Radiotherapy', 'Diagnosis_Stage', 'Stage', 'Histopathology', 'Treatment_Intention', 'Radiotherapy_Machine', 'Energy(MeV)', 'Total_Dose', 'Fractions_Number', 'Dose_Per_Fraction(Gy)', 'Weekly_Treatment_Days(Day)', 'Daily_Treatment_Duration(Min)', 'Treatment_Field', 'Superior_Border', 'Inferior_Border', 'Lateral_Border', 'Medial_Border', 'Field_Size(cm)', 'OMAS_Pretreatment', 'OMAS_After_1W', 'OMAS_After_2W', 'OMAS_After_3W', 'OMAS_After_4W', 'OMAS_After_5W', 'OMAS_After_6W', 'OMAS_After_7W', 'OMAS_2W_After_Treatment', 'OMAS_4W_After_Treatment', 'Pain_Intensity_Pretreatment', 'Pain_Intensity_After_1W', 'Pain_Intensity_After_2W', 'Pain_Intensity_After_3W', 'Pain_Intensity_After_4W', 'Pain_Intensity_After_5W', 'Pain_Intensity_After_6W', 'Pain_Intensity_After_7W', 'Pain_Intensity_2W_After_Treatment', 'Pain_Intensity_4W_After_Treatment', 'Swallowing_Pretreatment', 'Swallowing_After_1W', 'Swallowing_After_2W', 'Swallowing_After_3W', 'Swallowing_After_4W', 'Swallowing_After_5W', 'Swallowing_After_6W', 'Swallowing_After_7W', 'Swallowing_2W_After_Treatment', 'Swallowing_4W_After_Treatment', 'WHO_Grade_Pretreatment', 'WHO_Grade_After_1W', 'WHO_Grade_After_2W', 'WHO_Grade_After_3W', 'WHO_Grade_After_4W', 'WHO_Grade_After_5W', 'WHO_Grade_After_6W', 'WHO_Grade_After_7W', 'WHO_Grade_2W_After_Treatment', 'WHO_Grade_4W_After_Treatment', 'WHO_Grade3_Duration', 'Analgesic_Use_Pretreatment', 'Analgesic_Use_After_1W', 'Analgesic_Use_After_2W', 'Analgesic_Use_After_3W', 'Analgesic_Use_After_4W', 'Analgesic_Use_After_5W', 'Analgesic_Use_After_6W', 'Analgesic_Use_After_7W', 'Analgesic_Use_2W_After_Treatment', 'Analgesic_Use_4W_After_Treatment', 'Analgesic_Use', 'Opioid_analgesic_use', 'Antifungal_Use_Pretreatment', 'Antifungal_Use_After_1W', 'Antifungal_Use_After_2W', 'Antifungal_Use_After_3W', 'Antifungal_Use_After_4W', 'Antifungal_Use_After_5W', 'Antifungal_Use_After_6W', 'Antifungal_Use_After_7W', 'Antifungal_Use_2W_After_Treatment', 'Antifungal_Use_4W_After_Treatment', 'Antifungal_Use', 'Impact_Pretreatment', 'Impact_After_1W', 'Impact_After_2W', 'Impact_After_3W', 'Impact_After_4W', 'Impact_After_5W', 'Impact_After_6W', 'Impact_After_7W', 'Impact_2W_After_Treatment', 'Impact_4W_After_Treatment', 'Treatment_interaption'], ['1', 'Cryotherapy along with maintaining oral hygiene', 'NICRH', 'Shahidullah', '55', 'Male', '20/21127', '20/3233', '1624609120', 'Hatirjeel, Dhaka', 'Vill:Rongakhola,PO:Sahagonj, PS:Gouripur, Dist:Mymansing', 'Farmer', 'Married', 'Average', 'Below SSC', 'Former', 'No', '1', '2', 'Hypopharynx', '#REF!', 'T:2 N:1 M:X', '2', 'Squamous cell carcinoma', 'Intent radical', 'Co60', '1.25', '6600', '33', '200', '5', '1.38', 'F\\\\C', 'Mid tragus', '', '3 cm behind ear lobule.', '', '14X11', '', '', '', '', '', '', '', '', '', '', '0', '0', '0', '0', '1', '1', '2', '2', '1', '0', 'N', 'N', 'N', 'N', 'N', 'SS', 'SS', 'SS', 'L', 'SS', '0', '0', '1', '1', '1', '2', '2', '2', '3', '2', '2', 'No', 'No', 'No', 'No', 'No', 'No', 'Yes, Non', 'Yes, Non', 'Yes, Non', 'No', '1', '0', 'No', 'No', 'No', 'No', 'No', 'Yes', 'Yes', 'Yes', 'No', 'No', '1', 'No', 'No', 'No', 'No', 'No', 'No', 'No', 'No', 'No', 'No', '0'], ['2', 'Cryotherapy along with maintaining oral hygiene', 'NICRH', 'Nasima', '50', 'Female', '20/15490', '20/1677', '1721569087', '', 'Borguna', 'Others', 'Married', 'Poor', 'Illiterate', 'Never, Smokers in family', 'No', '2', '2', 'Lip and Oral Cavity', 'Post-operative', 'T:4b N:1 M:X', '4', 'Squamous cell carcinoma', 'Intent radical', 'Co60(Phoneix)', '1.25', '6600', '33', '2', '5', '1.33', 'F\\\\C', 'Mid tragus', '', '3 cm behind ear lobule.', '', '11X13', '', '', '', '', '', '', '', '', '', '', '0', '0', '0', '1', '1', '2', '2', '3', '2', '1', 'N', 'N', 'N', 'N', 'N', 'N', 'SS', 'SS', 'SS', 'N', '0', '0', '0', '1', '1', '1', '2', '2', '2', '1', '0', 'No', 'No', 'No', 'No', 'No', 'Yes, Non', 'Yes, Non', 'Yes, Non', 'Yes, Non', 'No', '1', '0', 'No', 'No', 'No', 'No', 'Yes', 'Yes', 'Yes', 'Yes', 'Yes', 'No', '1', 'No', 'No', 'No', 'No', 'No', 'No', 'No', 'No', 'No', 'No', '0'], ['3', 'Cryotherapy along with maintaining oral hygiene', 'NICRH', 'Sonya', '30', 'Female', '21/578', '288/21', '1910043791', '', 'Vill:Shalla,PO: ,PS:Joydebpur ,Dist:Gazipur', 'Officials', 'Married', 'Average', 'Below SSC', 'Never, Smokers in family', 'No', '2', '1', 'Larynx', '#REF!', 'T: 1 N: 0 M:X', '1', 'Squamous cell carcinoma', 'Intent radical', 'Co60(Phoneix)', '1.25', '6600', '33', '2', '5', '1.49', 'F\\\\C', '', '', '', '', '6X8', '', '', '', '', '', '', '', '', '', '', '0', '1', '2', '3', '4', '5', '6', '6', '5', '4', 'N', 'N', 'N', 'N', 'SS', 'SS', 'L', 'L', 'SS', 'SS', '0', '1', '1', '2', '2', '2', '3', '3', '2', '2', '2', 'No', 'No', 'No', 'Yes, Non, OP', 'Yes, Non, OP', 'Yes, Non, OP', 'Yes, OP', 'Yes, OP', 'Yes, Non', 'Yes, Non', '1', '1', 'No', 'No', 'No', 'No', 'Yes', 'Yes', 'Yes', 'Yes', 'Yes', 'No', '1', 'No', 'No', 'No', 'No', 'No', 'No', 'No', 'No', 'No', 'No', '0'], ['4', 'Cryotherapy along with maintaining oral hygiene', 'NICRH', 'Shahin', '50', 'Male', '20/5774', '103/21', '1772336317', '', 'Vill:Sohagdal, PS:Sarupkathi, Dist:Pirojpur', 'Day Labourer', 'Married', 'Poor', 'Illiterate', 'Former', 'HTN', '2', '2', 'Larynx', '#REF!', 'T:3 N:1 M:X', '3', 'Squamous cell carcinoma', 'Intent radical', 'Co60(Phoneix)', '1.25', '6600', '33', '200', '5', '2.1', 'F\\\\C', 'Mid tragus', '', '5 cm behind ear lobule.', '', '', '', '', '', '', '', '', '', '', '', '', '0', '0', '1', '1', '1', '2', '2', '3', '2', '2', 'N', 'N', 'N', 'N', 'N', 'SS', 'SS', 'SS', 'SS', 'N', '0', '1', '1', '1', '1', '2', '2', '2', '2', '1', '0', 'No', 'No', 'No', 'No', 'No', 'Yes, Non', 'Yes, Non', 'Yes, Non', 'Yes, Non', 'Yes, Non', '1', '0', 'No', 'No', 'No', 'No', 'No', 'Yes', 'Yes', 'Yes', 'Yes', 'No', '1', 'No', 'No', 'No', 'No', 'No', 'No', 'No', 'No', 'No', 'No', '0'], ['9', 'Cryotherapy along with maintaining oral hygiene', 'NICRH', 'Kamrul', '20', 'Male', '21/7395', '578/21', '1641748447', '57/A, Hazipara, Rampura', 'Vill:Aminpur, PS:Matlab, Dist:Chandpur', 'Others', 'Unmarried', 'Average', 'HSC', 'Never', 'No', '0', '2', 'Others', '#REF!', '', '2', 'Squamous cell carcinoma', 'Intent radical', 'Co60(Phoneix)', '1.25', '6000', '30', '2', '5', '2.44', 'Lt lat Face', 'A long the zygomatic arch', '', '3 cm behind ear lobule.', '', '', '', '', '', '', '', '', '', '', '', '', '0', '0', '0', '0', '0', '1', '1', '2', '1', '0', 'N', 'N', 'N', 'N', 'N', 'N', 'SS', 'SS', 'SS', 'N', '0', '0', '1', '2', '2', '2', '3', '3', '2', '1', '2', 'No', 'No', 'No', 'No', 'No', 'No', 'No', 'Yes, Non', 'No', 'No', '1', '0', 'No', 'No', 'No', 'No', 'No', 'No', 'No', 'No', 'No', 'No', '0', 'No', 'No', 'No', 'No', 'No', 'No', 'No', 'No', 'No', 'No', '0'], ['10', 'Cryotherapy along with maintaining oral hygiene', 'NICRH', 'Yusuf', '90', 'Male', '21/7791', '21/884', '1764930351', '', 'Vill:Gobna, PS:Gopalgonj, Dist:PS:Gopalgonj', 'Farmer', 'Married', 'Average', 'Below SSC', 'Former', 'HTN', '1', '2', 'Oropharynx', '#REF!', 'T:3 N:1 M:X', '3', 'Squamous cell carcinoma', 'Intent radical', 'LINAC', '', '6000', '30', '200', '5', '1.15', 'F\\\\C', 'Mid tragus', '', '3 cm behind ear lobule.', '', '10X12', '', '', '', '', '', '', '', '', '', '', '0', '0', '0', '1', '1', '1', '2', '2', '1', '1', 'N', 'N', 'N', 'N', 'N', 'N', 'SS', 'SS', 'N', 'N', '0', '0', '1', '1', '2', '2', '2', '3', '1', '1', '1', 'No', 'No', 'No', 'No', 'No', 'No', 'Yes, Non', 'Yes, Non', 'No', 'No', '1', '0', 'No', 'No', 'No', 'No', 'Yes', 'Yes', 'Yes', 'Yes', 'No', 'No', '1', 'No', 'No', 'No', 'No', 'No', 'No', 'No', 'No', 'No', 'No', '0'], ['11', 'Cryotherapy along with maintaining oral hygiene', 'NICRH', 'Abdul Jalil', '63', 'Male', '20/15959', '20/1709', '1816416121', '', 'Vill:Birkot, PS:Sunbag, Dist:Noakhali', 'Business', 'Married', 'Average', 'Below SSC', 'Former', 'No', '1', '2', 'Nasopharynx', '#REF!', 'T:2 N:2A M:X', '2', 'Others', 'Intent radical', 'LINAC', '', '6600', '33', '200', '5', '1.9', 'F\\\\C', '0.5cm above', '', '6 cm behind ear lobule.', '', '12X21', '', '', '', '', '', '', '', '', '', '', '0', '0', '0', '0', '1', '2', '2', '3', '2', '1', 'N', 'N', 'N', 'N', 'N', 'SS', 'SS', 'L', 'SS', 'SS', '0', '0', '1', '1', '1', '2', '2', '3', '2', '2', '1', 'No', 'No', 'No', 'No', 'No', 'Yes, Non', 'Yes, Non', 'Yes, Non', 'Yes, Non', 'No', '1', '0', 'No', 'No', 'No', 'No', 'Yes', 'Yes', 'Yes', 'Yes', 'Yes', 'No', '1', 'No', 'No', 'No', 'No', 'No', 'No', 'No', 'No', 'No', 'No', '0'], ['12', 'Cryotherapy along with maintaining oral hygiene', 'NICRH', 'Ishak Mia', '60', 'Male', '18/2166', '21/400', '1834280142', '', 'Vill:Boalia, PS:Hajigonj, Dist:Chandpur', 'Farmer', 'Married', 'Average', 'Below SSC', 'Former', 'No', '1', '1', 'Larynx', '#REF!', 'T:3 N:0 M:X', '3', 'Squamous cell carcinoma', 'Intent radical', 'Co60(Phoneix)', '1.25', '6600', '33', '200', '5', '1.4', 'F\\\\C', 'Upper tragus', '', '4 cm behind ear lobule.', '', '12X17', '', '', '', '', '', '', '', '', '', '', '0', '0', '1', '1', '1', '2', '2', '3', '2', '1', 'N', 'N', 'N', 'N', 'N', 'SS', 'SS', 'SS', 'N', 'N', '0', '0', '0', '0', '1', '2', '2', '2', '1', '1', '0', 'No', 'No', 'No', 'Yes, Non', 'Yes, Non', 'Yes, Non', 'Yes, Non', 'Yes, Non', 'Yes, Non', 'No', '1', '0', 'No', 'No', 'No', 'No', 'No', 'Yes', 'Yes', 'Yes', 'Yes', 'Yes', '1', 'No', 'No', 'No', 'No', 'No', 'No', 'No', 'No', 'No', 'No', '0'], ['14', 'Cryotherapy along with maintaining oral hygiene', 'NICRH', 'Salam Howlader', '54', 'Male', '21/2907', '21/354', '1725888124', 'Moghbazar railgate, Dhaka', 'Vill:Ranapasha,PS:Nalshiti,Dist:Jhalkathi', 'Farmer', 'Married', 'Average', 'Illiterate', 'Former', 'No', '2', '2', 'Oropharynx', '#REF!', '', '3', 'Squamous cell carcinoma', 'Intent radical', 'Co60(Phoneix)', '1.25', '6600', '33', '200', '5', '1.35', 'F\\\\C', 'Mid tragus', '', '4 cm behind ear lobule.', '', '10X16', '', '', '', '', '', '', '', '', '', '', '0', '0', '0', '1', '1', '1', '2', '2', '2', '1', 'N', 'N', 'N', 'N', 'N', 'N', 'N', 'N', 'SS', '', '0', '0', '1', '2', '2', '2', '3', '3', '2', '1', '2', 'No', 'No', 'No', 'No', 'No', 'No', 'Yes, Non', 'Yes, Non', 'Yes, Non', 'No', '1', '0', 'No', 'No', 'No', 'No', 'No', 'Yes', 'Yes', 'Yes', 'Yes', 'No', '1', 'No', 'No', 'No', 'No', 'No', 'No', 'No', 'No', 'No', 'No', '0'], ['16', 'Cryotherapy along with maintaining oral hygiene', 'NICRH', 'Mostafa', '63', 'Male', '20/22406', '20/3769', '1963180037', '', 'Vill:Kotiadi, PS:Kotiadi ,Dist:Kishoregonj', 'Business', 'Married', 'Poor', 'SSC', 'Former', 'No', '1', '1', 'Larynx', '#REF!', '', '3', 'Squamous cell carcinoma', 'Intent radical', 'Co60(Phoneix)', '1.25', '6600', '33', '2', '5', '1.46', 'F\\\\C', 'Mid tragus', '', '', '', '', '', '', '', '', '', '', '', '', '', '', '0', '0', '0', '1', '1', '1', '2', '2', '1', '1', 'N', 'N', 'N', 'N', 'N', 'N', 'N', 'SS', 'SS', 'N', '0', '0', '0', '1', '1', '1', '1', '2', '2', '1', '0', 'No', 'No', 'No', 'No', 'No', 'Yes, Non', 'Yes, Non', 'Yes, Non', 'Yes, Non', 'No', '1', '0', 'No', 'Yes', 'Yes', 'Yes', 'Yes', 'Yes', 'Yes', 'Yes', 'Yes', 'Yes', '1', 'No', 'No', 'No', 'No', 'No', 'No', 'No', 'No', 'No', 'No', '0'], ['18', 'Cryotherapy along with maintaining oral hygiene', 'NICRH', 'Masud', '50', 'Male', '20/24864', '467/21', '1684351440', 'Kalachandpur, Gulshan, Dhaka', 'Vill:Charpara, PS:Lalmohan ,Dist:Bhola', 'Day Labourer', 'Married', 'Average', 'Illiterate', 'Former', 'COPD', '2', '2', 'Larynx', '#REF!', 'T:3 N:1 M:X', '3', 'Squamous cell carcinoma', 'Intent radical', 'LINAC', '', '6600', '33', '200', '5', '1.17', 'F\\\\C', 'Mid tragus', '', '3 cm behind ear lobule.', '', '16X9', '', '', '', '', '', '', '', '', '', '', '0', '0', '0', '0', '1', '1', '1', '2', '2', '1', 'N', 'N', 'N', 'N', 'N', 'N', 'SS', 'SS', 'L', 'SS', '0', '0', '0', '1', '2', '2', '2', '3', '3', '2', '3', 'No', 'No', 'No', 'No', 'No', 'No', 'No', 'Yes, Non', 'Yes, Non', 'No', '1', '0', 'No', 'No', 'No', 'No', 'No', 'Yes', 'Yes', 'Yes', 'Yes', 'No', '1', 'No', 'No', 'No', 'No', 'No', 'No', 'No', 'No', 'No', 'No', '0'], ['20', 'Cryotherapy along with maintaining oral hygiene', 'NICRH', 'Renu Mia', '55', 'Male', '21/4841', '21/626', '1685882730', '', 'Vill:Shimantopur, PS:K. sadar ,Dist:Kishoregonj', 'Business', 'Married', 'Average', 'Illiterate', 'Former', 'No', '2', '', 'Larynx', '#REF!', '', '2', 'Squamous cell carcinoma', '', '', '', '6600', '', '', '', '', '', '', '', '', '', '', '', '', '', '', '', '', '', '', '', '', '0', '0', '0', '1', '1', '2', '2', '3', '2', '1', 'N', 'N', 'N', 'N', 'N', 'SS', 'SS', 'SS', 'N', 'N', '0', '0', '1', '1', '1', '2', '2', '3', '1', '1', '1', 'No', 'No', 'No', 'No', 'No', 'Yes, Non', 'Yes, Non', 'Yes, Non', 'Yes, Non', 'No', '1', '0', 'No', 'No', 'No', 'No', 'No', 'No', 'No', 'No', 'No', 'No', '0', 'No', 'No', 'No', 'No', 'No', 'No', 'No', 'No', 'No', 'No', '0'], ['21', 'Cryotherapy along with maintaining oral hygiene', 'NICRH', 'Shukkur Ali', '75', 'Male', '20/22253', '455/21', '1944406115', '', 'Vill:Raynagar, PO:Khasmahal, PS:Sirajfikhan ,Dist:Munshigonj', 'Farmer', 'Married', 'Average', 'Illiterate', 'Former', 'No', '1', '2', 'Larynx', '#REF!', 'T:3 N:1 M:0', '3', 'Squamous cell carcinoma', 'Intent radical', 'Co60(Phoneix)', '1.25', '6600', '33', '2', '5', '1.38', 'F\\\\C', 'Mid tragus', '', '3 cm behind ear lobule.', '', 'X', '', '', '', '', '', '', '', '', '', '', '0', '0', '0', '0', '1', '1', '1', '2', '1', '0', 'N', 'N', 'N', 'N', 'N', 'N', 'N', 'SS', 'SS', 'N', '0', '0', '0', '1', '1', '1', '1', '2', '2', '1', '0', 'No', 'No', 'No', 'No', 'No', 'No', 'No', 'Yes, Non', 'No', 'No', '1', '0', 'No', 'No', 'Yes', 'Yes', 'Yes', 'Yes', 'Yes', 'No', 'No', 'No', '1', 'No', 'No', 'No', 'No', 'No', 'No', 'No', 'No', 'No', 'No', '0'], ['23', 'Cryotherapy along with maintaining oral hygiene', 'NICRH', 'Ansar Ali', '80', 'Male', '21/8884', '21/1024', '1747635159', '', 'Munshigonj', 'Farmer', 'Married', 'Average', 'SSC', 'Former', 'HTN', '2', '2', 'Larynx', '#REF!', 'T:3 N:2C M:X', '3', 'Squamous cell carcinoma', 'Intent radical', 'LINAC', '', '6600', '33', '200', '5', '1.22', 'F\\\\C', 'Mid tragus', '', '3 cm behind ear lobule.', '', '12X14', '', '', '', '', '', '', '', '', '', '', '0', '0', '0', '1', '1', '1', '2', '2', '1', '1', 'N', 'N', 'N', 'N', 'N', 'N', 'SS', 'SS', 'N', 'N', '0', '0', '1', '1', '2', '2', '3', '3', '1', '1', '2', 'No', 'No', 'No', 'No', 'No', 'Yes, Non', 'Yes, Non', 'Yes, Non', 'No', 'No', '1', '0', 'No', 'No', 'No', 'No', 'Yes', 'Yes', 'Yes', 'Yes', 'Yes', 'No', '1', 'No', 'No', 'No', 'No', 'No', 'No', 'No', 'No', 'No', 'No', '0'], ['27', 'Cryotherapy along with maintaining oral hygiene', 'NICRH', 'Mofiz', '55', 'Male', '21/9927', '715/21', '1846598362', 'Begunbari, Dhaka', 'Vill:Kollandi, PS:sadar, Dist:Chandpur', 'Business', 'Married', 'Average', 'Illiterate', 'Former', 'No', '1', '2', 'Hypopharynx', '#REF!', 'T:3 N:0 M:0', '3', 'Squamous cell carcinoma', 'Intent radical', 'Co60(Phoneix)', '1.25', '6600', '33', '2', '5', '1.43', 'F\\\\C', '2 cm above mandible', '', '3 cm behind ear lobule.', '', '12X11', '', '', '', '', '', '', '', '', '', '', '0', '0', '0', '1', '1', '1', '2', '2', '3', '2', 'N', 'N', 'N', 'N', 'N', 'N', 'SS', 'SS', 'SS', 'N', '0', '0', '0', '1', '1', '1', '2', '2', '2', '1', '0', 'No', 'No', 'No', 'No', 'No', 'No', 'Yes, Non', 'Yes, Op', 'Yes, Op', 'Yes, Op', '1', '1', 'No', 'No', 'No', 'No', 'No', 'Yes', 'Yes', 'Yes', 'Yes', 'No', '1', 'No', 'No', 'No', 'No', 'No', 'No', 'No', 'No', 'No', 'No', '0'], ['28', 'Cryotherapy along with maintaining oral hygiene', 'NICRH', 'Suroj Mia', '61', 'Male', '21/2081', '621/21', '1913974248', 'Mohakhali, Dhaka', 'Kishoregonj', 'Farmer', 'Married', 'Average', 'Illiterate', 'Former', 'No', '1', '1', 'Larynx', '#REF!', 'T:2 N:0 M:0', '2', 'Squamous cell carcinoma', 'Intent radical', 'Co60(Phoneix)', '1.25', '6600', '33', '2', '5', '1.48', 'F\\\\C', 'Mid tragus', '', '4 cm behind ear lobule.', '', '12X16', '', '', '', '', '', '', '', '', '', '', '0', '0', '0', '1', '1', '2', '2', '3', '2', '1', 'N', 'N', 'N', 'N', 'N', 'N', 'N', 'SS', 'SS', 'N', '0', '0', '0', '0', '1', '2', '2', '2', '2', '1', '0', 'No', 'No', 'No', 'No', 'No', 'Yes, Non', 'Yes, Non', 'Yes, Non', 'Yes, Non', 'No', '1', '0', 'No', 'No', 'No', 'No', 'No', 'No', 'Yes', 'Yes', 'Yes', 'No', '1', 'No', 'No', 'No', 'No', 'No', 'No', 'No', 'No', 'No', 'No', '0'], ['30', 'Cryotherapy along with maintaining oral hygiene', 'NICRH', 'A. Mannan', '80', 'Male', '21/2882', '21/255', '1781301981', '', 'Vill:Doisara, PS:Nagarkandi, Dist:Faridpur', 'Officials', 'Married', 'Average', 'Below SSC', 'Former', 'HTN', '3', '1', 'Hypopharynx', '#REF!', 'T:3 N:1 M:0', '3', 'Squamous cell carcinoma', 'Intent radical', 'Co60(Phoneix)', '1.25', '6600', '33', '2', '5', '1.46', 'F\\\\C', 'Mid tragus', '', '3 cm behind ear lobule.', '', '', '', '', '', '', '', '', '', '', '', '', '0', '0', '0', '1', '1', '1', '2', '2', '3', '2', 'N', 'N', 'N', 'N', 'N', 'N', 'N', 'SS', 'SS', 'N', '0', '0', '0', '0', '1', '1', '1', '2', '2', '1', '0', 'No', 'No', 'No', 'No', 'No', 'No', 'Yes, Non', 'Yes, Non', 'Yes, Non', 'Yes', '1', '0', 'No', 'No', 'No', 'No', 'No', 'No', 'Yes', 'Yes', 'Yes', 'No', '1', 'No', 'No', 'No', 'No', 'No', 'No', 'No', 'No', 'No', 'No', '0'], ['31', 'Cryotherapy along with maintaining oral hygiene', 'NICRH', 'Hanif', '65', 'Male', '21/1718', '21/258', '1717071516', '', 'Bhola', 'Farmer', 'Married', 'Average', 'Below SSC', 'Former', 'No', '2', '', 'Oropharynx', '#REF!', '', '2', 'Squamous cell carcinoma', 'Intent radical', 'Co60(Phoneix)', '1.25', '6600', '33', '200', '5', '1.42', 'F\\\\C', 'Upper tragus', '', '3 cm behind ear lobule.', '', '16X13', '', '', '', '', '', '', '', '', '', '', '0', '0', '0', '1', '1', '2', '2', '3', '3', '2', 'N', 'N', 'N', 'N', 'SS', 'SS', 'SS', 'L', 'L', 'SS', '0', '0', '1', '1', '2', '2', '2', '3', '3', '2', '3', 'No', 'No', 'No', 'No', 'No', 'Yes', 'Yes', 'Yes', 'Yes', 'Yes', '1', '0', 'No', 'No', 'No', 'No', 'No', 'No', 'Yes', 'Yes', 'Yes', 'No', '1', 'No', 'No', 'No', 'No', 'No', 'No', 'No', 'No', 'No', 'No', '0'], ['49', 'Cryotherapy along with maintaining oral hygiene', 'NICRH', 'Bakul', '60', 'Male', '20/22244', '20/3480', '1791093222', '', 'Vill:Pakundia, PS:Pakundia, Dist:Kishoregonj', 'Farmer', 'Married', 'Average', 'Illiterate', 'Former', 'No', '2', '2', 'Oropharynx', '#REF!', '', '2', 'Squamous cell carcinoma', 'Intent radical', 'Co60(Phoneix)', '1.25', '6600', '33', '200', '5', '1.48', 'F\\\\C', 'Mid tragus', '', '3 cm behind ear lobule.', '', '10X13', '', '', '', '', '', '', '', '', '', '', '0', '0', '0', '0', '1', '1', '1', '2', '2', '2', 'N', 'N', 'N', 'N', 'N', 'N', 'SS', 'SS', 'SS', 'N', '0', '0', '0', '0', '1', '1', '2', '2', '2', '1', '0', 'No', 'No', 'No', 'No', 'No', 'No', 'No', 'Yes, Non', 'Yes, Non', 'Yes, Non', '1', '0', 'No', 'No', 'No', 'No', 'No', 'Yes', 'Yes', 'Yes', 'Yes', 'No', '1', 'No', 'No', 'No', 'No', 'No', 'No', 'No', 'No', 'No', 'No', '0'], ['51', 'Cryotherapy along with maintaining oral hygiene', 'NICRH', 'Motaleb', '60', 'Male', '20/19513', '20/3069', '1868361734', '', 'Mymensing', 'Farmer', 'Married', 'Average', 'Illiterate', 'Former', 'Diabetes, HTN', '2', '2', 'Oropharynx', '#REF!', 'T:3 N:2B M:X', '3', 'Squamous cell carcinoma', 'Intent radical', 'Co60', '1.25', '6600', '33', '200', '5', '', 'F\\\\C', 'Mid tragus', '', '3 cm behind ear lobule.', '', '12X15', '', '', '', '', '', '', '', '', '', '', '0', '0', '0', '1', '1', '1', '2', '2', '3', '2', 'N', 'N', 'N', 'N', 'N', 'N', 'SS', 'SS', 'N', 'N', '0', '0', '1', '1', '1', '1', '2', '2', '1', '1', '0', 'No', 'No', 'No', 'No', 'No', 'No', 'Yes, Non', 'Yes, Non', 'Yes, Non', 'Yes, Non', '1', '0', 'No', 'No', 'No', 'No', 'Yes', 'Yes', 'Yes', 'Yes', 'Yes', 'Yes', '1', 'No', 'No', 'No', 'No', 'No', 'No', 'No', 'No', 'No', 'No', '0'], ['52', 'Cryotherapy along with maintaining oral hygiene', 'NICRH', 'Nurul Islam', '60', 'Male', '21/357', '624', '1813846713', '', 'Vill:Lakshipur, PS:Ful Baria ,Dist:Mymensing', 'Farmer', 'Married', 'Average', 'Illiterate', 'Former', 'Diabetes', '3', '2', 'Oropharynx', '#REF!', '', '2', 'Squamous cell carcinoma', 'Intent radical', 'Co60', '1.25', '6600', '33', '2', '5', '1.41', 'F\\\\C', 'Mid tragus', '', '4 cm behind ear lobule.', '', '14X11', '', '', '', '', '', '', '', '', '', '', '0', '0', '0', '0', '1', '2', '2', '3', '2', '2', 'N', 'N', 'N', 'N', 'N', 'SS', 'SS', 'SS', 'N', 'N', '0', '0', '1', '2', '2', '2', '3', '3', '2', '1', '2', 'No', 'No', 'No', 'No', 'No', 'Yes, Non', 'Yes, Non', 'Yes, Non', 'Yes, Non', 'Yes, Non', '1', '0', 'No', 'No', 'No', 'No', 'Yes', 'Yes', 'Yes', 'Yes', 'Yes', 'Yes', '1', 'No', 'No', 'No', 'No', 'No', 'No', 'No', 'No', 'No', 'No', '0'], ['54', 'Cryotherapy along with maintaining oral hygiene', 'NICRH', 'Jashim', '60', 'Male', '21/6909', '21/819', '1703609502', '', 'Nikli, Kishoregonj', 'Farmer', 'Married', 'Average', 'Illiterate', 'Former', 'No', '2', '2', 'Others', '#REF!', '', '2', 'Others', 'Intent radical', 'Co60', '1.25', '6600', '33', '2', '5', '1.43', 'F\\\\C', '0.5cm below intra onntal ridge', '', 'Midlina', '', '7X15', '', '', '', '', '', '', '', '', '', '', '0', '0', '0', '1', '1', '1', '2', '2', '1', '1', 'N', 'N', 'N', 'N', 'N', 'N', 'SS', 'SS', 'SS', 'N', '0', '0', '0', '1', '1', '1', '2', '2', '2', '1', '0', 'No', 'No', 'No', 'No', 'No', 'No', 'Yes, Non', 'Yes, Non', 'No', 'No', '1', '0', 'No', 'No', 'No', 'No', 'Yes', 'Yes', 'Yes', 'Yes', 'Yes', 'Yes', '1', 'No', 'No', 'No', 'No', 'No', 'No', 'No', 'No', 'No', 'No', '0'], ['55', 'Cryotherapy along with maintaining oral hygiene', 'NICRH', 'Shahida', '50', 'Female', '20/19841', '20/3114', '1734826522', 'Mogbazar, Dhaka', 'Banaripara, Barisal', 'Others', 'Married', 'Average', 'Illiterate', 'Smokers in Family', 'No', '2', '2', 'Lip and Oral Cavity', 'Post-operative', 'T:4 N: M:', '4', 'Squamous cell carcinoma', 'Intent radical', 'Co600', '1.25', '6600', '33', '2', '5', '1.35', 'F\\\\C', 'Upper tragus', '', '3 cm behind ear lobule.', '', '13X13', '', '', '', '', '', '', '', '', '', '', '0', '0', '0', '1', '1', '2', '3', '3', '2', '1', 'N', 'N', 'N', 'N', 'N', 'N', 'SS', 'SS', 'SS', 'N', '0', '0', '1', '1', '1', '1', '2', '2', '2', '1', '0', 'No', 'No', 'No', 'No', 'No', 'No', 'Yes, Non', 'Yes, Non', 'Yes, Non', 'No', '1', '0', 'No', 'No', 'No', 'No', 'Yes', 'Yes', 'Yes', 'Yes', 'Yes', 'Yes', '1', 'No', 'No', 'No', 'No', 'No', 'No', 'No', 'No', 'No', 'No', '0'], ['56', 'Cryotherapy along with maintaining oral hygiene', 'NICRH', 'Fulo Rani', '45', 'Female', '21/6308', '21/721', '1315724831', 'Rangpur', '', 'Others', 'Married', 'Average', 'Illiterate', 'Smokers in Family', 'Diabetes', '2', '2', 'Larynx', '#REF!', 'T:4 N:2 M:0', '4', 'Squamous cell carcinoma', 'Intent radical', 'LINAC', '', '6600', '33', '2', '5', '', 'F\\\\C', '', '', '', '', '12X14', '', '', '', '', '', '', '', '', '', '', '0', '0', '0', '1', '1', '2', '3', '3', '2', '1', 'N', 'N', 'N', 'N', 'N', 'SS', 'SS', 'L', 'SS', 'N', '0', '0', '1', '1', '2', '2', '2', '3', '2', '1', '1', 'No', 'No', 'No', 'No', 'No', 'No', 'No', 'Yes, Non', 'Yes, Non', 'No', '1', '0', 'No', 'No', 'No', 'No', 'Yes', 'Yes', 'Yes', 'Yes', 'Yes', 'Yes', '1', 'No', 'No', 'No', 'No', 'No', 'No', 'No', 'No', 'No', 'No', '0'], ['57', 'Cryotherapy along with maintaining oral hygiene', 'NICRH', 'Atiar Rahman', '41', 'Male', '21/3091', '577/21', '191767182', 'Satkhira', '', 'Farmer', 'Married', 'Average', 'Below SSC', 'Former', 'No', '1', '2', 'Lip and Oral Cavity', 'Post-operative', 'T:3 N:2C M:0', '3', 'Squamous cell carcinoma', 'Intent radical', 'Co600', '1.25', '6000', '33', '2', '5', '1.47', 'F\\\\C', 'Mid tragus', '', '3 cm behind ear lobule.', '', '13X15', '', '', '', '', '', '', '', '', '', '', '0', '0', '0', '0', '1', '1', '1', '2', '2', '1', 'N', 'N', 'N', 'N', 'N', 'N', 'SS', 'SS', 'SS', 'N', '0', '0', '0', '1', '1', '1', '2', '2', '2', '1', '0', 'No', 'No', 'No', 'No', 'No', 'No', 'No', 'Yes, Non', 'Yes, Non', 'No', '1', '0', 'No', 'No', 'No', 'No', 'Yes', 'Yes', 'Yes', 'Yes', 'Yes', 'Yes', '1', 'No', 'No', 'No', 'No', 'No', 'No', 'No', 'No', 'No', 'No', '0'], ['1', 'Cryotherapy along with maintaining oral hygiene', 'NICRH', 'Shahidullah', '55', 'Male', '20/21127', '20/3233', '1624609120', 'Hatirjeel, Dhaka', 'Vill:Rongakhola,PO:Sahagonj, PS:Gouripur, Dist:Mymansing', 'Farmer', 'Married', 'Average', 'Below SSC', 'Former', 'No', '1', '2', 'Hypopharynx', '#REF!', 'T:2 N:1 M:X', '2', 'Squamous cell carcinoma', 'Intent radical', 'Co60', '1.25', '6600', '33', '200', '5', '1.38', 'F\\\\C', 'Mid tragus', '', '3 cm behind ear lobule.', '', '14X11', '', '', '', '', '', '', '', '', '', '', '0', '0', '0', '0', '1', '1', '2', '2', '1', '0', 'N', 'N', 'N', 'N', 'N', 'SS', 'SS', 'SS', 'L', 'SS', '0', '0', '1', '1', '1', '2', '2', '2', '3', '2', '2', 'No', 'No', 'No', 'No', 'No', 'No', 'Yes, Non', 'Yes, Non', 'Yes, Non', 'No', '1', '0', 'No', 'No', 'No', 'No', 'No', 'Yes', 'Yes', 'Yes', 'No', 'No', '1', 'No', 'No', 'No', 'No', 'No', 'No', 'No', 'No', 'No', 'No', '0'], ['2', 'Cryotherapy along with maintaining oral hygiene', 'NICRH', 'Nasima', '50', 'Female', '20/15490', '20/1677', '1721569087', '', 'Borguna', 'Others', 'Married', 'Poor', 'Illiterate', 'Never, Smokers in family', 'No', '2', '2', 'Lip and Oral Cavity', 'Post-operative', 'T:4b N:1 M:X', '4', 'Squamous cell carcinoma', 'Intent radical', 'Co60(Phoneix)', '1.25', '6600', '33', '2', '5', '1.33', 'F\\\\C', 'Mid tragus', '', '3 cm behind ear lobule.', '', '11X13', '', '', '', '', '', '', '', '', '', '', '0', '0', '0', '1', '1', '2', '2', '3', '2', '1', 'N', 'N', 'N', 'N', 'N', 'N', 'SS', 'SS', 'SS', 'N', '0', '0', '0', '1', '1', '1', '2', '2', '2', '1', '0', 'No', 'No', 'No', 'No', 'No', 'Yes, Non', 'Yes, Non', 'Yes, Non', 'Yes, Non', 'No', '1', '0', 'No', 'No', 'No', 'No', 'Yes', 'Yes', 'Yes', 'Yes', 'Yes', 'No', '1', 'No', 'No', 'No', 'No', 'No', 'No', 'No', 'No', 'No', 'No', '0'], ['3', 'Cryotherapy along with maintaining oral hygiene', 'NICRH', 'Sonya', '30', 'Female', '21/578', '288/21', '1910043791', '', 'Vill:Shalla,PO: ,PS:Joydebpur ,Dist:Gazipur', 'Officials', 'Married', 'Average', 'Below SSC', 'Never, Smokers in family', 'No', '2', '1', 'Larynx', '#REF!', 'T: 1 N: 0 M:X', '1', 'Squamous cell carcinoma', 'Intent radical', 'Co60(Phoneix)', '1.25', '6600', '33', '2', '5', '1.49', 'F\\\\C', '', '', '', '', '6X8', '', '', '', '', '', '', '', '', '', '', '0', '1', '2', '3', '4', '5', '6', '6', '5', '4', 'N', 'N', 'N', 'N', 'SS', 'SS', 'L', 'L', 'SS', 'SS', '0', '1', '1', '2', '2', '2', '3', '3', '2', '2', '2', 'No', 'No', 'No', 'Yes, Non, OP', 'Yes, Non, OP', 'Yes, Non, OP', 'Yes, OP', 'Yes, OP', 'Yes, Non', 'Yes, Non', '1', '1', 'No', 'No', 'No', 'No', 'Yes', 'Yes', 'Yes', 'Yes', 'Yes', 'No', '1', 'No', 'No', 'No', 'No', 'No', 'No', 'No', 'No', 'No', 'No', '0'], ['4', 'Cryotherapy along with maintaining oral hygiene', 'NICRH', 'Shahin', '50', 'Male', '20/5774', '103/21', '1772336317', '', 'Vill:Sohagdal, PS:Sarupkathi, Dist:Pirojpur', 'Day Labourer', 'Married', 'Poor', 'Illiterate', 'Former', 'HTN', '2', '2', 'Larynx', '#REF!', 'T:3 N:1 M:X', '3', 'Squamous cell carcinoma', 'Intent radical', 'Co60(Phoneix)', '1.25', '6600', '33', '200', '5', '2.1', 'F\\\\C', 'Mid tragus', '', '5 cm behind ear lobule.', '', '', '', '', '', '', '', '', '', '', '', '', '0', '0', '1', '1', '1', '2', '2', '3', '2', '2', 'N', 'N', 'N', 'N', 'N', 'SS', 'SS', 'SS', 'SS', 'N', '0', '1', '1', '1', '1', '2', '2', '2', '2', '1', '0', 'No', 'No', 'No', 'No', 'No', 'Yes, Non', 'Yes, Non', 'Yes, Non', 'Yes, Non', 'Yes, Non', '1', '0', 'No', 'No', 'No', 'No', 'No', 'Yes', 'Yes', 'Yes', 'Yes', 'No', '1', 'No', 'No', 'No', 'No', 'No', 'No', 'No', 'No', 'No', 'No', '0'], ['9', 'Cryotherapy along with maintaining oral hygiene', 'NICRH', 'Kamrul', '20', 'Male', '21/7395', '578/21', '1641748447', '57/A, Hazipara, Rampura', 'Vill:Aminpur, PS:Matlab, Dist:Chandpur', 'Others', 'Unmarried', 'Average', 'HSC', 'Never', 'No', '0', '2', 'Others', '#REF!', '', '3', 'Squamous cell carcinoma', 'Intent radical', 'Co60(Phoneix)', '1.25', '6000', '30', '2', '5', '2.44', 'Lt lat Face', 'A long the zygomatic arch', '', '3 cm behind ear lobule.', '', '', '', '', '', '', '', '', '', '', '', '', '0', '0', '0', '0', '0', '1', '1', '2', '1', '0', 'N', 'N', 'N', 'N', 'N', 'N', 'SS', 'SS', 'SS', 'N', '0', '0', '1', '1', '1', '1', '2', '2', '2', '1', '0', 'No', 'No', 'No', 'No', 'No', 'No', 'No', 'Yes, Non', 'No', 'No', '1', '0', 'No', 'No', 'No', 'No', 'No', 'No', 'No', 'No', 'No', 'No', '0', 'No', 'No', 'No', 'No', 'No', 'No', 'No', 'No', 'No', 'No', '0'], ['10', 'Cryotherapy along with maintaining oral hygiene', 'NICRH', 'Yusuf', '90', 'Male', '21/7791', '21/884', '1764930351', '', 'Vill:Gobna, PS:Gopalgonj, Dist:PS:Gopalgonj', 'Farmer', 'Married', 'Average', 'Below SSC', 'Former', 'HTN', '1', '2', 'Oropharynx', '#REF!', 'T:3 N:1 M:X', '3', 'Squamous cell carcinoma', 'Intent radical', 'LINAC', '', '6000', '30', '200', '5', '1.15', 'F\\\\C', 'Mid tragus', '', '3 cm behind ear lobule.', '', '10X12', '', '', '', '', '', '', '', '', '', '', '0', '0', '0', '1', '1', '1', '2', '2', '1', '1', 'N', 'N', 'N', 'N', 'N', 'N', 'SS', 'SS', 'N', 'N', '0', '0', '1', '1', '1', '1', '2', '2', '1', '1', '0', 'No', 'No', 'No', 'No', 'No', 'No', 'Yes, Non', 'Yes, Non', 'No', 'No', '1', '0', 'No', 'No', 'No', 'No', 'Yes', 'Yes', 'Yes', 'Yes', 'No', 'No', '1', 'No', 'No', 'No', 'No', 'No', 'No', 'No', 'No', 'No', 'No', '0'], ['11', 'Cryotherapy along with maintaining oral hygiene', 'NICRH', 'Abdul Jalil', '63', 'Male', '20/15959', '20/1709', '1816416121', '', 'Vill:Birkot, PS:Sunbag, Dist:Noakhali', 'Business', 'Married', 'Average', 'Below SSC', 'Former', 'No', '1', '2', 'Nasopharynx', '#REF!', 'T:2 N:2A M:X', '2', 'Others', 'Intent radical', 'LINAC', '', '6600', '33', '200', '5', '1.9', 'F\\\\C', '0.5cm above', '', '6 cm behind ear lobule.', '', '12X21', '', '', '', '', '', '', '', '', '', '', '0', '0', '0', '0', '1', '2', '2', '3', '2', '1', 'N', 'N', 'N', 'N', 'N', 'SS', 'SS', 'L', 'SS', 'SS', '0', '0', '1', '1', '2', '2', '2', '3', '2', '2', '1', 'No', 'No', 'No', 'No', 'No', 'Yes, Non', 'Yes, Non', 'Yes, Non', 'Yes, Non', 'No', '1', '0', 'No', 'No', 'No', 'No', 'Yes', 'Yes', 'Yes', 'Yes', 'Yes', 'No', '1', 'No', 'No', 'No', 'No', 'No', 'No', 'No', 'No', 'No', 'No', '0'], ['12', 'Cryotherapy along with maintaining oral hygiene', 'NICRH', 'Ishak Mia', '60', 'Male', '18/2166', '21/400', '1834280142', '', 'Vill:Boalia, PS:Hajigonj, Dist:Chandpur', 'Farmer', 'Married', 'Average', 'Below SSC', 'Former', 'No', '1', '1', 'Larynx', '#REF!', 'T:3 N:0 M:X', '3', 'Squamous cell carcinoma', 'Intent radical', 'Co60(Phoneix)', '1.25', '6600', '33', '200', '5', '1.4', 'F\\\\C', 'Upper tragus', '', '4 cm behind ear lobule.', '', '12X17', '', '', '', '', '', '', '', '', '', '', '0', '0', '1', '1', '1', '2', '2', '3', '2', '1', 'N', 'N', 'N', 'N', 'N', 'SS', 'SS', 'SS', 'N', 'N', '0', '0', '0', '0', '1', '2', '2', '2', '1', '1', '0', 'No', 'No', 'No', 'Yes, Non', 'Yes, Non', 'Yes, Non', 'Yes, Non', 'Yes, Non', 'Yes, Non', 'No', '1', '0', 'No', 'No', 'No', 'No', 'No', 'Yes', 'Yes', 'Yes', 'Yes', 'Yes', '1', 'No', 'No', 'No', 'No', 'No', 'No', 'No', 'No', 'No', 'No', '0'], ['14', 'Cryotherapy along with maintaining oral hygiene', 'NICRH', 'Salam Howlader', '54', 'Male', '21/2907', '21/354', '1725888124', 'Moghbazar railgate, Dhaka', 'Vill:Ranapasha,PS:Nalshiti,Dist:Jhalkathi', 'Farmer', 'Married', 'Average', 'Illiterate', 'Former', 'No', '2', '2', 'Oropharynx', '#REF!', '', '3', 'Squamous cell carcinoma', 'Intent radical', 'Co60(Phoneix)', '1.25', '6600', '33', '200', '5', '1.35', 'F\\\\C', 'Mid tragus', '', '4 cm behind ear lobule.', '', '10X16', '', '', '', '', '', '', '', '', '', '', '0', '0', '0', '1', '1', '1', '2', '2', '2', '1', 'N', 'N', 'N', 'N', 'N', 'N', 'N', 'N', 'SS', '', '0', '0', '0', '1', '1', '1', '1', '2', '2', '1', '0', 'No', 'No', 'No', 'No', 'No', 'No', 'Yes, Non', 'Yes, Non', 'Yes, Non', 'No', '1', '0', 'No', 'No', 'No', 'No', 'No', 'Yes', 'Yes', 'Yes', 'Yes', 'No', '1', 'No', 'No', 'No', 'No', 'No', 'No', 'No', 'No', 'No', 'No', '0'], ['16', 'Cryotherapy along with maintaining oral hygiene', 'NICRH', 'Mostafa', '63', 'Male', '20/22406', '20/3769', '1963180037', '', 'Vill:Kotiadi, PS:Kotiadi ,Dist:Kishoregonj', 'Business', 'Married', 'Poor', 'SSC', 'Former', 'No', '1', '1', 'Larynx', '#REF!', '', '3', 'Squamous cell carcinoma', 'Intent radical', 'Co60(Phoneix)', '1.25', '6600', '33', '2', '5', '1.46', 'F\\\\C', 'Mid tragus', '', '', '', '', '', '', '', '', '', '', '', '', '', '', '0', '0', '0', '1', '1', '1', '2', '2', '1', '1', 'N', 'N', 'N', 'N', 'N', 'N', 'N', 'SS', 'SS', 'N', '0', '0', '0', '1', '1', '1', '2', '3', '2', '1', '1', 'No', 'No', 'No', 'No', 'No', 'Yes, Non', 'Yes, Non', 'Yes, Non', 'Yes, Non', 'No', '1', '0', 'No', 'Yes', 'Yes', 'Yes', 'Yes', 'Yes', 'Yes', 'Yes', 'Yes', 'Yes', '1', 'No', 'No', 'No', 'No', 'No', 'No', 'No', 'No', 'No', 'No', '0'], ['18', 'Cryotherapy along with maintaining oral hygiene', 'NICRH', 'Masud', '50', 'Male', '20/24864', '467/21', '1684351440', 'Kalachandpur, Gulshan, Dhaka', 'Vill:Charpara, PS:Lalmohan ,Dist:Bhola', 'Day Labourer', 'Married', 'Average', 'Illiterate', 'Former', 'COPD', '2', '2', 'Larynx', '#REF!', 'T:3 N:1 M:X', '3', 'Squamous cell carcinoma', 'Intent radical', 'LINAC', '', '6600', '33', '200', '5', '1.17', 'F\\\\C', 'Mid tragus', '', '3 cm behind ear lobule.', '', '16X9', '', '', '', '', '', '', '', '', '', '', '0', '0', '0', '0', '1', '1', '1', '2', '2', '1', 'N', 'N', 'N', 'N', 'N', 'N', 'SS', 'SS', 'L', 'SS', '0', '0', '0', '1', '1', '1', '2', '2', '3', '2', '2', 'No', 'No', 'No', 'No', 'No', 'No', 'No', 'Yes, Non', 'Yes, Non', 'No', '1', '0', 'No', 'No', 'No', 'No', 'No', 'Yes', 'Yes', 'Yes', 'Yes', 'No', '1', 'No', 'No', 'No', 'No', 'No', 'No', 'No', 'No', 'No', 'No', '0'], ['21', 'Cryotherapy along with maintaining oral hygiene', 'NICRH', 'Shukkur Ali', '75', 'Male', '20/22253', '455/21', '1944406115', '', 'Vill:Raynagar, PO:Khasmahal, PS:Sirajfikhan ,Dist:Munshigonj', 'Farmer', 'Married', 'Average', 'Illiterate', 'Former', 'No', '1', '2', 'Larynx', '#REF!', 'T:3 N:1 M:0', '3', 'Squamous cell carcinoma', 'Intent radical', 'Co60(Phoneix)', '1.25', '6600', '33', '2', '5', '1.38', 'F\\\\C', 'Mid tragus', '', '3 cm behind ear lobule.', '', 'X', '', '', '', '', '', '', '', '', '', '', '0', '0', '0', '0', '1', '1', '1', '2', '1', '0', 'N', 'N', 'N', 'N', 'N', 'N', 'N', 'SS', 'SS', 'N', '0', '0', '0', '1', '1', '1', '1', '2', '2', '1', '0', 'No', 'No', 'No', 'No', 'No', 'No', 'No', 'Yes, Non', 'No', 'No', '1', '0', 'No', 'No', 'Yes', 'Yes', 'Yes', 'Yes', 'Yes', 'No', 'No', 'No', '1', 'No', 'No', 'No', 'No', 'No', 'No', 'No', 'No', 'No', 'No', '0'], ['20', 'Cryotherapy along with maintaining oral hygiene', 'NICRH', 'Renu Mia', '55', 'Male', '21/4841', '21/626', '1685882730', '', 'Vill:Shimantopur, PS:K. sadar ,Dist:Kishoregonj', 'Business', 'Married', 'Average', 'Illiterate', 'Former', 'No', '2', '', 'Larynx', '#REF!', '', '2', 'Squamous cell carcinoma', '', '', '', '6600', '', '', '', '', '', '', '', '', '', '', '', '', '', '', '', '', '', '', '', '', '0', '0', '0', '1', '1', '2', '2', '3', '2', '1', 'N', 'N', 'N', 'N', 'N', 'SS', 'SS', 'SS', 'N', 'N', '0', '0', '1', '1', '1', '2', '2', '3', '1', '1', '1', 'No', 'No', 'No', 'No', 'No', 'Yes, Non', 'Yes, Non', 'Yes, Non', 'Yes, Non', 'No', '1', '0', 'No', 'No', 'No', 'No', 'No', 'No', 'No', 'No', 'No', 'No', '0', 'No', 'No', 'No', 'No', 'No', 'No', 'No', 'No', 'No', 'No', '0'], ['23', 'Cryotherapy along with maintaining oral hygiene', 'NICRH', 'Ansar Ali', '80', 'Male', '21/8884', '21/1024', '1747635159', '', 'Munshigonj', 'Farmer', 'Married', 'Average', 'SSC', 'Former', 'HTN', '2', '2', 'Larynx', '#REF!', 'T:3 N:2C M:X', '3', 'Squamous cell carcinoma', 'Intent radical', 'LINAC', '', '6600', '33', '200', '5', '1.22', 'F\\\\C', 'Mid tragus', '', '3 cm behind ear lobule.', '', '12X14', '', '', '', '', '', '', '', '', '', '', '0', '0', '0', '1', '1', '1', '2', '2', '1', '1', 'N', 'N', 'N', 'N', 'N', 'N', 'SS', 'SS', 'N', 'N', '0', '0', '1', '1', '1', '2', '2', '2', '1', '1', '0', 'No', 'No', 'No', 'No', 'No', 'Yes, Non', 'Yes, Non', 'Yes, Non', 'No', 'No', '1', '0', 'No', 'No', 'No', 'No', 'Yes', 'Yes', 'Yes', 'Yes', 'Yes', 'No', '1', 'No', 'No', 'No', 'No', 'No', 'No', 'No', 'No', 'No', 'No', '0'], ['27', 'Cryotherapy along with maintaining oral hygiene', 'NICRH', 'Mofiz', '55', 'Male', '21/9927', '715/21', '1846598362', 'Begunbari, Dhaka', 'Vill:Kollandi, PS:sadar, Dist:Chandpur', 'Business', 'Married', 'Average', 'Illiterate', 'Former', 'No', '1', '2', 'Hypopharynx', '#REF!', 'T:3 N:0 M:0', '3', 'Squamous cell carcinoma', 'Intent radical', 'Co60(Phoneix)', '1.25', '6600', '33', '2', '5', '1.43', 'F\\\\C', '2 cm above mandible', '', '3 cm behind ear lobule.', '', '12X11', '', '', '', '', '', '', '', '', '', '', '0', '0', '0', '1', '1', '1', '2', '2', '3', '2', 'N', 'N', 'N', 'N', 'N', 'N', 'SS', 'SS', 'SS', 'N', '0', '0', '0', '1', '1', '1', '2', '2', '2', '1', '0', 'No', 'No', 'No', 'No', 'No', 'No', 'Yes, Non', 'Yes, Op', 'Yes, Op', 'Yes, Op', '1', '1', 'No', 'No', 'No', 'No', 'No', 'Yes', 'Yes', 'Yes', 'Yes', 'No', '1', 'No', 'No', 'No', 'No', 'No', 'No', 'No', 'No', 'No', 'No', '0'], ['28', 'Cryotherapy along with maintaining oral hygiene', 'NICRH', 'Suroj Mia', '61', 'Male', '21/2081', '621/21', '1913974248', 'Mohakhali, Dhaka', 'Kishoregonj', 'Farmer', 'Married', 'Average', 'Illiterate', 'Former', 'No', '1', '1', 'Larynx', '#REF!', 'T:2 N:0 M:0', '2', 'Squamous cell carcinoma', 'Intent radical', 'Co60(Phoneix)', '1.25', '6600', '33', '2', '5', '1.48', 'F\\\\C', 'Mid tragus', '', '4 cm behind ear lobule.', '', '12X16', '', '', '', '', '', '', '', '', '', '', '0', '0', '0', '1', '1', '2', '2', '3', '2', '1', 'N', 'N', 'N', 'N', 'N', 'N', 'N', 'SS', 'SS', 'N', '0', '0', '0', '0', '1', '1', '1', '2', '2', '1', '0', 'No', 'No', 'No', 'No', 'No', 'Yes, Non', 'Yes, Non', 'Yes, Non', 'Yes, Non', 'No', '1', '0', 'No', 'No', 'No', 'No', 'No', 'No', 'Yes', 'Yes', 'Yes', 'No', '1', 'No', 'No', 'No', 'No', 'No', 'No', 'No', 'No', 'No', 'No', '0'], ['30', 'Cryotherapy along with maintaining oral hygiene', 'NICRH', 'A. Mannan', '80', 'Male', '21/2882', '21/255', '1781301981', '', 'Vill:Doisara, PS:Nagarkandi, Dist:Faridpur', 'Officials', 'Married', 'Average', 'Below SSC', 'Former', 'HTN', '3', '1', 'Hypopharynx', '#REF!', 'T:3 N:1 M:0', '3', 'Squamous cell carcinoma', 'Intent radical', 'Co60(Phoneix)', '1.25', '6600', '33', '2', '5', '1.46', 'F\\\\C', 'Mid tragus', '', '3 cm behind ear lobule.', '', '', '', '', '', '', '', '', '', '', '', '', '0', '0', '0', '1', '1', '1', '2', '2', '3', '2', 'N', 'N', 'N', 'N', 'N', 'N', 'N', 'SS', 'SS', 'N', '0', '0', '0', '0', '1', '1', '1', '2', '2', '1', '0', 'No', 'No', 'No', 'No', 'No', 'No', 'Yes, Non', 'Yes, Non', 'Yes, Non', 'Yes', '1', '0', 'No', 'No', 'No', 'No', 'No', 'No', 'Yes', 'Yes', 'Yes', 'No', '1', 'No', 'No', 'No', 'No', 'No', 'No', 'No', 'No', 'No', 'No', '0'], ['31', 'Cryotherapy along with maintaining oral hygiene', 'NICRH', 'Hanif', '65', 'Male', '21/1718', '21/258', '1717071516', '', 'Bhola', 'Farmer', 'Married', 'Average', 'Below SSC', 'Former', 'No', '2', '', 'Oropharynx', '#REF!', '', '2', 'Squamous cell carcinoma', 'Intent radical', 'Co60(Phoneix)', '1.25', '6600', '33', '200', '5', '1.42', 'F\\\\C', 'Upper tragus', '', '3 cm behind ear lobule.', '', '16X13', '', '', '', '', '', '', '', '', '', '', '0', '0', '0', '1', '1', '2', '2', '3', '3', '2', 'N', 'N', 'N', 'N', 'SS', 'SS', 'SS', 'L', 'L', 'SS', '0', '0', '1', '1', '2', '2', '2', '3', '3', '2', '3', 'No', 'No', 'No', 'No', 'No', 'Yes', 'Yes', 'Yes', 'Yes', 'Yes', '1', '0', 'No', 'No', 'No', 'No', 'No', 'No', 'Yes', 'Yes', 'Yes', 'No', '1', 'No', 'No', 'No', 'No', 'No', 'No', 'No', 'No', 'No', 'No', '0'], ['49', 'Cryotherapy along with maintaining oral hygiene', 'NICRH', 'Bakul', '60', 'Male', '20/22244', '20/3480', '1791093222', '', 'Vill:Pakundia, PS:Pakundia, Dist:Kishoregonj', 'Farmer', 'Married', 'Average', 'Illiterate', 'Former', 'No', '2', '2', 'Hypopharynx', '#REF!', '', '2', 'Squamous cell carcinoma', 'Intent radical', 'Co60(Phoneix)', '1.25', '6600', '33', '200', '5', '1.48', 'F\\\\C', 'Mid tragus', '', '3 cm behind ear lobule.', '', '10X13', '', '', '', '', '', '', '', '', '', '', '0', '0', '0', '0', '1', '1', '1', '2', '2', '2', 'N', 'N', 'N', 'N', 'N', 'N', 'SS', 'SS', 'SS', 'N', '0', '0', '0', '0', '1', '1', '2', '2', '2', '1', '0', 'No', 'No', 'No', 'No', 'No', 'No', 'No', 'Yes, Non', 'Yes, Non', 'Yes, Non', '1', '0', 'No', 'No', 'No', 'No', 'No', 'Yes', 'Yes', 'Yes', 'Yes', 'No', '1', 'No', 'No', 'No', 'No', 'No', 'No', 'No', 'No', 'No', 'No', '0'], ['51', 'Cryotherapy along with maintaining oral hygiene', 'NICRH', 'Motaleb', '60', 'Male', '20/19513', '20/3069', '1868361734', '', 'Mymensing', 'Farmer', 'Married', 'Average', 'Illiterate', 'Former', 'Diabetes, HTN', '2', '2', 'Oropharynx', '#REF!', 'T:3 N:2B M:X', '3', 'Squamous cell carcinoma', 'Intent radical', 'Co60', '1.25', '6600', '33', '200', '5', '', 'F\\\\C', 'Mid tragus', '', '3 cm behind ear lobule.', '', '12X15', '', '', '', '', '', '', '', '', '', '', '0', '0', '0', '1', '1', '1', '2', '2', '3', '2', 'N', 'N', 'N', 'N', 'N', 'N', 'SS', 'SS', 'N', 'N', '0', '0', '1', '1', '1', '1', '2', '2', '1', '1', '0', 'No', 'No', 'No', 'No', 'No', 'No', 'Yes, Non', 'Yes, Non', 'Yes, Non', 'Yes, Non', '1', '0', 'No', 'No', 'No', 'No', 'Yes', 'Yes', 'Yes', 'Yes', 'Yes', 'Yes', '1', 'No', 'No', 'No', 'No', 'No', 'No', 'No', 'No', 'No', 'No', '0'], ['52', 'Cryotherapy along with maintaining oral hygiene', 'NICRH', 'Nurul Islam', '60', 'Male', '21/357', '624', '1813846713', '', 'Vill:Lakshipur, PS:Ful Baria ,Dist:Mymensing', 'Farmer', 'Married', 'Average', 'Illiterate', 'Former', 'Diabetes', '3', '2', 'Oropharynx', '#REF!', '', '2', 'Squamous cell carcinoma', 'Intent radical', 'Co60', '1.25', '6600', '33', '2', '5', '1.41', 'F\\\\C', 'Mid tragus', '', '4 cm behind ear lobule.', '', '14X11', '', '', '', '', '', '', '', '', '', '', '0', '0', '0', '0', '1', '2', '2', '3', '2', '2', 'N', 'N', 'N', 'N', 'N', 'SS', 'SS', 'SS', 'N', 'N', '0', '0', '1', '1', '2', '2', '2', '3', '1', '1', '1', 'No', 'No', 'No', 'No', 'No', 'Yes, Non', 'Yes, Non', 'Yes, Non', 'Yes, Non', 'Yes, Non', '1', '0', 'No', 'No', 'No', 'No', 'Yes', 'Yes', 'Yes', 'Yes', 'Yes', 'Yes', '1', 'No', 'No', 'No', 'No', 'No', 'No', 'No', 'No', 'No', 'No', '0'], ['54', 'Cryotherapy along with maintaining oral hygiene', 'NICRH', 'Jashim', '60', 'Male', '21/6909', '21/819', '1703609502', '', 'Nikli, Kishoregonj', 'Farmer', 'Married', 'Average', 'Illiterate', 'Former', 'No', '2', '2', 'Others', '#REF!', '', '2', 'Others', 'Intent radical', 'Co60', '1.25', '6600', '33', '2', '5', '1.43', 'F\\\\C', '0.5cm below intra onntal ridge', '', 'Midlina', '', '7X15', '', '', '', '', '', '', '', '', '', '', '0', '0', '0', '1', '1', '1', '2', '2', '1', '1', 'N', 'N', 'N', 'N', 'N', 'N', 'SS', 'SS', 'SS', 'N', '0', '0', '0', '1', '1', '1', '2', '2', '2', '1', '0', 'No', 'No', 'No', 'No', 'No', 'No', 'Yes, Non', 'Yes, Non', 'No', 'No', '1', '0', 'No', 'No', 'No', 'No', 'Yes', 'Yes', 'Yes', 'Yes', 'Yes', 'Yes', '1', 'No', 'No', 'No', 'No', 'No', 'No', 'No', 'No', 'No', 'No', '0'], ['55', 'Cryotherapy along with maintaining oral hygiene', 'NICRH', 'Shahida', '50', 'Female', '20/19841', '20/3114', '1734826522', 'Mogbazar, Dhaka', 'Banaripara, Barisal', 'Others', 'Married', 'Average', 'Illiterate', 'Smokers in Family', 'No', '2', '2', 'Lip and Oral Cavity', 'Post-operative', 'T:4 N: M:', '4', 'Squamous cell carcinoma', 'Intent radical', 'Co600', '1.25', '6600', '33', '2', '5', '1.35', 'F\\\\C', 'Upper tragus', '', '3 cm behind ear lobule.', '', '13X13', '', '', '', '', '', '', '', '', '', '', '0', '0', '0', '1', '1', '2', '3', '3', '2', '1', 'N', 'N', 'N', 'N', 'N', 'N', 'SS', 'SS', 'SS', 'N', '0', '0', '1', '1', '1', '1', '2', '2', '2', '1', '0', 'No', 'No', 'No', 'No', 'No', 'No', 'Yes, Non', 'Yes, Non', 'Yes, Non', 'No', '1', '0', 'No', 'No', 'No', 'No', 'Yes', 'Yes', 'Yes', 'Yes', 'Yes', 'Yes', '1', 'No', 'No', 'No', 'No', 'No', 'No', 'No', 'No', 'No', 'No', '0'], ['56', 'Cryotherapy along with maintaining oral hygiene', 'NICRH', 'Fulo Rani', '45', 'Female', '21/6308', '21/721', '1315724831', 'Rangpur', '', 'Others', 'Married', 'Average', 'Illiterate', 'Smokers in Family', 'Diabetes', '2', '2', 'Larynx', '#REF!', 'T:4 N:2 M:0', '4', 'Squamous cell carcinoma', 'Intent radical', 'LINAC', '', '6600', '33', '2', '5', '', 'F\\\\C', '', '', '', '', '12X14', '', '', '', '', '', '', '', '', '', '', '0', '0', '0', '1', '1', '2', '3', '3', '2', '1', 'N', 'N', 'N', 'N', 'N', 'SS', 'SS', 'L', 'SS', 'N', '0', '0', '1', '1', '1', '2', '2', '3', '2', '1', '1', 'No', 'No', 'No', 'No', 'No', 'No', 'No', 'Yes, Non', 'Yes, Non', 'No', '1', '0', 'No', 'No', 'No', 'No', 'Yes', 'Yes', 'Yes', 'Yes', 'Yes', 'Yes', '1', 'No', 'No', 'No', 'No', 'No', 'No', 'No', 'No', 'No', 'No', '0'], ['57', 'Cryotherapy along with maintaining oral hygiene', 'NICRH', 'Atiar Rahman', '41', 'Male', '21/3091', '577/21', '191767182', 'Satkhira', '', 'Farmer', 'Married', 'Average', 'Below SSC', 'Former', 'No', '1', '2', 'Lip and Oral Cavity', 'Post-operative', 'T:3 N:2C M:0', '3', 'Squamous cell carcinoma', 'Intent radical', 'Co600', '1.25', '6000', '33', '2', '5', '1.47', 'F\\\\C', 'Mid tragus', '', '3 cm behind ear lobule.', '', '13X15', '', '', '', '', '', '', '', '', '', '', '0', '0', '0', '0', '1', '1', '1', '2', '2', '1', 'N', 'N', 'N', 'N', 'N', 'N', 'SS', 'SS', 'SS', 'N', '0', '0', '0', '1', '1', '1', '2', '2', '2', '1', '0', 'No', 'No', 'No', 'No', 'No', 'No', 'No', 'Yes, Non', 'Yes, Non', 'No', '1', '0', 'No', 'No', 'No', 'No', 'Yes', 'Yes', 'Yes', 'Yes', 'Yes', 'Yes', '1', 'No', 'No', 'No', 'No', 'No', 'No', 'No', 'No', 'No', 'No', '0'], ['5', 'Maintaining oral hygiene only', 'NICRH', 'Josna', '62', 'Female', '20/24578', '20/3257', '1714203412', '', 'Vill: ,PO: ,PS: ,Dist:', 'Others', 'Married', 'Average', 'Illiterate', 'Smokers in Family', 'Diabetes, HTN', '2', '2', 'Nasal Cavity paranasal sinus', '#REF!', '', '3', 'Others', 'Intent radical', 'Co60(Phoneix)', '1.25', '6000', '30', '24', '5', '1.31', 'F\\\\C', 'Supna onntal ridge', '', '', '', '7X9,8X9', '', '', '', '', '', '', '', '', '', '', '0', '1', '1', '2', '2', '3', '4', '5', '5', '4', 'N', 'N', 'N', 'SS', 'SS', 'L', 'NO', 'NO', 'SS', 'L', '0', '1', '1', '2', '3', '3', '3', '3', '3', '3', '8', 'No', 'No', 'No', 'No', 'YES', 'YES', 'YES', 'YES', 'YES', 'YES', '1', '0', 'No', 'No', 'No', 'Yes', 'Yes', 'Yes', 'Yes', 'Yes', 'Yes', 'Yes', '1', 'No', 'No', 'No', 'NO', 'No', 'No', 'No', 'No', 'No', 'No', '0'], ['7', 'Maintaining oral hygiene only', 'NICRH', 'Rekha', '32', 'Female', '20/25665', '458/21', '1729768019', '', 'Vill:Palashbari ,PO:Savar ,PS:Savar ,Dist:Dhaka', 'Day Labourer', 'Married', 'Average', 'Below SSC', 'Never', 'Diabetes', '1', '2', 'Others', '#REF!', '', '3', 'Squamous cell carcinoma', 'Intent radical', 'Co60(Phoneix)', '1.25', '6000', '30', '2', '5', '1.26', 'F\\\\C', 'Upper tragus', '', '3 cm behind ear', '', 'X', '', '', '', '', '', '', '', '', '', '', '0', '1', '2', '3', '4', '5', '5', '6', '5', '4', 'N', 'N', 'N', 'N', 'SS', 'SS', 'SS', 'L', 'L', 'SS', '0', '0', '1', '1', '2', '2', '2', '3', '3', '2', '3', 'No', 'No', 'No', 'Yes, Non', 'Yes, Non', 'Yes, Non', 'Yes, Op', 'Yes, Op', 'Yes, Non', 'Yes, Non', '1', '1', 'No', 'No', 'No', 'No', 'No', 'Yes', 'Yes', 'Yes', 'Yes', 'Yes', '1', 'No', 'No', 'No', 'No', 'No', 'No', 'No', 'No', 'No', 'No', '0'], ['13', 'Maintaining oral hygiene only', 'NICRH', 'Joynal', '54', 'Male', '20/21950', '', '1878742765', '', 'Vill:Abdullahpur, PS:Astogram ,Dist:Kishoregonj', 'Farmer', 'Married', 'Average', 'Below SSC', 'Former', 'No', '0', '2', 'Larynx', '#REF!', 'T:3 N:1 M:X', '3', 'Squamous cell carcinoma', 'Intent radical', 'LINAC', '1.25', '6600', '33', '200', '5', '1.4', 'F\\\\C', 'Mid tragus', '', '3 cm behind ear', '', '12X15', '', '', '', '', '', '', '', '', '', '', '0', '0', '0', '1', '1', '1', '1', '2', '1', '1', 'N', 'N', 'N', 'N', 'N', 'N', 'N', 'SS', 'SS', 'N', '0', '0', '0', '1', '2', '2', '3', '3', '2', '1', '2', 'No', 'No', 'No', 'No', 'No', 'No', 'Yes, Non', 'Yes, Non', 'Yes, Non', 'No', '1', '0', 'No', 'No', 'No', 'No', 'No', 'Yes', 'Yes', 'Yes', 'Yes', 'No', '1', 'No', 'No', 'No', 'No', 'No', 'No', 'No', 'No', 'No', 'No', '0'], ['19', 'Maintaining oral hygiene only', 'NICRH', 'Bibi Morium', '60', 'Female', '20/12361', '20/3353', '1727523024', '', 'Vill:Daulatkhan ,PO: ,PS:Daulatkhan ,Dist:Bhola', 'Others', 'Married', 'Average', 'Below SSC', 'Former', 'No', '2', '2', 'Lip and Oral Cavity', 'Post-operative', 'T: 2 N: 1 M:', '2', 'Squamous cell carcinoma', 'Intent radical', 'Co60(Phoneix)', '1.25', '6600', '33', '200', '5', '1.33 min', 'F\\\\C', 'Mid tragus', '', '3 cm behind ear lobule.', '', '10X14', '', '', '', '', '', '', '', '', '', '', '0', '0', '2', '3', '5', '6', '7', '8', '8', '7', 'N', 'N', 'N', 'SS', 'SS', 'L', 'L', 'L', 'SS', 'SS', '0', '1', '1', '2', '2', '3', '3', '3', '2', '2', '3', 'No', 'No', 'Yes, Non', 'Yes, Non', 'Yes, Non', 'Yes, Op', 'Yes, Op', 'Yes, Op', 'Yes, Op', 'Yes, Op', '1', '1', 'No', 'No', 'No', 'Yes', 'Yes', 'Yes', 'Yes', 'Yes', '', 'No', '1', 'No', 'No', 'No', 'No', 'No', 'No', 'No', 'No', 'No', 'No', '0'], ['22', 'Maintaining oral hygiene only', 'NICRH', 'Fazar Ali', '66', 'Male', '20/18370', '20/1992', '16747654160', 'Manikgang', 'Vill: ,PO: ,PS: ,Dist:', 'Others', 'Married', 'Average', 'Below SSC', 'Former', 'Diabetes', '2', '2', 'Oropharynx', '#REF!', 'T: 4 N: 0 M:0', '4', 'Squamous cell carcinoma', 'Intent radical', 'Co60(Phoneix)', '1.25', '6600', '33', '200', '5', '', 'F\\\\C', 'Mid tragus', '', '3 cm behind ear', '', '12X14', '', '', '', '', '', '', '', '', '', '', '0', '1', '2', '2', '3', '4', '5', '6', '7', '6', 'N', 'N', 'SS', 'SS', 'SS', 'L', 'L', 'NO', 'NO', 'L', '0', '1', '2', '3', '3', '3', '3', '4', '3', '3', '8', 'No', 'No', 'Yes, Non', 'Yes, Non', 'Yes, Non', 'Yes, Non', 'Yes, Non', 'Yes, Op', 'Yes, Op', 'Yes, Op', '1', '1', 'No', 'No', 'Yes', 'Yes', 'Yes', 'Yes', 'Yes', 'Yes', 'Yes', 'No', '1', 'No', 'No', 'No', 'No', 'No', 'No', 'No', 'No', 'No', 'No', '0'], ['24', 'Maintaining oral hygiene only', 'NICRH', 'Shiron', '58', 'Male', '20/18040', '20/1965', '1684285299', 'B.Baria', 'Vill: ,PO: ,PS: ,Dist:', 'Farmer', 'Married', 'Average', 'Below SSC', 'Former', 'No', '1', '2', 'Larynx', '#REF!', 'T:3 N:1 M:', '3', 'Squamous cell carcinoma', 'Intent radical', 'Co60(Phoneix)', '1.25', '6600', '33', '200', '5', '1.39 min', 'F\\\\C', 'Lower tragus', '', '3 cm behind ear', '', '10X14', '', '', '', '', '', '', '', '', '', '', '0', '0', '1', '1', '2', '3', '4', '5', '6', '6', 'N', 'N', 'N', 'SS', 'SS', 'L', 'L', 'L', 'NO', 'L', '0', '1', '1', '2', '2', '3', '3', '3', '2', '1', '5', 'No', 'No', 'No', 'Yes, Non', 'Yes, Non', 'Yes, Non', 'Yes, Non', 'Yes, Non', 'Yes, Non', 'Yes, Non', '1', '0', 'No', 'No', 'No', 'No', 'Yes', 'Yes', 'Yes', 'Yes', 'Yes', 'No', '1', 'No', 'No', 'No', 'No', 'No', 'No', 'No', 'No', 'No', 'No', '0'], ['25', 'Maintaining oral hygiene only', 'NICRH', 'Harun', '55', 'Male', '20/23171', '412/21', '1712305765', 'Shariontpur', 'Vill: ,PO: ,PS: ,Dist:', 'Farmer', 'Married', 'Average', 'Below SSC', 'Former', 'No', '2', '2', 'Larynx', '#REF!', '', '3', 'Squamous cell carcinoma', 'Intent radical', 'Co60(Phoneix)', '1.25', '6600', '33', '24', '5', '1.37 min', 'F\\\\C', 'Mid tragus', '', '3 cm behind ear', '', 'X', '', '', '', '', '', '', '', '', '', '', '0', '0', '1', '1', '2', '3', '4', '5', '6', '6', 'N', 'N', 'N', 'SS', 'SS', 'L', 'L', 'NO', 'NO', 'L', '0', '1', '1', '2', '2', '3', '3', '4', '4', '3', '4', 'No', 'No', 'No', 'No', 'Yes, Non', 'Yes, Non', 'Yes, Non', 'Yes, Non', 'Yes, Op', 'Yes, Op', '1', '1', 'No', 'No', 'No', 'No', '', 'Yes', 'Yes', 'Yes', '', 'No', '1', 'No', 'No', 'No', 'No', 'No', 'No', 'No', 'No', 'No', 'No', '0'], ['26', 'Maintaining oral hygiene only', 'NICRH', 'Naima Begum', '70', 'Female', '20/14342', '1776/20', '1941345748', 'Khulna', 'Vill: ,PO: ,PS: ,Dist:', 'Others', 'Married', 'Average', 'Illiterate', 'Never', 'Diabetes, HTN', '3', '2', 'Hypopharynx', '#REF!', '', '3', 'Squamous cell carcinoma', 'Intent radical', 'Co60(Phoneix)', '1.25', '6000', '30', '24', '5', '1.38', 'F\\\\C', 'Lower tragus', '', '3 cm behind ear', '', 'X', '', '', '', '', '', '', '', '', '', '', '0', '1', '2', '3', '4', '6', '7', '8', '8', '7', 'N', 'N', 'N', 'SS', 'SS', 'L', 'L', 'NO', 'NO', 'L', '0', '1', '2', '3', '3', '3', '3', '4', '3', '3', '8', 'No', 'No', 'Yes, Non', 'Yes, Non', 'Yes, Non', 'Yes, Non', 'Yes, Non', 'Yes, Non', 'Yes, Non', 'Yes, Non', '1', '0', 'No', 'No', 'No', 'Yes', 'Yes', 'Yes', 'Yes', 'Yes', 'Yes', 'No', '1', 'No', 'No', 'No', 'No', 'No', 'No', 'No', 'No', 'No', 'No', '0'], ['29', 'Maintaining oral hygiene only', 'NICRH', 'Liakot', '50', 'Male', '20/21705', '302/21', '1733892169', 'Mohakhali, Dhaka', 'Vill:Rajapur ,PO: ,PS:Burigang ,Dist:Cumilla', 'Officials', 'Married', 'Average', 'Below SSC', 'Former', 'HTN', '1', '2', 'Larynx', '#REF!', 'T:3 N: 0 M:0', '3', 'Squamous cell carcinoma', 'Intent radical', '', '1.25', '6600', '33', '200', '5', '', 'F\\\\C', 'Lower tragus', '', '3 cm behind ear', '', '12X07', '', '', '', '', '', '', '', '', '', '', '0', '0', '1', '2', '2', '3', '3', '4', '3', '2', 'N', 'N', 'N', 'N', 'N', 'SS', 'SS', 'L', 'L', 'SS', '0', '0', '1', '1', '1', '2', '2', '3', '3', '2', '3', 'No', 'No', 'No', 'Yes, Non', 'Yes, Non', 'Yes, Non', 'Yes, Non', 'Yes, Non', 'Yes, Non', 'Yes, Non', '1', '0', 'No', 'No', 'No', 'No', 'Yes', 'Yes', 'Yes', 'Yes', 'Yes', 'No', '1', 'No', 'No', 'No', 'No', 'No', 'No', 'No', 'No', 'No', 'No', '0'], ['34', 'Maintaining oral hygiene only', 'NICRH', 'Minoti', '65', 'Female', '21/5319', '599/21', '1821552889', 'Noakhali', '', 'Others', 'Married', 'Average', 'Illiterate', 'Smokers in Family', 'Diabetes, HTN', '3', '1', 'Lip and Oral Cavity', 'Post-operative', 'T:1 N:1 M:X', '1', 'Squamous cell carcinoma', 'Intent radical', 'Co60(Phoneix)', '1.25', '6600', '30', '24', '5', '1.29', 'F\\\\C', 'Mid tragus', '', '3 cm behind ear', '', 'X', '', '', '', '', '', '', '', '', '', '', '0', '2', '3', '4', '6', '7', '8', '8', '7', '6', 'N', 'N', 'N', 'SS', 'SS', 'L', 'L', 'L', 'No', 'L', '0', '1', '1', '2', '2', '3', '3', '3', '2', '1', '5', 'No', 'Yes, Non', 'Yes, Non', 'Yes, Non', 'Yes, Non', 'Yes, Op', 'Yes, Op', 'Yes, Op', 'Yes, Op', 'Yes, Non', '1', '1', 'No', 'No', 'No', 'No', 'Yes', 'Yes', 'Yes', 'Yes', 'Yes', 'No', '1', 'No', 'No', 'No', 'No', 'No', 'No', 'Yes', 'No', 'No', 'No', '1'], ['35', 'Maintaining oral hygiene only', 'NICRH', 'Emdad', '45', 'Male', '20/2178', '17/21', '1760723580', 'Mymensing', '', 'Day Labourer', 'Married', 'Poor', 'Illiterate', 'Former', 'No', '1', '2', 'Larynx', '#REF!', 'T:3 N:1 M:X', '3', 'Squamous cell carcinoma', 'Intent radical', 'Co60(Phoneix)', '1.25', '6600', '33', '24', '5', '1.3', 'F\\\\C', 'Mid tragus', '', '3 cm behind ear', '', 'X', '', '', '', '', '', '', '', '', '', '', '0', '2', '4', '5', '5', '5', '6', '7', '6', '6', 'N', 'N', 'N', 'N', 'SS', 'SS', 'SS', 'L', 'L', 'SS', '0', '1', '2', '3', '3', '3', '3', '4', '3', '2', '7', 'No', 'No', 'Yes, Non', 'Yes, Non', 'Yes, Non', 'Yes, Op', 'Yes, Op', 'Yes, Non', 'Yes, Non', 'Yes, Non', '1', '1', 'No', 'No', 'No', 'Yes', 'Yes', 'Yes', 'Yes', 'Yes', 'Yes', 'No', '1', 'No', 'No', 'No', 'No', 'No', 'No', 'No', 'No', 'No', 'No', '0'], ['36', 'Maintaining oral hygiene only', 'NICRH', 'Ramyan', '62', 'Male', '20/16650', '51/21', '1968465380', 'Gazipur', '', 'Business', 'Married', 'Average', 'HSC', 'Former', 'HTN', '2', '2', 'Lip and Oral Cavity', 'Post-operative', 'T:4 N:0 M:0', '4', 'Squamous cell carcinoma', 'Intent radical', 'Co60', '1.25', '6600', '30', '24', '5', '1.42', 'F\\\\C', 'Mid tragus', '', '3 cm behind ear', '', '11X13', '', '', '', '', '', '', '', '', '', '', '0', '1', '2', '3', '3', '4', '5', '7', '6', '5', 'N', 'N', 'SS', 'SS', 'SS', 'L', 'L', 'NO', 'NO', 'L', '0', '1', '2', '2', '3', '3', '3', '4', '4', '3', '5', 'No', 'No', 'Yes, Non', 'Yes, Non', 'Yes, Non', 'Yes, Non', 'Yes, Non', 'Yes, Op', 'Yes, Non', 'Yes, Non', '1', '1', 'No', 'No', 'No', 'Yes', 'Yes', 'Yes', 'Yes', 'Yes', 'Yes', 'No', '1', 'No', 'No', 'No', 'No', 'No', 'No', 'No', 'No', 'No', 'No', '0'], ['37', 'Maintaining oral hygiene only', 'NICRH', 'Rabeya', '60', 'Female', '20/19096', '1704/20', '1880126752', 'Chandpur', '', 'Others', 'Married', 'Average', 'Below SSC', 'Never, Smokers in family', 'Diabetes, HTN', '2', '2', 'Lip and Oral Cavity', 'Post-operative', 'T: 2 N:0 M:X', '2', 'Squamous cell carcinoma', 'Intent radical', 'Co60', '1.25', '6000', '30', '24', '5', '1.25', 'F\\\\C', 'Mid tragus', '', '3 cm behind ear', '', '8X13', '', '', '', '', '', '', '', '', '', '', '0', '1', '2', '3', '4', '4', '5', '6', '7', '6', 'N', 'N', 'N', 'SS', 'SS', 'L', 'L', 'NO', 'NO', 'L', '0', '1', '1', '2', '2', '3', '3', '3', '3', '2', '7', 'No', 'No', 'No', 'Yes, Non', 'Yes, Non', 'Yes, Non', 'Yes, Non', 'Yes, Non', 'Yes, Non', 'Yes, Non', '1', '0', 'No', 'No', 'No', 'Yes', 'Yes', 'Yes', 'Yes', 'Yes', 'Yes', 'No', '1', 'No', 'No', 'No', 'No', 'No', 'No', 'No', 'No', 'No', 'No', '0'], ['38', 'Maintaining oral hygiene only', 'NICRH', 'Abdul Mamman', '66', 'Male', '20/19840', '1781/20', '1533815766', 'Patuakhali', '', 'Business', 'Married', 'Average', 'Below SSC', 'Former', 'Diabetes', '2', '2', 'Larynx', '#REF!', 'T:3 N:0 M:0', '3', 'Squamous cell carcinoma', 'Intent radical', 'Co60(Phoneix)', '1.25', '6000', '33', '200', '5', '1.45', 'F\\\\C', 'Lower tragus', '', '3 cm behind ear', '', '10X12', '', '', '', '', '', '', '', '', '', '', '0', '1', '2', '3', '3', '4', '5', '6', '6', '5', 'N', 'N', 'N', 'SS', 'SS', 'L', 'L', 'NO', 'NO', 'L', '0', '1', '2', '3', '3', '3', '3', '4', '4', '3', '6', 'No', 'No', 'Yes, Non', 'Yes, Non', 'Yes, Non', 'Yes, Non', 'Yes, Non', 'Yes, Non', 'Yes, Non', 'Yes, Non', '1', '0', 'No', 'No', 'No', 'No', 'Yes', 'Yes', 'Yes', 'Yes', 'Yes', 'No', '1', 'No', 'No', 'No', 'No', 'yes', 'yes', 'No', 'No', 'No', 'No', '1'], ['39', 'Maintaining oral hygiene only', 'NICRH', 'Akhiruddin', '55', 'Male', '20/22241', '20/3385', '1714010572', '', 'Vill:Sahedat ,PO:Sahedot ,PS:Hosenpur ,Dist:Kishorgang', 'Farmer', 'Married', 'Average', 'Below SSC', 'Former', 'No', '4', '2', 'Others', '#REF!', '', '3', 'Squamous cell carcinoma', 'Palhative', 'Co60(Phoneix)', '1.25', '6600', '33', '200', '5', '1.14', 'F\\\\C', '0.5 am above supraonbit rides', 'Above clanicle wheleneck', '3 cm behind ear lobule (along vertbral body)', 'At the level of IA CLN', '12X18 cm', '0+0', '0+1', '0+1', '0+1', '0+1', '0+1', '2+2', '3+2', '2+1', '1+0', '0', '1', '2', '3', '3', '4', '4', '5', '3', '2', 'N', 'N', 'N', 'N', 'soft sohd', 'liq id', 'liq md', 'No food', 'liqand', 'liqand', '0', '1', '1', '1', '2', '3', '3', '3', '3', '2', '5', 'No', 'No', 'No', 'Non op', 'Non op', 'Non op', 'Non op', 'Non opioid', 'Non opioid', 'Non opioid', '0', '1', 'No', 'No', 'No', 'No', 'Yes', 'Yes', 'Yes', 'Yes', 'Yes', 'No', '1', 'No', 'No', 'No', 'No', 'No', 'No', 'No', 'No', 'No', 'No', '0'], ['40', 'Maintaining oral hygiene only', 'NICRH', 'Hamid Matobon', '55', 'Male', '20/24641', '21/231', '1752436492', 'Faridpur', '', 'Farmer', 'Married', 'Average', 'Below SSC', 'Former', 'Lip and oral Cavity', '2', '2', 'Lip and Oral Cavity', 'Post-operative', '', '3', 'Squamous cell carcinoma', 'Intent radical', 'Co60(Phoneix)', '1.25', '3000', '10', '300', '5', '2.1', 'F\\\\C', 'Lower tragus', '', '4 cm behind ear lobule.', '', '13X14 cm', '', '', '', '', '', '', '', '', '', '', '0', '0', '1', '2', '3', '5', '6', '6', '5', '4', 'N', 'N', 'N', 'N', 'SS', 'SS', 'L', 'L', 'SS', 'N', '0', '1', '1', '2', '2', '3', '3', '3', '2', '1', '3', 'No', 'No', 'No', 'Yes, Non', 'Yes, Non', 'Yes, Non', 'Yes, Non', 'Yes, op', 'Yes, op', 'Yes, Non', '1', '1', 'No', 'No', 'No', 'No', 'Yes', 'Yes', 'Yes', 'Yes', 'Yes', 'No', '1', 'No', 'No', 'No', 'No', 'No', 'No', 'No', 'No', 'No', 'No', '0'], ['41', 'Maintaining oral hygiene only', 'NICRH', 'Vanu Sheikh', '60', 'Male', '18/9776', '21/347', '192421362', 'Jamalpur', '', 'Farmer', 'Married', 'Average', 'Below SSC', 'Former', 'No', '2', '2', 'Oropharynx', '#REF!', 'T:3 N:3 M:0', '3', 'Squamous cell carcinoma', 'Palhative', 'Co60(Phoneix)', '1.25', '3000', '10', '300', '5', '2.1', 'F\\\\C', '', '', '3 cm behind ear lobule.', '', 'X', '', '', '', '', '', '', '', '', '', '', '0', '1', '2', '3', '5', '5', '6', '8', '7', '6', 'N', 'N', 'N', 'SS', 'SS', 'L', 'L', 'NO', 'NO', 'L', '0', '1', '2', '3', '3', '3', '3', '4', '4', '3', '6', 'No', 'No', 'No', 'No', 'Yes, Non', 'Yes, Non', 'Yes, Non', 'Yes, Non', '', '', '1', '0', 'No', 'No', 'No', 'No', 'Yes', 'Yes', 'Yes', 'Yes', 'Yes', 'No', '1', 'No', 'No', 'No', 'No', 'No', 'No', 'No', 'No', 'No', 'No', '0'], ['42', 'Maintaining oral hygiene only', 'NICRH', 'Monirul', '60', 'Male', '21/4945', '380/21', '1736158968', 'Shirajganj', '', 'Business', 'Married', 'Average', 'SSC', 'Former', 'HTN', '2', '2', 'Larynx', '#REF!', 'T:3 N:1 M:', '3', 'Squamous cell carcinoma', 'Intent radical', 'Co60(Phoneix)', '1.25', '6600', '33', '200', '5', '1.45', 'F\\\\C', 'Mid tragus', '', '3 cm behind ear', '', '12X15 cm', '', '', '', '', '', '', '', '', '', '', '0', '2', '4', '4', '5', '6', '7', '8', '7', '7', 'N', 'N', 'N', 'SS', 'SS', 'SS', 'L', 'NO', 'NO', 'L', '0', '1', '1', '2', '2', '2', '3', '4', '4', '3', '3', 'No', 'Yes, Non', 'Yes, Non', 'Yes, Non', 'Yes, Non', 'Yes, Non', 'Yes, Non', 'Yes, op', 'Yes, op', 'Yes, op', '1', '1', 'No', 'No', 'Yes', 'Yes', 'Yes', 'Yes', 'Yes', 'Yes', 'Yes', 'Yes', '1', 'No', 'No', 'No', 'No', 'No', 'No', 'No', 'yes', 'yes', 'No', '1'], ['43', 'Maintaining oral hygiene only', 'NICRH', 'Fazar Ali', '50', 'Male', '20/17370', '20/2996', '1647654160', 'Munshiganj', '', 'Farmer', 'Married', 'Average', 'Illiterate', 'Former', 'Diabetes, HTN', '2', '2', 'Oropharynx', '#REF!', 'T:4 N:0 M:0', '4', 'Squamous cell carcinoma', 'Intent radical', 'Co60', '1.25', '6600', '33', '24', '5', '1.45', 'F\\\\C', 'Mid tragus', '', '3 cm behind ear', '', '12X14', '', '', '', '', '', '', '', '', '', '', '0', '1', '2', '3', '4', '5', '6', '6', '7', '6', 'N', 'N', 'N', 'SS', 'SS', 'L', 'NO', 'NO', 'L', 'SS', '0', '1', '1', '2', '2', '3', '3', '4', '3', '2', '4', 'No', 'No', 'Yes', 'Yes', 'Yes', 'Yes', 'Yes', 'Yes', 'Yes', 'Yes', '1', '0', 'No', 'Yes', 'Yes', 'Yes', 'Yes', 'Yes', 'Yes', 'Yes', 'Yes', 'No', '1', 'No', 'No', 'No', 'No', 'No', 'No', 'No', 'No', 'No', 'No', '0'], ['44', 'Maintaining oral hygiene only', 'NICRH', 'Provudhon', '59', 'Male', '20/24816', '178/21', '1303127664', 'Gopalganj', '', 'Others', 'Married', 'Average', 'Below SSC', 'Former', 'Diabetes, HTN', '2', '2', 'Lip and Oral Cavity', 'Post-operative', 'T: 4a N:1 M:X', '4', 'Squamous cell carcinoma', 'Intent radical', 'Co60', '1.25', '6600', '33', '24', '5', '1.34', 'F\\\\C', 'Mid tragus', '', '4 cm behind ear', '', '15X12', '', '', '', '', '', '', '', '', '', '', '0', '1', '2', '3', '4', '4', '5', '6', '7', '6', 'N', 'N', 'N', 'SS', 'SS', 'L', 'L', 'NO', 'NO', 'L', '0', '1', '1', '2', '2', '3', '3', '4', '4', '3', '4', 'No', 'No', 'Yes, Non', 'Yes, Non', 'Yes, Non', 'Yes, Non', 'Yes, Non', 'Yes, Non', 'Yes, Non', 'Yes, Non', '1', '0', 'No', 'No', 'No', 'Yes', 'Yes', 'Yes', 'Yes', 'Yes', 'Yes', 'No', '1', 'No', 'No', 'No', 'No', 'No', 'No', 'No', 'No', 'No', 'No', '0'], ['45', 'Maintaining oral hygiene only', 'NICRH', 'Md. Salam', '54', 'Male', '21/2907', '21/354', '1725888124', 'Jhalakathi', '', 'Business', 'Married', 'Average', 'Illiterate', 'Former', 'No', '2', '2', 'Oropharynx', '#REF!', '', '3', 'Squamous cell carcinoma', 'Intent radical', 'Co60', '1.25', '6600', '33', '24', '5', '1.35', 'F\\\\C', 'Mid tragus', '', '3 cm behind ear', '', '10X16', '', '', '', '', '', '', '', '', '', '', '0', '1', '2', '3', '4', '5', '5', '6', '6', '5', 'N', 'N', 'N', 'SS', 'SS', 'L', 'L', 'NO', 'NO', 'L', '0', '1', '1', '2', '2', '3', '3', '4', '4', '3', '4', 'No', 'No', 'No', 'Yes, Non', 'Yes, Non', 'Yes, Non', 'Yes, Non', 'Yes, Non', 'Yes, Non', 'Yes, Non', '1', '0', 'No', 'No', 'No', 'yes', 'yes', 'Yes', 'Yes', 'Yes', '', 'No', '1', 'No', 'No', 'No', 'No', 'No', 'No', 'No', 'No', 'No', 'No', '0'], ['46', 'Maintaining oral hygiene only', 'NICRH', 'Harun', '50', 'Male', '20/22131', '20/3341', '1845568988', 'Magura', '', 'Farmer', 'Married', 'Average', 'Below SSC', 'Former', 'No', '1', '2', 'Lip and Oral Cavity', 'Post-operative', '', '3', 'Squamous cell carcinoma', 'Intent radical', 'Co60(Phoneix)', '1.25', '6600', '33', '200', '5', '1.44', 'F\\\\C', 'Mid tragus', '', '3 cm behind ear', '', '12X15', '', '', '', '', '', '', '', '', '', '', '0', '1', '2', '3', '4', '4', '5', '6', '7', '6', 'N', 'N', 'N', 'SS', 'SS', 'L', 'L', 'L', 'NO', 'L', '0', '1', '1', '2', '2', '3', '3', '3', '4', '3', '5', 'No', 'No', 'No', 'No', 'No', '', '', 'Yes, Non', 'Yes, Non', 'Yes, Non', '1', '0', 'No', 'No', 'Yes', 'Yes', 'Yes', 'Yes', 'Yes', 'Yes', 'yes', 'No', '1', 'No', 'No', 'No', 'No', 'No', 'No', 'No', 'No', 'No', 'No', '0'], ['47', 'Maintaining oral hygiene only', 'NICRH', 'Mina', '65', 'Male', '20/15485', '20/1660', '1723340295', 'Gopalganj', '', 'Others', 'Married', 'Average', 'SSC', 'Former', 'HTN', '2', '2', 'Hypopharynx', '#REF!', 'T:3 N:1 M:', '3', 'Squamous cell carcinoma', 'Intent radical', 'Co60', '1.25', '6600', '33', '24', '5', '1.43', 'F\\\\C', 'Mid tragus', '', '3 cm behind ear', '', '14X10', '', '', '', '', '', '', '', '', '', '', '0', '1', '2', '3', '4', '5', '5', '7', '8', '7', 'N', 'N', 'N', 'SS', 'L', 'L', 'L', 'NO', 'NO', 'L', '0', '1', '1', '2', '3', '3', '3', '4', '4', '3', '5', 'No', 'No', 'Yes, Non', 'Yes, Non', 'Yes, Non', 'Yes, Non', 'Yes, Non', 'Yes, Non', 'Yes, Non', 'Yes, Non', '1', '0', 'No', 'No', 'No', 'No', 'Yes', 'Yes', 'Yes', 'Yes', 'Yes', 'No', '1', 'No', 'No', 'No', 'No', 'No', 'No', 'No', 'No', 'No', 'No', '0'], ['48', 'Maintaining oral hygiene only', 'NICRH', 'Marzeda', '45', 'Female', '21/4578', '30/21', '1888544322', 'Mymensing', '', 'Others', 'Married', 'Average', 'Illiterate', 'Smokers in Family', 'Diabetes, HTN', '2', '2', 'Lip and Oral Cavity', 'Post-operative', 'T:3 N:1 M:', '3', 'Squamous cell carcinoma', 'Intent radical', 'Co60', '1.25', '6600', '33', '24', '5', '1.4', 'F\\\\C', 'Mid tragus', '', '3 cm behind ear', '', '14X12', '', '', '', '', '', '', '', '', '', '', '0', '1', '2', '3', '4', '5', '7', '8', '8', '7', 'N', 'N', 'N', 'SS', 'SS', 'L', 'L', 'NO', 'L', 'L', '0', '1', '1', '2', '2', '3', '3', '4', '3', '3', '6', 'No', 'No', 'No', 'No', 'No', 'Yes, Non', 'Yes, Non', 'Yes, Non', 'Yes, Non', 'Yes, Non', '1', '0', 'No', 'No', 'No', 'No', 'Yes', 'Yes', 'Yes', 'Yes', 'Yes', 'Yes', '1', 'No', 'No', 'No', 'No', 'No', 'No', 'No', 'yes', 'yes', 'No', '1'], ['53', 'Maintaining oral hygiene only', 'NICRH', 'Abdul Matin', '65', 'Male', '21/1795', '552/21', '1675571088', '', 'Vill:Gosamde ,PO: ,PS:Sonanimer ,Dist:Noakhali', 'Farmer', 'Married', 'Average', 'Below SSC', 'Former', 'No', '2', '2', 'Oropharynx', '#REF!', 'T:2 N:2 M:', '2', 'Squamous cell carcinoma', 'Intent radical', 'Co60', '1.25', '6600', '33', '24', '5', '1.48', 'F\\\\C', 'Mid tragus', '', '3 cm behind ear', '', '10X14 cm', '', '', '', '', '', '', '', '', '', '', '0', '0', '0', '1', '1', '1', '2', '2', '3', '3', '2', 'N', 'N', 'N', 'N', 'N', 'SS', 'SS', 'L', 'SS', '0', '0', '1', '2', '2', '3', '3', '3', '3', '2', '5', 'No', 'No', 'No', 'No', 'No', 'Yes, Non', 'Yes, Non', 'Yes, Non', 'Yes, Non', 'Yes, Non', '1', '0', 'No', 'No', 'No', 'NO', 'NO', 'Yes', 'Yes', 'Yes', 'Yes', 'Yes', '1', 'No', 'No', 'No', 'No', 'No', 'No', 'No', 'No', 'No', 'No', '0'], ['5', 'Maintaining oral hygiene only', 'NICRH', 'Josna', '62', 'Female', '20/24578', '20/3257', '1714203412', '', 'Vill: ,PO: ,PS: ,Dist:', 'Others', 'Married', 'Average', 'Illiterate', 'Smokers in Family', 'Diabetes, HTN', '2', '2', 'Nasal Cavity paranasal sinus', '#REF!', '', '2', 'Others', 'Intent radical', 'Co60(Phoneix)', '1.25', '6000', '30', '24', '5', '1.31', 'F\\\\C', 'Supna onntal ridge', '', '', '', '7X9,8X9', '', '', '', '', '', '', '', '', '', '', '0', '1', '1', '2', '2', '3', '4', '5', '5', '4', 'N', 'N', 'N', 'SS', 'SS', 'L', 'NO', 'NO', 'SS', 'L', '0', '1', '1', '2', '2', '3', '3', '4', '3', '3', '6', 'No', 'No', 'No', 'No', 'YES', 'YES', 'YES', 'YES', 'YES', 'YES', '1', '0', 'No', 'No', 'No', 'Yes', 'Yes', 'Yes', 'Yes', 'Yes', 'Yes', 'Yes', '1', 'No', 'No', 'No', 'NO', 'No', 'No', 'No', 'No', 'No', 'No', '0'], ['7', 'Maintaining oral hygiene only', 'NICRH', 'Rekha', '32', 'Female', '20/25665', '458/21', '1729768019', '', 'Vill:Palashbari ,PO:Savar ,PS:Savar ,Dist:Dhaka', 'Day Labourer', 'Married', 'Average', 'Below SSC', 'Never', 'Diabetes', '1', '2', 'Others', '#REF!', '', '3', 'Squamous cell carcinoma', 'Intent radical', 'Co60(Phoneix)', '1.25', '6000', '30', '2', '5', '1.26', 'F\\\\C', 'Upper tragus', '', '3 cm behind ear', '', 'X', '', '', '', '', '', '', '', '', '', '', '0', '1', '2', '3', '4', '5', '5', '6', '5', '4', 'N', 'N', 'N', 'N', 'SS', 'SS', 'SS', 'L', 'L', 'SS', '0', '0', '1', '1', '2', '2', '2', '3', '3', '2', '3', 'No', 'No', 'No', 'Yes, Non', 'Yes, Non', 'Yes, Non', 'Yes, Op', 'Yes, Op', 'Yes, Non', 'Yes, Non', '1', '1', 'No', 'No', 'No', 'No', 'No', 'Yes', 'Yes', 'Yes', 'Yes', 'Yes', '1', 'No', 'No', 'No', 'No', 'No', 'No', 'No', 'No', 'No', 'No', '0'], ['13', 'Maintaining oral hygiene only', 'NICRH', 'Joynal', '54', 'Male', '20/21950', '', '1878742765', '', 'Vill:Abdullahpur, PS:Astogram ,Dist:Kishoregonj', 'Farmer', 'Married', 'Average', 'Below SSC', 'Former', 'No', '0', '2', 'Larynx', '#REF!', 'T:3 N:1 M:X', '3', 'Squamous cell carcinoma', 'Intent radical', 'LINAC', '1.25', '6600', '33', '200', '5', '1.4', 'F\\\\C', 'Mid tragus', '', '3 cm behind ear', '', '12X15', '', '', '', '', '', '', '', '', '', '', '0', '0', '0', '1', '1', '1', '1', '2', '1', '1', 'N', 'N', 'N', 'N', 'N', 'N', 'N', 'SS', 'SS', 'N', '0', '0', '1', '1', '2', '2', '3', '3', '2', '1', '2', 'No', 'No', 'No', 'No', 'No', 'No', 'Yes, Non', 'Yes, Non', 'Yes, Non', 'No', '1', '0', 'No', 'No', 'No', 'No', 'No', 'Yes', 'Yes', 'Yes', 'Yes', 'No', '1', 'No', 'No', 'No', 'No', 'No', 'No', 'No', 'No', 'No', 'No', '0'], ['19', 'Maintaining oral hygiene only', 'NICRH', 'Bibi Morium', '60', 'Female', '20/12361', '20/3353', '1727523024', '', 'Vill:Daulatkhan ,PO: ,PS:Daulatkhan ,Dist:Bhola', 'Others', 'Married', 'Average', 'Below SSC', 'Former', 'No', '2', '2', 'Lip and Oral Cavity', 'Post-operative', 'T: 2 N: 1 M:', '2', 'Squamous cell carcinoma', 'Intent radical', 'Co60(Phoneix)', '1.25', '6600', '33', '200', '5', '1.33 min', 'F\\\\C', 'Mid tragus', '', '3 cm behind ear lobule.', '', '10X14', '', '', '', '', '', '', '', '', '', '', '0', '0', '2', '3', '5', '6', '7', '8', '8', '7', 'N', 'N', 'N', 'SS', 'SS', 'L', 'L', 'L', 'SS', 'SS', '0', '1', '2', '3', '3', '3', '3', '4', '2', '2', '4', 'No', 'No', 'Yes, Non', 'Yes, Non', 'Yes, Non', 'Yes, Op', 'Yes, Op', 'Yes, Op', 'Yes, Op', 'Yes, Op', '1', '1', 'No', 'No', 'No', 'Yes', 'Yes', 'Yes', 'Yes', 'Yes', '', 'No', '1', 'No', 'No', 'No', 'No', 'No', 'No', 'No', 'No', 'No', 'No', '0'], ['22', 'Maintaining oral hygiene only', 'NICRH', 'Fazar Ali', '66', 'Male', '20/18370', '20/1992', '16747654160', 'Manikgang', 'Vill: ,PO: ,PS: ,Dist:', 'Others', 'Married', 'Average', 'Below SSC', 'Former', 'Diabetes', '2', '2', 'Oropharynx', '#REF!', 'T: 4 N: 0 M:0', '4', 'Squamous cell carcinoma', 'Intent radical', 'Co60(Phoneix)', '1.25', '6600', '33', '200', '5', '', 'F\\\\C', 'Mid tragus', '', '3 cm behind ear', '', '12X14', '', '', '', '', '', '', '', '', '', '', '0', '1', '2', '2', '3', '4', '5', '6', '7', '6', 'N', 'N', 'SS', 'SS', 'SS', 'L', 'L', 'NO', 'NO', 'L', '0', '1', '2', '2', '2', '3', '3', '4', '3', '3', '6', 'No', 'No', 'Yes, Non', 'Yes, Non', 'Yes, Non', 'Yes, Non', 'Yes, Non', 'Yes, Op', 'Yes, Op', 'Yes, Op', '1', '1', 'No', 'No', 'Yes', 'Yes', 'Yes', 'Yes', 'Yes', 'Yes', 'Yes', 'No', '1', 'No', 'No', 'No', 'No', 'No', 'No', 'No', 'No', 'No', 'No', '0'], ['24', 'Maintaining oral hygiene only', 'NICRH', 'Shiron', '58', 'Male', '20/18040', '20/1965', '1684285299', 'B.Baria', 'Vill: ,PO: ,PS: ,Dist:', 'Farmer', 'Married', 'Average', 'Below SSC', 'Former', 'No', '1', '2', 'Larynx', '#REF!', 'T:3 N:1 M:', '3', 'Squamous cell carcinoma', 'Intent radical', 'Co60(Phoneix)', '1.25', '6600', '33', '200', '5', '1.39 min', 'F\\\\C', 'Lower tragus', '', '3 cm behind ear', '', '10X14', '', '', '', '', '', '', '', '', '', '', '0', '0', '1', '1', '2', '3', '4', '5', '6', '6', 'N', 'N', 'N', 'SS', 'SS', 'L', 'L', 'L', 'NO', 'L', '0', '1', '1', '2', '2', '3', '3', '3', '4', '3', '5', 'No', 'No', 'No', 'Yes, Non', 'Yes, Non', 'Yes, Non', 'Yes, Non', 'Yes, Non', 'Yes, Non', 'Yes, Non', '1', '0', 'No', 'No', 'No', 'No', 'Yes', 'Yes', 'Yes', 'Yes', 'Yes', 'No', '1', 'No', 'No', 'No', 'No', 'No', 'No', 'No', 'No', 'No', 'No', '0'], ['25', 'Maintaining oral hygiene only', 'NICRH', 'Harun', '55', 'Male', '20/23171', '412/21', '1712305765', 'Shariontpur', 'Vill: ,PO: ,PS: ,Dist:', 'Farmer', 'Married', 'Average', 'Below SSC', 'Former', 'No', '2', '2', 'Larynx', '#REF!', 'T: N: M:', '2', 'Squamous cell carcinoma', 'Intent radical', 'Co60(Phoneix)', '1.25', '6600', '33', '24', '5', '1.37 min', 'F\\\\C', 'Mid tragus', '', '3 cm behind ear', '', 'X', '', '', '', '', '', '', '', '', '', '', '0', '0', '1', '1', '2', '3', '4', '5', '6', '6', 'N', 'N', 'N', 'SS', 'SS', 'L', 'L', 'NO', 'NO', 'L', '0', '1', '1', '2', '2', '3', '3', '4', '4', '3', '4', 'No', 'No', 'No', 'No', 'Yes, Non', 'Yes, Non', 'Yes, Non', 'Yes, Non', 'Yes, Op', 'Yes, Op', '1', '1', 'No', 'No', 'No', 'No', '', 'Yes', 'Yes', 'Yes', '', 'No', '1', 'No', 'No', 'No', 'No', 'No', 'No', 'No', 'No', 'No', 'No', '0'], ['26', 'Maintaining oral hygiene only', 'NICRH', 'Naima Begum', '70', 'Female', '20/14342', '1776/20', '1941345748', 'Khulna', 'Vill: ,PO: ,PS: ,Dist:', 'Others', 'Married', 'Average', 'Illiterate', 'Never', 'Diabetes, HTN', '3', '2', 'Hypopharynx', '#REF!', 'T: N: M:', '2', 'Squamous cell carcinoma', 'Intent radical', 'Co60(Phoneix)', '1.25', '6000', '30', '24', '5', '1.38', 'F\\\\C', 'Lower tragus', '', '3 cm behind ear', '', 'X', '', '', '', '', '', '', '', '', '', '', '0', '1', '2', '3', '4', '6', '7', '8', '8', '7', 'N', 'N', 'N', 'SS', 'SS', 'L', 'L', 'NO', 'NO', 'L', '0', '1', '2', '3', '3', '3', '3', '4', '4', '3', '6', 'No', 'No', 'Yes, Non', 'Yes, Non', 'Yes, Non', 'Yes, Non', 'Yes, Non', 'Yes, Non', 'Yes, Non', 'Yes, Non', '1', '0', 'No', 'No', 'No', 'Yes', 'Yes', 'Yes', 'Yes', 'Yes', 'Yes', 'No', '1', 'No', 'No', 'No', 'No', 'No', 'No', 'No', 'No', 'No', 'No', '0'], ['29', 'Maintaining oral hygiene only', 'NICRH', 'Liakot', '50', 'Male', '20/21705', '302/21', '1733892169', 'Mohakhali, Dhaka', 'Vill:Rajapur ,PO: ,PS:Burigang ,Dist:Cumilla', 'Officials', 'Married', 'Average', 'Below SSC', 'Former', 'HTN', '1', '2', 'Larynx', '#REF!', 'T:3 N: 0 M:0', '3', 'Squamous cell carcinoma', 'Intent radical', '', '1.25', '6600', '33', '200', '5', '', 'F\\\\C', 'Lower tragus', '', '3 cm behind ear', '', '12X07', '', '', '', '', '', '', '', '', '', '', '0', '0', '1', '2', '2', '3', '3', '4', '3', '2', 'N', 'N', 'N', 'N', 'N', 'SS', 'SS', 'L', 'L', 'SS', '0', '0', '1', '1', '2', '2', '2', '3', '3', '2', '3', 'No', 'No', 'No', 'Yes, Non', 'Yes, Non', 'Yes, Non', 'Yes, Non', 'Yes, Non', 'Yes, Non', 'Yes, Non', '1', '0', 'No', 'No', 'No', 'No', 'Yes', 'Yes', 'Yes', 'Yes', 'Yes', 'No', '1', 'No', 'No', 'No', 'No', 'No', 'No', 'No', 'No', 'No', 'No', '0'], ['34', 'Maintaining oral hygiene only', 'NICRH', 'Minoti', '65', 'Female', '21/5319', '599/21', '1821552889', 'Noakhali', '', 'Others', 'Married', 'Average', 'Illiterate', 'Smokers in Family', 'Diabetes, HTN', '3', '1', 'Lip and Oral Cavity', 'Post-operative', 'T:1 N:1 M:X', '1', 'Squamous cell carcinoma', 'Intent radical', 'Co60(Phoneix)', '1.25', '6600', '30', '24', '5', '1.29', 'F\\\\C', 'Mid tragus', '', '3 cm behind ear', '', 'X', '', '', '', '', '', '', '', '', '', '', '0', '2', '3', '4', '6', '7', '8', '8', '7', '6', 'N', 'N', 'N', 'SS', 'SS', 'L', 'L', 'L', 'No', 'L', '0', '1', '1', '2', '2', '3', '3', '3', '3', '3', '4', 'No', 'Yes, Non', 'Yes, Non', 'Yes, Non', 'Yes, Non', 'Yes, Op', 'Yes, Op', 'Yes, Op', 'Yes, Op', 'Yes, Non', '1', '1', 'No', 'No', 'No', 'No', 'Yes', 'Yes', 'Yes', 'Yes', 'Yes', 'No', '1', 'No', 'No', 'No', 'No', 'No', 'No', 'Yes', 'No', 'No', 'No', '1'], ['35', 'Maintaining oral hygiene only', 'NICRH', 'Emdad', '45', 'Male', '20/2178', '17/21', '1760723580', 'Mymensing', '', 'Day Labourer', 'Married', 'Poor', 'Illiterate', 'Former', 'No', '1', '2', 'Larynx', '#REF!', 'T:3 N:1 M:X', '3', 'Squamous cell carcinoma', 'Intent radical', 'Co60(Phoneix)', '1.25', '6600', '33', '24', '5', '1.3', 'F\\\\C', 'Mid tragus', '', '3 cm behind ear', '', 'X', '', '', '', '', '', '', '', '', '', '', '0', '2', '4', '5', '5', '5', '6', '7', '6', '6', 'N', 'N', 'N', 'N', 'SS', 'SS', 'SS', 'L', 'L', 'SS', '0', '1', '1', '2', '2', '2', '3', '3', '3', '2', '7', 'No', 'No', 'Yes, Non', 'Yes, Non', 'Yes, Non', 'Yes, Op', 'Yes, Op', 'Yes, Non', 'Yes, Non', 'Yes, Non', '1', '1', 'No', 'No', 'No', 'Yes', 'Yes', 'Yes', 'Yes', 'Yes', 'Yes', 'No', '1', 'No', 'No', 'No', 'No', 'No', 'No', 'No', 'No', 'No', 'No', '0'], ['36', 'Maintaining oral hygiene only', 'NICRH', 'Ramyan', '62', 'Male', '20/16650', '51/21', '1968465380', 'Gazipur', '', 'Business', 'Married', 'Average', 'HSC', 'Former', 'HTN', '2', '2', 'Lip and Oral Cavity', 'Post-operative', 'T:4 N:0 M:0', '4', 'Squamous cell carcinoma', 'Intent radical', 'Co60', '1.25', '6600', '30', '24', '5', '1.42', 'F\\\\C', 'Mid tragus', '', '3 cm behind ear', '', '11X13', '', '', '', '', '', '', '', '', '', '', '0', '1', '2', '3', '3', '4', '5', '7', '6', '5', 'N', 'N', 'SS', 'SS', 'SS', 'L', 'L', 'NO', 'NO', 'L', '0', '1', '2', '2', '3', '3', '3', '4', '4', '3', '5', 'No', 'No', 'Yes, Non', 'Yes, Non', 'Yes, Non', 'Yes, Non', 'Yes, Non', 'Yes, Op', 'Yes, Non', 'Yes, Non', '1', '1', 'No', 'No', 'No', 'Yes', 'Yes', 'Yes', 'Yes', 'Yes', 'Yes', 'No', '1', 'No', 'No', 'No', 'No', 'No', 'No', 'No', 'No', 'No', 'No', '0'], ['37', 'Maintaining oral hygiene only', 'NICRH', 'Rabeya', '60', 'Female', '20/19096', '1704/20', '1880126752', 'Chandpur', '', 'Others', 'Married', 'Average', 'Below SSC', 'Never, Smokers in family', 'Diabetes, HTN', '2', '2', 'Lip and Oral Cavity', 'Post-operative', 'T: 2 N:0 M:X', '2', 'Squamous cell carcinoma', 'Intent radical', 'Co60', '1.25', '6000', '30', '24', '5', '1.25', 'F\\\\C', 'Mid tragus', '', '3 cm behind ear', '', '8X13', '', '', '', '', '', '', '', '', '', '', '0', '1', '2', '3', '4', '4', '5', '6', '7', '6', 'N', 'N', 'N', 'SS', 'SS', 'L', 'L', 'NO', 'NO', 'L', '0', '1', '1', '2', '2', '3', '3', '4', '4', '3', '4', 'No', 'No', 'No', 'Yes, Non', 'Yes, Non', 'Yes, Non', 'Yes, Non', 'Yes, Non', 'Yes, Non', 'Yes, Non', '1', '0', 'No', 'No', 'No', 'Yes', 'Yes', 'Yes', 'Yes', 'Yes', 'Yes', 'No', '1', 'No', 'No', 'No', 'No', 'No', 'No', 'No', 'No', 'No', 'No', '0'], ['38', 'Maintaining oral hygiene only', 'NICRH', 'Abdul Mamman', '66', 'Male', '20/19840', '1781/20', '1533815766', 'Patuakhali', '', 'Business', 'Married', 'Average', 'Below SSC', 'Former', 'Diabetes', '2', '2', 'Larynx', '#REF!', 'T:3 N:0 M:0', '3', 'Squamous cell carcinoma', 'Intent radical', 'Co60(Phoneix)', '1.25', '6000', '33', '200', '5', '1.45', 'F\\\\C', 'Lower tragus', '', '3 cm behind ear', '', '10X12', '', '', '', '', '', '', '', '', '', '', '0', '1', '2', '3', '3', '4', '5', '6', '6', '5', 'N', 'N', 'N', 'SS', 'SS', 'L', 'L', 'NO', 'NO', 'L', '0', '1', '1', '2', '3', '3', '3', '4', '4', '3', '5', 'No', 'No', 'Yes, Non', 'Yes, Non', 'Yes, Non', 'Yes, Non', 'Yes, Non', 'Yes, Non', 'Yes, Non', 'Yes, Non', '1', '0', 'No', 'No', 'No', 'No', 'Yes', 'Yes', 'Yes', 'Yes', 'Yes', 'No', '1', 'No', 'No', 'No', 'No', 'yes', 'yes', 'No', 'No', 'No', 'No', '1'], ['39', 'Maintaining oral hygiene only', 'NICRH', 'Akhiruddin', '55', 'Male', '20/22241', '20/3385', '1714010572', '', 'Vill:Sahedat ,PO:Sahedot ,PS:Hosenpur ,Dist:Kishorgang', 'Farmer', 'Married', 'Average', 'Below SSC', 'Former', 'No', '4', '2', 'Others', '#REF!', 'T: N:2 M:', '3', 'Squamous cell carcinoma', 'Palhative', 'Co60(Phoneix)', '1.25', '6600', '33', '200', '5', '1.14', 'F\\\\C', '0.5 am above supraonbit rides', 'Above clanicle wheleneck', '3 cm behind ear lobule (along vertbral body)', 'At the level of IA CLN', '12X18 cm', '0+0', '0+1', '0+1', '0+1', '0+1', '0+1', '2+2', '3+2', '2+1', '1+0', '0', '1', '2', '3', '3', '4', '4', '5', '3', '2', 'N', 'N', 'N', 'N', 'soft sohd', 'liq id', 'liq md', 'No food', 'liqand', 'liqand', '0', '1', '1', '1', '2', '3', '3', '3', '3', '2', '5', 'No', 'No', 'No', 'Non op', 'Non op', 'Non op', 'Non op', 'Non opioid', 'Non opioid', 'Non opioid', '0', '1', 'No', 'No', 'No', 'No', 'Yes', 'Yes', 'Yes', 'Yes', 'Yes', 'No', '1', 'No', 'No', 'No', 'No', 'No', 'No', 'No', 'No', 'No', 'No', '0'], ['40', 'Maintaining oral hygiene only', 'NICRH', 'Hamid Matobon', '55', 'Male', '20/24641', '21/231', '1752436492', 'Faridpur', '', 'Farmer', 'Married', 'Average', 'Below SSC', 'Former', 'Lip and oral Cavity', '2', '2', 'Lip and Oral Cavity', 'Post-operative', 'T: N: M:', '3', 'Squamous cell carcinoma', 'Intent radical', 'Co60(Phoneix)', '1.25', '3000', '10', '300', '5', '2.1', 'F\\\\C', 'Lower tragus', '', '4 cm behind ear lobule.', '', '13X14 cm', '', '', '', '', '', '', '', '', '', '', '0', '0', '1', '2', '3', '5', '6', '6', '5', '4', 'N', 'N', 'N', 'N', 'SS', 'SS', 'L', 'L', 'SS', 'N', '0', '1', '1', '1', '2', '2', '3', '3', '2', '1', '2', 'No', 'No', 'No', 'Yes, Non', 'Yes, Non', 'Yes, Non', 'Yes, Non', 'Yes, op', 'Yes, op', 'Yes, Non', '1', '1', 'No', 'No', 'No', 'No', 'Yes', 'Yes', 'Yes', 'Yes', 'Yes', 'No', '1', 'No', 'No', 'No', 'No', 'No', 'No', 'No', 'No', 'No', 'No', '0'], ['41', 'Maintaining oral hygiene only', 'NICRH', 'Vanu Sheikh', '60', 'Male', '18/9776', '21/347', '192421362', 'Jamalpur', '', 'Farmer', 'Married', 'Average', 'Below SSC', 'Former', 'No', '2', '2', 'Oropharynx', '#REF!', 'T:3 N:3 M:0', '3', 'Squamous cell carcinoma', 'Palhative', 'Co60(Phoneix)', '1.25', '3000', '10', '300', '5', '2.1', 'F\\\\C', '', '', '3 cm behind ear lobule.', '', 'X', '', '', '', '', '', '', '', '', '', '', '0', '1', '2', '3', '5', '5', '6', '8', '7', '6', 'N', 'N', 'N', 'SS', 'SS', 'L', 'L', 'NO', 'NO', 'L', '0', '1', '1', '2', '2', '3', '3', '4', '4', '3', '4', 'No', 'No', 'No', 'No', 'Yes, Non', 'Yes, Non', 'Yes, Non', 'Yes, Non', '', '', '1', '0', 'No', 'No', 'No', 'No', 'Yes', 'Yes', 'Yes', 'Yes', 'Yes', 'No', '1', 'No', 'No', 'No', 'No', 'No', 'No', 'No', 'No', 'No', 'No', '0'], ['42', 'Maintaining oral hygiene only', 'NICRH', 'Monirul', '60', 'Male', '21/4945', '380/21', '1736158968', 'Shirajganj', '', 'Business', 'Married', 'Average', 'SSC', 'Former', 'HTN', '2', '2', 'Larynx', '#REF!', 'T:3 N:1 M:', '3', 'Squamous cell carcinoma', 'Intent radical', 'Co60(Phoneix)', '1.25', '6600', '33', '200', '5', '1.45', 'F\\\\C', 'Mid tragus', '', '3 cm behind ear', '', '12X15 cm', '', '', '', '', '', '', '', '', '', '', '0', '2', '4', '4', '5', '6', '7', '8', '7', '7', 'N', 'N', 'N', 'SS', 'SS', 'SS', 'L', 'NO', 'NO', 'L', '0', '1', '1', '2', '2', '2', '3', '4', '4', '3', '3', 'No', 'Yes, Non', 'Yes, Non', 'Yes, Non', 'Yes, Non', 'Yes, Non', 'Yes, Non', 'Yes, op', 'Yes, op', 'Yes, op', '1', '1', 'No', 'No', 'Yes', 'Yes', 'Yes', 'Yes', 'Yes', 'Yes', 'Yes', 'Yes', '1', 'No', 'No', 'No', 'No', 'No', 'No', 'No', 'yes', 'yes', 'No', '1'], ['43', 'Maintaining oral hygiene only', 'NICRH', 'Fazar Ali', '50', 'Male', '20/17370', '20/2996', '1647654160', 'Munshiganj', '', 'Farmer', 'Married', 'Average', 'Illiterate', 'Former', 'Diabetes, HTN', '2', '2', 'Oropharynx', '#REF!', 'T:4 N:0 M:0', '4', 'Squamous cell carcinoma', 'Intent radical', 'Co60', '1.25', '6600', '33', '24', '5', '1.45', 'F\\\\C', 'Mid tragus', '', '3 cm behind ear', '', '12X14', '', '', '', '', '', '', '', '', '', '', '0', '1', '2', '3', '4', '5', '6', '6', '7', '6', 'N', 'N', 'N', 'SS', 'SS', 'L', 'NO', 'NO', 'L', 'SS', '0', '1', '1', '3', '3', '3', '3', '4', '3', '2', '6', 'No', 'No', 'Yes', 'Yes', 'Yes', 'Yes', 'Yes', 'Yes', 'Yes', 'Yes', '1', '0', 'No', 'Yes', 'Yes', 'Yes', 'Yes', 'Yes', 'Yes', 'Yes', 'Yes', 'No', '1', 'No', 'No', 'No', 'No', 'No', 'No', 'No', 'No', 'No', 'No', '0'], ['44', 'Maintaining oral hygiene only', 'NICRH', 'Provudhon', '59', 'Male', '20/24816', '178/21', '1303127664', 'Gopalganj', '', 'Others', 'Married', 'Average', 'Below SSC', 'Former', 'Diabetes, HTN', '2', '2', 'Lip and Oral Cavity', 'Post-operative', 'T: 4a N:1 M:X', '4', 'Squamous cell carcinoma', 'Intent radical', 'Co60', '1.25', '6600', '33', '24', '5', '1.34', 'F\\\\C', 'Mid tragus', '', '4 cm behind ear', '', '15X12', '', '', '', '', '', '', '', '', '', '', '0', '1', '2', '3', '4', '4', '5', '6', '7', '6', 'N', 'N', 'N', 'SS', 'SS', 'L', 'L', 'NO', 'NO', 'L', '0', '1', '1', '2', '2', '3', '3', '4', '4', '3', '4', 'No', 'No', 'Yes, Non', 'Yes, Non', 'Yes, Non', 'Yes, Non', 'Yes, Non', 'Yes, Non', 'Yes, Non', 'Yes, Non', '1', '0', 'No', 'No', 'No', 'Yes', 'Yes', 'Yes', 'Yes', 'Yes', 'Yes', 'No', '1', 'No', 'No', 'No', 'No', 'No', 'No', 'No', 'No', 'No', 'No', '0'], ['45', 'Maintaining oral hygiene only', 'NICRH', 'Md. Salam', '54', 'Male', '21/2907', '21/354', '1725888124', 'Jhalakathi', '', 'Business', 'Married', 'Average', 'Illiterate', 'Former', 'No', '2', '2', 'Oropharynx', '#REF!', 'T: N: M:', '3', 'Squamous cell carcinoma', 'Intent radical', 'Co60', '1.25', '6600', '33', '24', '5', '1.35', 'F\\\\C', 'Mid tragus', '', '3 cm behind ear', '', '10X16', '', '', '', '', '', '', '', '', '', '', '0', '1', '2', '3', '4', '5', '5', '6', '6', '5', 'N', 'N', 'N', 'SS', 'SS', 'L', 'L', 'NO', 'NO', 'L', '0', '1', '2', '3', '3', '3', '3', '4', '4', '3', '6', 'No', 'No', 'No', 'Yes, Non', 'Yes, Non', 'Yes, Non', 'Yes, Non', 'Yes, Non', 'Yes, Non', 'Yes, Non', '1', '0', 'No', 'No', 'No', 'yes', 'yes', 'Yes', 'Yes', 'Yes', '', 'No', '1', 'No', 'No', 'No', 'No', 'No', 'No', 'No', 'No', 'No', 'No', '0'], ['46', 'Maintaining oral hygiene only', 'NICRH', 'Harun', '50', 'Male', '20/22131', '20/3341', '1845568988', 'Magura', '', 'Farmer', 'Married', 'Average', 'Below SSC', 'Former', 'No', '1', '2', 'Lip and Oral Cavity', 'Post-operative', 'T: N: M:', '3', 'Squamous cell carcinoma', 'Intent radical', 'Co60(Phoneix)', '1.25', '6600', '33', '200', '5', '1.44', 'F\\\\C', 'Mid tragus', '', '3 cm behind ear', '', '12X15', '', '', '', '', '', '', '', '', '', '', '0', '1', '2', '3', '4', '4', '5', '6', '7', '6', 'N', 'N', 'N', 'SS', 'SS', 'L', 'L', 'L', 'NO', 'L', '0', '1', '1', '2', '2', '3', '3', '3', '4', '3', '5', 'No', 'No', 'No', 'No', 'No', '', '', 'Yes, Non', 'Yes, Non', 'Yes, Non', '1', '0', 'No', 'No', 'Yes', 'Yes', 'Yes', 'Yes', 'Yes', 'Yes', 'yes', 'No', '1', 'No', 'No', 'No', 'No', 'No', 'No', 'No', 'No', 'No', 'No', '0'], ['47', 'Maintaining oral hygiene only', 'NICRH', 'Mina', '65', 'Male', '20/15485', '20/1660', '1723340295', 'Gopalganj', '', 'Others', 'Married', 'Average', 'SSC', 'Former', 'HTN', '2', '2', 'Hypopharynx', '#REF!', 'T:3 N:1 M:', '3', 'Squamous cell carcinoma', 'Intent radical', 'Co60', '1.25', '6600', '33', '24', '5', '1.43', 'F\\\\C', 'Mid tragus', '', '3 cm behind ear', '', '14X10', '', '', '', '', '', '', '', '', '', '', '0', '1', '2', '3', '4', '5', '5', '7', '8', '7', 'N', 'N', 'N', 'SS', 'L', 'L', 'L', 'NO', 'NO', 'L', '0', '1', '1', '2', '3', '3', '3', '4', '4', '3', '5', 'No', 'No', 'Yes, Non', 'Yes, Non', 'Yes, Non', 'Yes, Non', 'Yes, Non', 'Yes, Non', 'Yes, Non', 'Yes, Non', '1', '0', 'No', 'No', 'No', 'No', 'Yes', 'Yes', 'Yes', 'Yes', 'Yes', 'No', '1', 'No', 'No', 'No', 'No', 'No', 'No', 'No', 'No', 'No', 'No', '0'], ['48', 'Maintaining oral hygiene only', 'NICRH', 'Marzeda', '45', 'Female', '21/4578', '30/21', '1888544322', 'Mymensing', '', 'Others', 'Married', 'Average', 'Illiterate', 'Smokers in Family', 'Diabetes, HTN', '2', '2', 'Lip and Oral Cavity', 'Post-operative', 'T:3 N:1 M:', '3', 'Squamous cell carcinoma', 'Intent radical', 'Co60', '1.25', '6600', '33', '24', '5', '1.4', 'F\\\\C', 'Mid tragus', '', '3 cm behind ear', '', '14X12', '', '', '', '', '', '', '', '', '', '', '0', '1', '2', '3', '4', '5', '7', '8', '8', '7', 'N', 'N', 'N', 'SS', 'SS', 'L', 'L', 'NO', 'L', 'L', '0', '1', '1', '2', '2', '3', '3', '4', '3', '3', '6', 'No', 'No', 'No', 'No', 'No', 'Yes, Non', 'Yes, Non', 'Yes, Non', 'Yes, Non', 'Yes, Non', '1', '0', 'No', 'No', 'No', 'No', 'Yes', 'Yes', 'Yes', 'Yes', 'Yes', 'Yes', '1', 'No', 'No', 'No', 'No', 'No', 'No', 'No', 'yes', 'yes', 'No', '1'], ['53', 'Maintaining oral hygiene only', 'NICRH', 'Abdul Matin', '65', 'Male', '21/1795', '552/21', '1675571088', '', 'Vill:Gosamde ,PO: ,PS:Sonanimer ,Dist:Noakhali', 'Farmer', 'Married', 'Average', 'Below SSC', 'Former', 'No', '2', '2', 'Oropharynx', '#REF!', 'T:2 N:2 M:', '2', 'Squamous cell carcinoma', 'Intent radical', 'Co60', '1.25', '6600', '33', '24', '5', '1.48', 'F\\\\C', 'Mid tragus', '', '3 cm behind ear', '', '10X14 cm', '', '', '', '', '', '', '', '', '', '', '0', '0', '0', '1', '1', '1', '2', '2', '3', '3', '2', 'N', 'N', 'N', 'N', 'N', 'SS', 'SS', 'L', 'SS', '0', '0', '1', '1', '2', '2', '3', '3', '3', '2', '4', 'No', 'No', 'No', 'No', 'No', 'Yes, Non', 'Yes, Non', 'Yes, Non', 'Yes, Non', 'Yes, Non', '1', '0', 'No', 'No', 'No', 'NO', 'NO', 'Yes', 'Yes', 'Yes', 'Yes', 'Yes', '1', 'No', 'No', 'No', 'No', 'No', 'No', 'No', 'No', 'No', 'No', '0']]\n"
          ]
        },
        {
          "output_type": "execute_result",
          "data": {
            "text/html": [
              "<div>\n",
              "<style scoped>\n",
              "    .dataframe tbody tr th:only-of-type {\n",
              "        vertical-align: middle;\n",
              "    }\n",
              "\n",
              "    .dataframe tbody tr th {\n",
              "        vertical-align: top;\n",
              "    }\n",
              "\n",
              "    .dataframe thead th {\n",
              "        text-align: right;\n",
              "    }\n",
              "</style>\n",
              "<table border=\"1\" class=\"dataframe\">\n",
              "  <thead>\n",
              "    <tr style=\"text-align: right;\">\n",
              "      <th></th>\n",
              "      <th>Case_No</th>\n",
              "      <th>Classification</th>\n",
              "      <th>Hospital_Name</th>\n",
              "      <th>Patient_Name</th>\n",
              "      <th>Age</th>\n",
              "      <th>Sex</th>\n",
              "      <th>Registration_No</th>\n",
              "      <th>RT_No</th>\n",
              "      <th>Phone_No</th>\n",
              "      <th>Local_Address</th>\n",
              "      <th>Permanent_Address</th>\n",
              "      <th>Occupation</th>\n",
              "      <th>Marital_Status</th>\n",
              "      <th>Socioeconomic_Condition</th>\n",
              "      <th>Educational_Qualification</th>\n",
              "      <th>Smoking_History</th>\n",
              "      <th>Comorbidities</th>\n",
              "      <th>Performance_Status</th>\n",
              "      <th>Body_Built</th>\n",
              "      <th>Diagnosis</th>\n",
              "      <th>Radiotherapy</th>\n",
              "      <th>Diagnosis_Stage</th>\n",
              "      <th>Stage</th>\n",
              "      <th>Histopathology</th>\n",
              "      <th>Treatment_Intention</th>\n",
              "      <th>Radiotherapy_Machine</th>\n",
              "      <th>Energy(MeV)</th>\n",
              "      <th>Total_Dose</th>\n",
              "      <th>Fractions_Number</th>\n",
              "      <th>Dose_Per_Fraction(Gy)</th>\n",
              "      <th>Weekly_Treatment_Days(Day)</th>\n",
              "      <th>Daily_Treatment_Duration(Min)</th>\n",
              "      <th>Treatment_Field</th>\n",
              "      <th>Superior_Border</th>\n",
              "      <th>Inferior_Border</th>\n",
              "      <th>Lateral_Border</th>\n",
              "      <th>Medial_Border</th>\n",
              "      <th>Field_Size(cm)</th>\n",
              "      <th>OMAS_Pretreatment</th>\n",
              "      <th>OMAS_After_1W</th>\n",
              "      <th>...</th>\n",
              "      <th>WHO_Grade_After_5W</th>\n",
              "      <th>WHO_Grade_After_6W</th>\n",
              "      <th>WHO_Grade_After_7W</th>\n",
              "      <th>WHO_Grade_2W_After_Treatment</th>\n",
              "      <th>WHO_Grade_4W_After_Treatment</th>\n",
              "      <th>WHO_Grade3_Duration</th>\n",
              "      <th>Analgesic_Use_Pretreatment</th>\n",
              "      <th>Analgesic_Use_After_1W</th>\n",
              "      <th>Analgesic_Use_After_2W</th>\n",
              "      <th>Analgesic_Use_After_3W</th>\n",
              "      <th>Analgesic_Use_After_4W</th>\n",
              "      <th>Analgesic_Use_After_5W</th>\n",
              "      <th>Analgesic_Use_After_6W</th>\n",
              "      <th>Analgesic_Use_After_7W</th>\n",
              "      <th>Analgesic_Use_2W_After_Treatment</th>\n",
              "      <th>Analgesic_Use_4W_After_Treatment</th>\n",
              "      <th>Analgesic_Use</th>\n",
              "      <th>Opioid_analgesic_use</th>\n",
              "      <th>Antifungal_Use_Pretreatment</th>\n",
              "      <th>Antifungal_Use_After_1W</th>\n",
              "      <th>Antifungal_Use_After_2W</th>\n",
              "      <th>Antifungal_Use_After_3W</th>\n",
              "      <th>Antifungal_Use_After_4W</th>\n",
              "      <th>Antifungal_Use_After_5W</th>\n",
              "      <th>Antifungal_Use_After_6W</th>\n",
              "      <th>Antifungal_Use_After_7W</th>\n",
              "      <th>Antifungal_Use_2W_After_Treatment</th>\n",
              "      <th>Antifungal_Use_4W_After_Treatment</th>\n",
              "      <th>Antifungal_Use</th>\n",
              "      <th>Impact_Pretreatment</th>\n",
              "      <th>Impact_After_1W</th>\n",
              "      <th>Impact_After_2W</th>\n",
              "      <th>Impact_After_3W</th>\n",
              "      <th>Impact_After_4W</th>\n",
              "      <th>Impact_After_5W</th>\n",
              "      <th>Impact_After_6W</th>\n",
              "      <th>Impact_After_7W</th>\n",
              "      <th>Impact_2W_After_Treatment</th>\n",
              "      <th>Impact_4W_After_Treatment</th>\n",
              "      <th>Treatment_interaption</th>\n",
              "    </tr>\n",
              "  </thead>\n",
              "  <tbody>\n",
              "    <tr>\n",
              "      <th>0</th>\n",
              "      <td>1</td>\n",
              "      <td>Cryotherapy along with maintaining oral hygiene</td>\n",
              "      <td>NICRH</td>\n",
              "      <td>Shahidullah</td>\n",
              "      <td>55</td>\n",
              "      <td>Male</td>\n",
              "      <td>20/21127</td>\n",
              "      <td>20/3233</td>\n",
              "      <td>1624609120</td>\n",
              "      <td>Hatirjeel, Dhaka</td>\n",
              "      <td>Vill:Rongakhola,PO:Sahagonj, PS:Gouripur, Dist...</td>\n",
              "      <td>Farmer</td>\n",
              "      <td>Married</td>\n",
              "      <td>Average</td>\n",
              "      <td>Below SSC</td>\n",
              "      <td>Former</td>\n",
              "      <td>No</td>\n",
              "      <td>1</td>\n",
              "      <td>2</td>\n",
              "      <td>Hypopharynx</td>\n",
              "      <td>#REF!</td>\n",
              "      <td>T:2 N:1 M:X</td>\n",
              "      <td>2</td>\n",
              "      <td>Squamous cell carcinoma</td>\n",
              "      <td>Intent radical</td>\n",
              "      <td>Co60</td>\n",
              "      <td>1.25</td>\n",
              "      <td>6600</td>\n",
              "      <td>33</td>\n",
              "      <td>200</td>\n",
              "      <td>5</td>\n",
              "      <td>1.38</td>\n",
              "      <td>F\\C</td>\n",
              "      <td>Mid tragus</td>\n",
              "      <td></td>\n",
              "      <td>3 cm behind ear lobule.</td>\n",
              "      <td></td>\n",
              "      <td>14X11</td>\n",
              "      <td></td>\n",
              "      <td></td>\n",
              "      <td>...</td>\n",
              "      <td>2</td>\n",
              "      <td>2</td>\n",
              "      <td>2</td>\n",
              "      <td>3</td>\n",
              "      <td>2</td>\n",
              "      <td>2</td>\n",
              "      <td>No</td>\n",
              "      <td>No</td>\n",
              "      <td>No</td>\n",
              "      <td>No</td>\n",
              "      <td>No</td>\n",
              "      <td>No</td>\n",
              "      <td>Yes, Non</td>\n",
              "      <td>Yes, Non</td>\n",
              "      <td>Yes, Non</td>\n",
              "      <td>No</td>\n",
              "      <td>1</td>\n",
              "      <td>0</td>\n",
              "      <td>No</td>\n",
              "      <td>No</td>\n",
              "      <td>No</td>\n",
              "      <td>No</td>\n",
              "      <td>No</td>\n",
              "      <td>Yes</td>\n",
              "      <td>Yes</td>\n",
              "      <td>Yes</td>\n",
              "      <td>No</td>\n",
              "      <td>No</td>\n",
              "      <td>1</td>\n",
              "      <td>No</td>\n",
              "      <td>No</td>\n",
              "      <td>No</td>\n",
              "      <td>No</td>\n",
              "      <td>No</td>\n",
              "      <td>No</td>\n",
              "      <td>No</td>\n",
              "      <td>No</td>\n",
              "      <td>No</td>\n",
              "      <td>No</td>\n",
              "      <td>0</td>\n",
              "    </tr>\n",
              "    <tr>\n",
              "      <th>1</th>\n",
              "      <td>2</td>\n",
              "      <td>Cryotherapy along with maintaining oral hygiene</td>\n",
              "      <td>NICRH</td>\n",
              "      <td>Nasima</td>\n",
              "      <td>50</td>\n",
              "      <td>Female</td>\n",
              "      <td>20/15490</td>\n",
              "      <td>20/1677</td>\n",
              "      <td>1721569087</td>\n",
              "      <td></td>\n",
              "      <td>Borguna</td>\n",
              "      <td>Others</td>\n",
              "      <td>Married</td>\n",
              "      <td>Poor</td>\n",
              "      <td>Illiterate</td>\n",
              "      <td>Never, Smokers in family</td>\n",
              "      <td>No</td>\n",
              "      <td>2</td>\n",
              "      <td>2</td>\n",
              "      <td>Lip and Oral Cavity</td>\n",
              "      <td>Post-operative</td>\n",
              "      <td>T:4b N:1 M:X</td>\n",
              "      <td>4</td>\n",
              "      <td>Squamous cell carcinoma</td>\n",
              "      <td>Intent radical</td>\n",
              "      <td>Co60(Phoneix)</td>\n",
              "      <td>1.25</td>\n",
              "      <td>6600</td>\n",
              "      <td>33</td>\n",
              "      <td>2</td>\n",
              "      <td>5</td>\n",
              "      <td>1.33</td>\n",
              "      <td>F\\C</td>\n",
              "      <td>Mid tragus</td>\n",
              "      <td></td>\n",
              "      <td>3 cm behind ear lobule.</td>\n",
              "      <td></td>\n",
              "      <td>11X13</td>\n",
              "      <td></td>\n",
              "      <td></td>\n",
              "      <td>...</td>\n",
              "      <td>1</td>\n",
              "      <td>2</td>\n",
              "      <td>2</td>\n",
              "      <td>2</td>\n",
              "      <td>1</td>\n",
              "      <td>0</td>\n",
              "      <td>No</td>\n",
              "      <td>No</td>\n",
              "      <td>No</td>\n",
              "      <td>No</td>\n",
              "      <td>No</td>\n",
              "      <td>Yes, Non</td>\n",
              "      <td>Yes, Non</td>\n",
              "      <td>Yes, Non</td>\n",
              "      <td>Yes, Non</td>\n",
              "      <td>No</td>\n",
              "      <td>1</td>\n",
              "      <td>0</td>\n",
              "      <td>No</td>\n",
              "      <td>No</td>\n",
              "      <td>No</td>\n",
              "      <td>No</td>\n",
              "      <td>Yes</td>\n",
              "      <td>Yes</td>\n",
              "      <td>Yes</td>\n",
              "      <td>Yes</td>\n",
              "      <td>Yes</td>\n",
              "      <td>No</td>\n",
              "      <td>1</td>\n",
              "      <td>No</td>\n",
              "      <td>No</td>\n",
              "      <td>No</td>\n",
              "      <td>No</td>\n",
              "      <td>No</td>\n",
              "      <td>No</td>\n",
              "      <td>No</td>\n",
              "      <td>No</td>\n",
              "      <td>No</td>\n",
              "      <td>No</td>\n",
              "      <td>0</td>\n",
              "    </tr>\n",
              "    <tr>\n",
              "      <th>2</th>\n",
              "      <td>3</td>\n",
              "      <td>Cryotherapy along with maintaining oral hygiene</td>\n",
              "      <td>NICRH</td>\n",
              "      <td>Sonya</td>\n",
              "      <td>30</td>\n",
              "      <td>Female</td>\n",
              "      <td>21/578</td>\n",
              "      <td>288/21</td>\n",
              "      <td>1910043791</td>\n",
              "      <td></td>\n",
              "      <td>Vill:Shalla,PO: ,PS:Joydebpur ,Dist:Gazipur</td>\n",
              "      <td>Officials</td>\n",
              "      <td>Married</td>\n",
              "      <td>Average</td>\n",
              "      <td>Below SSC</td>\n",
              "      <td>Never, Smokers in family</td>\n",
              "      <td>No</td>\n",
              "      <td>2</td>\n",
              "      <td>1</td>\n",
              "      <td>Larynx</td>\n",
              "      <td>#REF!</td>\n",
              "      <td>T: 1 N: 0 M:X</td>\n",
              "      <td>1</td>\n",
              "      <td>Squamous cell carcinoma</td>\n",
              "      <td>Intent radical</td>\n",
              "      <td>Co60(Phoneix)</td>\n",
              "      <td>1.25</td>\n",
              "      <td>6600</td>\n",
              "      <td>33</td>\n",
              "      <td>2</td>\n",
              "      <td>5</td>\n",
              "      <td>1.49</td>\n",
              "      <td>F\\C</td>\n",
              "      <td></td>\n",
              "      <td></td>\n",
              "      <td></td>\n",
              "      <td></td>\n",
              "      <td>6X8</td>\n",
              "      <td></td>\n",
              "      <td></td>\n",
              "      <td>...</td>\n",
              "      <td>2</td>\n",
              "      <td>3</td>\n",
              "      <td>3</td>\n",
              "      <td>2</td>\n",
              "      <td>2</td>\n",
              "      <td>2</td>\n",
              "      <td>No</td>\n",
              "      <td>No</td>\n",
              "      <td>No</td>\n",
              "      <td>Yes, Non, OP</td>\n",
              "      <td>Yes, Non, OP</td>\n",
              "      <td>Yes, Non, OP</td>\n",
              "      <td>Yes, OP</td>\n",
              "      <td>Yes, OP</td>\n",
              "      <td>Yes, Non</td>\n",
              "      <td>Yes, Non</td>\n",
              "      <td>1</td>\n",
              "      <td>1</td>\n",
              "      <td>No</td>\n",
              "      <td>No</td>\n",
              "      <td>No</td>\n",
              "      <td>No</td>\n",
              "      <td>Yes</td>\n",
              "      <td>Yes</td>\n",
              "      <td>Yes</td>\n",
              "      <td>Yes</td>\n",
              "      <td>Yes</td>\n",
              "      <td>No</td>\n",
              "      <td>1</td>\n",
              "      <td>No</td>\n",
              "      <td>No</td>\n",
              "      <td>No</td>\n",
              "      <td>No</td>\n",
              "      <td>No</td>\n",
              "      <td>No</td>\n",
              "      <td>No</td>\n",
              "      <td>No</td>\n",
              "      <td>No</td>\n",
              "      <td>No</td>\n",
              "      <td>0</td>\n",
              "    </tr>\n",
              "    <tr>\n",
              "      <th>3</th>\n",
              "      <td>4</td>\n",
              "      <td>Cryotherapy along with maintaining oral hygiene</td>\n",
              "      <td>NICRH</td>\n",
              "      <td>Shahin</td>\n",
              "      <td>50</td>\n",
              "      <td>Male</td>\n",
              "      <td>20/5774</td>\n",
              "      <td>103/21</td>\n",
              "      <td>1772336317</td>\n",
              "      <td></td>\n",
              "      <td>Vill:Sohagdal, PS:Sarupkathi, Dist:Pirojpur</td>\n",
              "      <td>Day Labourer</td>\n",
              "      <td>Married</td>\n",
              "      <td>Poor</td>\n",
              "      <td>Illiterate</td>\n",
              "      <td>Former</td>\n",
              "      <td>HTN</td>\n",
              "      <td>2</td>\n",
              "      <td>2</td>\n",
              "      <td>Larynx</td>\n",
              "      <td>#REF!</td>\n",
              "      <td>T:3 N:1 M:X</td>\n",
              "      <td>3</td>\n",
              "      <td>Squamous cell carcinoma</td>\n",
              "      <td>Intent radical</td>\n",
              "      <td>Co60(Phoneix)</td>\n",
              "      <td>1.25</td>\n",
              "      <td>6600</td>\n",
              "      <td>33</td>\n",
              "      <td>200</td>\n",
              "      <td>5</td>\n",
              "      <td>2.1</td>\n",
              "      <td>F\\C</td>\n",
              "      <td>Mid tragus</td>\n",
              "      <td></td>\n",
              "      <td>5 cm behind ear lobule.</td>\n",
              "      <td></td>\n",
              "      <td></td>\n",
              "      <td></td>\n",
              "      <td></td>\n",
              "      <td>...</td>\n",
              "      <td>2</td>\n",
              "      <td>2</td>\n",
              "      <td>2</td>\n",
              "      <td>2</td>\n",
              "      <td>1</td>\n",
              "      <td>0</td>\n",
              "      <td>No</td>\n",
              "      <td>No</td>\n",
              "      <td>No</td>\n",
              "      <td>No</td>\n",
              "      <td>No</td>\n",
              "      <td>Yes, Non</td>\n",
              "      <td>Yes, Non</td>\n",
              "      <td>Yes, Non</td>\n",
              "      <td>Yes, Non</td>\n",
              "      <td>Yes, Non</td>\n",
              "      <td>1</td>\n",
              "      <td>0</td>\n",
              "      <td>No</td>\n",
              "      <td>No</td>\n",
              "      <td>No</td>\n",
              "      <td>No</td>\n",
              "      <td>No</td>\n",
              "      <td>Yes</td>\n",
              "      <td>Yes</td>\n",
              "      <td>Yes</td>\n",
              "      <td>Yes</td>\n",
              "      <td>No</td>\n",
              "      <td>1</td>\n",
              "      <td>No</td>\n",
              "      <td>No</td>\n",
              "      <td>No</td>\n",
              "      <td>No</td>\n",
              "      <td>No</td>\n",
              "      <td>No</td>\n",
              "      <td>No</td>\n",
              "      <td>No</td>\n",
              "      <td>No</td>\n",
              "      <td>No</td>\n",
              "      <td>0</td>\n",
              "    </tr>\n",
              "    <tr>\n",
              "      <th>4</th>\n",
              "      <td>9</td>\n",
              "      <td>Cryotherapy along with maintaining oral hygiene</td>\n",
              "      <td>NICRH</td>\n",
              "      <td>Kamrul</td>\n",
              "      <td>20</td>\n",
              "      <td>Male</td>\n",
              "      <td>21/7395</td>\n",
              "      <td>578/21</td>\n",
              "      <td>1641748447</td>\n",
              "      <td>57/A, Hazipara, Rampura</td>\n",
              "      <td>Vill:Aminpur, PS:Matlab, Dist:Chandpur</td>\n",
              "      <td>Others</td>\n",
              "      <td>Unmarried</td>\n",
              "      <td>Average</td>\n",
              "      <td>HSC</td>\n",
              "      <td>Never</td>\n",
              "      <td>No</td>\n",
              "      <td>0</td>\n",
              "      <td>2</td>\n",
              "      <td>Others</td>\n",
              "      <td>#REF!</td>\n",
              "      <td></td>\n",
              "      <td>2</td>\n",
              "      <td>Squamous cell carcinoma</td>\n",
              "      <td>Intent radical</td>\n",
              "      <td>Co60(Phoneix)</td>\n",
              "      <td>1.25</td>\n",
              "      <td>6000</td>\n",
              "      <td>30</td>\n",
              "      <td>2</td>\n",
              "      <td>5</td>\n",
              "      <td>2.44</td>\n",
              "      <td>Lt lat Face</td>\n",
              "      <td>A long the zygomatic arch</td>\n",
              "      <td></td>\n",
              "      <td>3 cm behind ear lobule.</td>\n",
              "      <td></td>\n",
              "      <td></td>\n",
              "      <td></td>\n",
              "      <td></td>\n",
              "      <td>...</td>\n",
              "      <td>2</td>\n",
              "      <td>3</td>\n",
              "      <td>3</td>\n",
              "      <td>2</td>\n",
              "      <td>1</td>\n",
              "      <td>2</td>\n",
              "      <td>No</td>\n",
              "      <td>No</td>\n",
              "      <td>No</td>\n",
              "      <td>No</td>\n",
              "      <td>No</td>\n",
              "      <td>No</td>\n",
              "      <td>No</td>\n",
              "      <td>Yes, Non</td>\n",
              "      <td>No</td>\n",
              "      <td>No</td>\n",
              "      <td>1</td>\n",
              "      <td>0</td>\n",
              "      <td>No</td>\n",
              "      <td>No</td>\n",
              "      <td>No</td>\n",
              "      <td>No</td>\n",
              "      <td>No</td>\n",
              "      <td>No</td>\n",
              "      <td>No</td>\n",
              "      <td>No</td>\n",
              "      <td>No</td>\n",
              "      <td>No</td>\n",
              "      <td>0</td>\n",
              "      <td>No</td>\n",
              "      <td>No</td>\n",
              "      <td>No</td>\n",
              "      <td>No</td>\n",
              "      <td>No</td>\n",
              "      <td>No</td>\n",
              "      <td>No</td>\n",
              "      <td>No</td>\n",
              "      <td>No</td>\n",
              "      <td>No</td>\n",
              "      <td>0</td>\n",
              "    </tr>\n",
              "    <tr>\n",
              "      <th>...</th>\n",
              "      <td>...</td>\n",
              "      <td>...</td>\n",
              "      <td>...</td>\n",
              "      <td>...</td>\n",
              "      <td>...</td>\n",
              "      <td>...</td>\n",
              "      <td>...</td>\n",
              "      <td>...</td>\n",
              "      <td>...</td>\n",
              "      <td>...</td>\n",
              "      <td>...</td>\n",
              "      <td>...</td>\n",
              "      <td>...</td>\n",
              "      <td>...</td>\n",
              "      <td>...</td>\n",
              "      <td>...</td>\n",
              "      <td>...</td>\n",
              "      <td>...</td>\n",
              "      <td>...</td>\n",
              "      <td>...</td>\n",
              "      <td>...</td>\n",
              "      <td>...</td>\n",
              "      <td>...</td>\n",
              "      <td>...</td>\n",
              "      <td>...</td>\n",
              "      <td>...</td>\n",
              "      <td>...</td>\n",
              "      <td>...</td>\n",
              "      <td>...</td>\n",
              "      <td>...</td>\n",
              "      <td>...</td>\n",
              "      <td>...</td>\n",
              "      <td>...</td>\n",
              "      <td>...</td>\n",
              "      <td>...</td>\n",
              "      <td>...</td>\n",
              "      <td>...</td>\n",
              "      <td>...</td>\n",
              "      <td>...</td>\n",
              "      <td>...</td>\n",
              "      <td>...</td>\n",
              "      <td>...</td>\n",
              "      <td>...</td>\n",
              "      <td>...</td>\n",
              "      <td>...</td>\n",
              "      <td>...</td>\n",
              "      <td>...</td>\n",
              "      <td>...</td>\n",
              "      <td>...</td>\n",
              "      <td>...</td>\n",
              "      <td>...</td>\n",
              "      <td>...</td>\n",
              "      <td>...</td>\n",
              "      <td>...</td>\n",
              "      <td>...</td>\n",
              "      <td>...</td>\n",
              "      <td>...</td>\n",
              "      <td>...</td>\n",
              "      <td>...</td>\n",
              "      <td>...</td>\n",
              "      <td>...</td>\n",
              "      <td>...</td>\n",
              "      <td>...</td>\n",
              "      <td>...</td>\n",
              "      <td>...</td>\n",
              "      <td>...</td>\n",
              "      <td>...</td>\n",
              "      <td>...</td>\n",
              "      <td>...</td>\n",
              "      <td>...</td>\n",
              "      <td>...</td>\n",
              "      <td>...</td>\n",
              "      <td>...</td>\n",
              "      <td>...</td>\n",
              "      <td>...</td>\n",
              "      <td>...</td>\n",
              "      <td>...</td>\n",
              "      <td>...</td>\n",
              "      <td>...</td>\n",
              "      <td>...</td>\n",
              "      <td>...</td>\n",
              "    </tr>\n",
              "    <tr>\n",
              "      <th>95</th>\n",
              "      <td>45</td>\n",
              "      <td>Maintaining oral hygiene only</td>\n",
              "      <td>NICRH</td>\n",
              "      <td>Md. Salam</td>\n",
              "      <td>54</td>\n",
              "      <td>Male</td>\n",
              "      <td>21/2907</td>\n",
              "      <td>21/354</td>\n",
              "      <td>1725888124</td>\n",
              "      <td>Jhalakathi</td>\n",
              "      <td></td>\n",
              "      <td>Business</td>\n",
              "      <td>Married</td>\n",
              "      <td>Average</td>\n",
              "      <td>Illiterate</td>\n",
              "      <td>Former</td>\n",
              "      <td>No</td>\n",
              "      <td>2</td>\n",
              "      <td>2</td>\n",
              "      <td>Oropharynx</td>\n",
              "      <td>#REF!</td>\n",
              "      <td>T: N: M:</td>\n",
              "      <td>3</td>\n",
              "      <td>Squamous cell carcinoma</td>\n",
              "      <td>Intent radical</td>\n",
              "      <td>Co60</td>\n",
              "      <td>1.25</td>\n",
              "      <td>6600</td>\n",
              "      <td>33</td>\n",
              "      <td>24</td>\n",
              "      <td>5</td>\n",
              "      <td>1.35</td>\n",
              "      <td>F\\C</td>\n",
              "      <td>Mid tragus</td>\n",
              "      <td></td>\n",
              "      <td>3 cm behind ear</td>\n",
              "      <td></td>\n",
              "      <td>10X16</td>\n",
              "      <td></td>\n",
              "      <td></td>\n",
              "      <td>...</td>\n",
              "      <td>3</td>\n",
              "      <td>3</td>\n",
              "      <td>4</td>\n",
              "      <td>4</td>\n",
              "      <td>3</td>\n",
              "      <td>6</td>\n",
              "      <td>No</td>\n",
              "      <td>No</td>\n",
              "      <td>No</td>\n",
              "      <td>Yes, Non</td>\n",
              "      <td>Yes, Non</td>\n",
              "      <td>Yes, Non</td>\n",
              "      <td>Yes, Non</td>\n",
              "      <td>Yes, Non</td>\n",
              "      <td>Yes, Non</td>\n",
              "      <td>Yes, Non</td>\n",
              "      <td>1</td>\n",
              "      <td>0</td>\n",
              "      <td>No</td>\n",
              "      <td>No</td>\n",
              "      <td>No</td>\n",
              "      <td>yes</td>\n",
              "      <td>yes</td>\n",
              "      <td>Yes</td>\n",
              "      <td>Yes</td>\n",
              "      <td>Yes</td>\n",
              "      <td></td>\n",
              "      <td>No</td>\n",
              "      <td>1</td>\n",
              "      <td>No</td>\n",
              "      <td>No</td>\n",
              "      <td>No</td>\n",
              "      <td>No</td>\n",
              "      <td>No</td>\n",
              "      <td>No</td>\n",
              "      <td>No</td>\n",
              "      <td>No</td>\n",
              "      <td>No</td>\n",
              "      <td>No</td>\n",
              "      <td>0</td>\n",
              "    </tr>\n",
              "    <tr>\n",
              "      <th>96</th>\n",
              "      <td>46</td>\n",
              "      <td>Maintaining oral hygiene only</td>\n",
              "      <td>NICRH</td>\n",
              "      <td>Harun</td>\n",
              "      <td>50</td>\n",
              "      <td>Male</td>\n",
              "      <td>20/22131</td>\n",
              "      <td>20/3341</td>\n",
              "      <td>1845568988</td>\n",
              "      <td>Magura</td>\n",
              "      <td></td>\n",
              "      <td>Farmer</td>\n",
              "      <td>Married</td>\n",
              "      <td>Average</td>\n",
              "      <td>Below SSC</td>\n",
              "      <td>Former</td>\n",
              "      <td>No</td>\n",
              "      <td>1</td>\n",
              "      <td>2</td>\n",
              "      <td>Lip and Oral Cavity</td>\n",
              "      <td>Post-operative</td>\n",
              "      <td>T: N: M:</td>\n",
              "      <td>3</td>\n",
              "      <td>Squamous cell carcinoma</td>\n",
              "      <td>Intent radical</td>\n",
              "      <td>Co60(Phoneix)</td>\n",
              "      <td>1.25</td>\n",
              "      <td>6600</td>\n",
              "      <td>33</td>\n",
              "      <td>200</td>\n",
              "      <td>5</td>\n",
              "      <td>1.44</td>\n",
              "      <td>F\\C</td>\n",
              "      <td>Mid tragus</td>\n",
              "      <td></td>\n",
              "      <td>3 cm behind ear</td>\n",
              "      <td></td>\n",
              "      <td>12X15</td>\n",
              "      <td></td>\n",
              "      <td></td>\n",
              "      <td>...</td>\n",
              "      <td>3</td>\n",
              "      <td>3</td>\n",
              "      <td>3</td>\n",
              "      <td>4</td>\n",
              "      <td>3</td>\n",
              "      <td>5</td>\n",
              "      <td>No</td>\n",
              "      <td>No</td>\n",
              "      <td>No</td>\n",
              "      <td>No</td>\n",
              "      <td>No</td>\n",
              "      <td></td>\n",
              "      <td></td>\n",
              "      <td>Yes, Non</td>\n",
              "      <td>Yes, Non</td>\n",
              "      <td>Yes, Non</td>\n",
              "      <td>1</td>\n",
              "      <td>0</td>\n",
              "      <td>No</td>\n",
              "      <td>No</td>\n",
              "      <td>Yes</td>\n",
              "      <td>Yes</td>\n",
              "      <td>Yes</td>\n",
              "      <td>Yes</td>\n",
              "      <td>Yes</td>\n",
              "      <td>Yes</td>\n",
              "      <td>yes</td>\n",
              "      <td>No</td>\n",
              "      <td>1</td>\n",
              "      <td>No</td>\n",
              "      <td>No</td>\n",
              "      <td>No</td>\n",
              "      <td>No</td>\n",
              "      <td>No</td>\n",
              "      <td>No</td>\n",
              "      <td>No</td>\n",
              "      <td>No</td>\n",
              "      <td>No</td>\n",
              "      <td>No</td>\n",
              "      <td>0</td>\n",
              "    </tr>\n",
              "    <tr>\n",
              "      <th>97</th>\n",
              "      <td>47</td>\n",
              "      <td>Maintaining oral hygiene only</td>\n",
              "      <td>NICRH</td>\n",
              "      <td>Mina</td>\n",
              "      <td>65</td>\n",
              "      <td>Male</td>\n",
              "      <td>20/15485</td>\n",
              "      <td>20/1660</td>\n",
              "      <td>1723340295</td>\n",
              "      <td>Gopalganj</td>\n",
              "      <td></td>\n",
              "      <td>Others</td>\n",
              "      <td>Married</td>\n",
              "      <td>Average</td>\n",
              "      <td>SSC</td>\n",
              "      <td>Former</td>\n",
              "      <td>HTN</td>\n",
              "      <td>2</td>\n",
              "      <td>2</td>\n",
              "      <td>Hypopharynx</td>\n",
              "      <td>#REF!</td>\n",
              "      <td>T:3 N:1 M:</td>\n",
              "      <td>3</td>\n",
              "      <td>Squamous cell carcinoma</td>\n",
              "      <td>Intent radical</td>\n",
              "      <td>Co60</td>\n",
              "      <td>1.25</td>\n",
              "      <td>6600</td>\n",
              "      <td>33</td>\n",
              "      <td>24</td>\n",
              "      <td>5</td>\n",
              "      <td>1.43</td>\n",
              "      <td>F\\C</td>\n",
              "      <td>Mid tragus</td>\n",
              "      <td></td>\n",
              "      <td>3 cm behind ear</td>\n",
              "      <td></td>\n",
              "      <td>14X10</td>\n",
              "      <td></td>\n",
              "      <td></td>\n",
              "      <td>...</td>\n",
              "      <td>3</td>\n",
              "      <td>3</td>\n",
              "      <td>4</td>\n",
              "      <td>4</td>\n",
              "      <td>3</td>\n",
              "      <td>5</td>\n",
              "      <td>No</td>\n",
              "      <td>No</td>\n",
              "      <td>Yes, Non</td>\n",
              "      <td>Yes, Non</td>\n",
              "      <td>Yes, Non</td>\n",
              "      <td>Yes, Non</td>\n",
              "      <td>Yes, Non</td>\n",
              "      <td>Yes, Non</td>\n",
              "      <td>Yes, Non</td>\n",
              "      <td>Yes, Non</td>\n",
              "      <td>1</td>\n",
              "      <td>0</td>\n",
              "      <td>No</td>\n",
              "      <td>No</td>\n",
              "      <td>No</td>\n",
              "      <td>No</td>\n",
              "      <td>Yes</td>\n",
              "      <td>Yes</td>\n",
              "      <td>Yes</td>\n",
              "      <td>Yes</td>\n",
              "      <td>Yes</td>\n",
              "      <td>No</td>\n",
              "      <td>1</td>\n",
              "      <td>No</td>\n",
              "      <td>No</td>\n",
              "      <td>No</td>\n",
              "      <td>No</td>\n",
              "      <td>No</td>\n",
              "      <td>No</td>\n",
              "      <td>No</td>\n",
              "      <td>No</td>\n",
              "      <td>No</td>\n",
              "      <td>No</td>\n",
              "      <td>0</td>\n",
              "    </tr>\n",
              "    <tr>\n",
              "      <th>98</th>\n",
              "      <td>48</td>\n",
              "      <td>Maintaining oral hygiene only</td>\n",
              "      <td>NICRH</td>\n",
              "      <td>Marzeda</td>\n",
              "      <td>45</td>\n",
              "      <td>Female</td>\n",
              "      <td>21/4578</td>\n",
              "      <td>30/21</td>\n",
              "      <td>1888544322</td>\n",
              "      <td>Mymensing</td>\n",
              "      <td></td>\n",
              "      <td>Others</td>\n",
              "      <td>Married</td>\n",
              "      <td>Average</td>\n",
              "      <td>Illiterate</td>\n",
              "      <td>Smokers in Family</td>\n",
              "      <td>Diabetes, HTN</td>\n",
              "      <td>2</td>\n",
              "      <td>2</td>\n",
              "      <td>Lip and Oral Cavity</td>\n",
              "      <td>Post-operative</td>\n",
              "      <td>T:3 N:1 M:</td>\n",
              "      <td>3</td>\n",
              "      <td>Squamous cell carcinoma</td>\n",
              "      <td>Intent radical</td>\n",
              "      <td>Co60</td>\n",
              "      <td>1.25</td>\n",
              "      <td>6600</td>\n",
              "      <td>33</td>\n",
              "      <td>24</td>\n",
              "      <td>5</td>\n",
              "      <td>1.4</td>\n",
              "      <td>F\\C</td>\n",
              "      <td>Mid tragus</td>\n",
              "      <td></td>\n",
              "      <td>3 cm behind ear</td>\n",
              "      <td></td>\n",
              "      <td>14X12</td>\n",
              "      <td></td>\n",
              "      <td></td>\n",
              "      <td>...</td>\n",
              "      <td>3</td>\n",
              "      <td>3</td>\n",
              "      <td>4</td>\n",
              "      <td>3</td>\n",
              "      <td>3</td>\n",
              "      <td>6</td>\n",
              "      <td>No</td>\n",
              "      <td>No</td>\n",
              "      <td>No</td>\n",
              "      <td>No</td>\n",
              "      <td>No</td>\n",
              "      <td>Yes, Non</td>\n",
              "      <td>Yes, Non</td>\n",
              "      <td>Yes, Non</td>\n",
              "      <td>Yes, Non</td>\n",
              "      <td>Yes, Non</td>\n",
              "      <td>1</td>\n",
              "      <td>0</td>\n",
              "      <td>No</td>\n",
              "      <td>No</td>\n",
              "      <td>No</td>\n",
              "      <td>No</td>\n",
              "      <td>Yes</td>\n",
              "      <td>Yes</td>\n",
              "      <td>Yes</td>\n",
              "      <td>Yes</td>\n",
              "      <td>Yes</td>\n",
              "      <td>Yes</td>\n",
              "      <td>1</td>\n",
              "      <td>No</td>\n",
              "      <td>No</td>\n",
              "      <td>No</td>\n",
              "      <td>No</td>\n",
              "      <td>No</td>\n",
              "      <td>No</td>\n",
              "      <td>No</td>\n",
              "      <td>yes</td>\n",
              "      <td>yes</td>\n",
              "      <td>No</td>\n",
              "      <td>1</td>\n",
              "    </tr>\n",
              "    <tr>\n",
              "      <th>99</th>\n",
              "      <td>53</td>\n",
              "      <td>Maintaining oral hygiene only</td>\n",
              "      <td>NICRH</td>\n",
              "      <td>Abdul Matin</td>\n",
              "      <td>65</td>\n",
              "      <td>Male</td>\n",
              "      <td>21/1795</td>\n",
              "      <td>552/21</td>\n",
              "      <td>1675571088</td>\n",
              "      <td></td>\n",
              "      <td>Vill:Gosamde ,PO: ,PS:Sonanimer ,Dist:Noakhali</td>\n",
              "      <td>Farmer</td>\n",
              "      <td>Married</td>\n",
              "      <td>Average</td>\n",
              "      <td>Below SSC</td>\n",
              "      <td>Former</td>\n",
              "      <td>No</td>\n",
              "      <td>2</td>\n",
              "      <td>2</td>\n",
              "      <td>Oropharynx</td>\n",
              "      <td>#REF!</td>\n",
              "      <td>T:2 N:2 M:</td>\n",
              "      <td>2</td>\n",
              "      <td>Squamous cell carcinoma</td>\n",
              "      <td>Intent radical</td>\n",
              "      <td>Co60</td>\n",
              "      <td>1.25</td>\n",
              "      <td>6600</td>\n",
              "      <td>33</td>\n",
              "      <td>24</td>\n",
              "      <td>5</td>\n",
              "      <td>1.48</td>\n",
              "      <td>F\\C</td>\n",
              "      <td>Mid tragus</td>\n",
              "      <td></td>\n",
              "      <td>3 cm behind ear</td>\n",
              "      <td></td>\n",
              "      <td>10X14 cm</td>\n",
              "      <td></td>\n",
              "      <td></td>\n",
              "      <td>...</td>\n",
              "      <td>2</td>\n",
              "      <td>3</td>\n",
              "      <td>3</td>\n",
              "      <td>3</td>\n",
              "      <td>2</td>\n",
              "      <td>4</td>\n",
              "      <td>No</td>\n",
              "      <td>No</td>\n",
              "      <td>No</td>\n",
              "      <td>No</td>\n",
              "      <td>No</td>\n",
              "      <td>Yes, Non</td>\n",
              "      <td>Yes, Non</td>\n",
              "      <td>Yes, Non</td>\n",
              "      <td>Yes, Non</td>\n",
              "      <td>Yes, Non</td>\n",
              "      <td>1</td>\n",
              "      <td>0</td>\n",
              "      <td>No</td>\n",
              "      <td>No</td>\n",
              "      <td>No</td>\n",
              "      <td>NO</td>\n",
              "      <td>NO</td>\n",
              "      <td>Yes</td>\n",
              "      <td>Yes</td>\n",
              "      <td>Yes</td>\n",
              "      <td>Yes</td>\n",
              "      <td>Yes</td>\n",
              "      <td>1</td>\n",
              "      <td>No</td>\n",
              "      <td>No</td>\n",
              "      <td>No</td>\n",
              "      <td>No</td>\n",
              "      <td>No</td>\n",
              "      <td>No</td>\n",
              "      <td>No</td>\n",
              "      <td>No</td>\n",
              "      <td>No</td>\n",
              "      <td>No</td>\n",
              "      <td>0</td>\n",
              "    </tr>\n",
              "  </tbody>\n",
              "</table>\n",
              "<p>100 rows × 113 columns</p>\n",
              "</div>"
            ],
            "text/plain": [
              "   Case_No  ... Treatment_interaption\n",
              "0        1  ...                     0\n",
              "1        2  ...                     0\n",
              "2        3  ...                     0\n",
              "3        4  ...                     0\n",
              "4        9  ...                     0\n",
              "..     ...  ...                   ...\n",
              "95      45  ...                     0\n",
              "96      46  ...                     0\n",
              "97      47  ...                     0\n",
              "98      48  ...                     1\n",
              "99      53  ...                     0\n",
              "\n",
              "[100 rows x 113 columns]"
            ]
          },
          "metadata": {},
          "execution_count": 92
        }
      ]
    },
    {
      "cell_type": "code",
      "metadata": {
        "id": "eTgHAGRUZ2j_"
      },
      "source": [
        "df1 = pd.read_csv('/content/drive/MyDrive/My Job/NICRH Data Collection/Analysis/NICRH Patient Data.csv')"
      ],
      "execution_count": 93,
      "outputs": []
    },
    {
      "cell_type": "code",
      "metadata": {
        "id": "a90z7UXKWupD",
        "colab": {
          "base_uri": "https://localhost:8080/",
          "height": 508
        },
        "outputId": "b861e5c6-bd05-4d0a-d08e-556622399192"
      },
      "source": [
        "\n",
        "df.head()"
      ],
      "execution_count": 94,
      "outputs": [
        {
          "output_type": "execute_result",
          "data": {
            "text/html": [
              "<div>\n",
              "<style scoped>\n",
              "    .dataframe tbody tr th:only-of-type {\n",
              "        vertical-align: middle;\n",
              "    }\n",
              "\n",
              "    .dataframe tbody tr th {\n",
              "        vertical-align: top;\n",
              "    }\n",
              "\n",
              "    .dataframe thead th {\n",
              "        text-align: right;\n",
              "    }\n",
              "</style>\n",
              "<table border=\"1\" class=\"dataframe\">\n",
              "  <thead>\n",
              "    <tr style=\"text-align: right;\">\n",
              "      <th></th>\n",
              "      <th>Case_No</th>\n",
              "      <th>Classification</th>\n",
              "      <th>Hospital_Name</th>\n",
              "      <th>Patient_Name</th>\n",
              "      <th>Age</th>\n",
              "      <th>Sex</th>\n",
              "      <th>Registration_No</th>\n",
              "      <th>RT_No</th>\n",
              "      <th>Phone_No</th>\n",
              "      <th>Local_Address</th>\n",
              "      <th>Permanent_Address</th>\n",
              "      <th>Occupation</th>\n",
              "      <th>Marital_Status</th>\n",
              "      <th>Socioeconomic_Condition</th>\n",
              "      <th>Educational_Qualification</th>\n",
              "      <th>Smoking_History</th>\n",
              "      <th>Comorbidities</th>\n",
              "      <th>Performance_Status</th>\n",
              "      <th>Body_Built</th>\n",
              "      <th>Diagnosis</th>\n",
              "      <th>Radiotherapy</th>\n",
              "      <th>Diagnosis_Stage</th>\n",
              "      <th>Stage</th>\n",
              "      <th>Histopathology</th>\n",
              "      <th>Treatment_Intention</th>\n",
              "      <th>Radiotherapy_Machine</th>\n",
              "      <th>Energy(MeV)</th>\n",
              "      <th>Total_Dose</th>\n",
              "      <th>Fractions_Number</th>\n",
              "      <th>Dose_Per_Fraction(Gy)</th>\n",
              "      <th>Weekly_Treatment_Days(Day)</th>\n",
              "      <th>Daily_Treatment_Duration(Min)</th>\n",
              "      <th>Treatment_Field</th>\n",
              "      <th>Superior_Border</th>\n",
              "      <th>Inferior_Border</th>\n",
              "      <th>Lateral_Border</th>\n",
              "      <th>Medial_Border</th>\n",
              "      <th>Field_Size(cm)</th>\n",
              "      <th>OMAS_Pretreatment</th>\n",
              "      <th>OMAS_After_1W</th>\n",
              "      <th>...</th>\n",
              "      <th>WHO_Grade_After_5W</th>\n",
              "      <th>WHO_Grade_After_6W</th>\n",
              "      <th>WHO_Grade_After_7W</th>\n",
              "      <th>WHO_Grade_2W_After_Treatment</th>\n",
              "      <th>WHO_Grade_4W_After_Treatment</th>\n",
              "      <th>WHO_Grade3_Duration</th>\n",
              "      <th>Analgesic_Use_Pretreatment</th>\n",
              "      <th>Analgesic_Use_After_1W</th>\n",
              "      <th>Analgesic_Use_After_2W</th>\n",
              "      <th>Analgesic_Use_After_3W</th>\n",
              "      <th>Analgesic_Use_After_4W</th>\n",
              "      <th>Analgesic_Use_After_5W</th>\n",
              "      <th>Analgesic_Use_After_6W</th>\n",
              "      <th>Analgesic_Use_After_7W</th>\n",
              "      <th>Analgesic_Use_2W_After_Treatment</th>\n",
              "      <th>Analgesic_Use_4W_After_Treatment</th>\n",
              "      <th>Analgesic_Use</th>\n",
              "      <th>Opioid_analgesic_use</th>\n",
              "      <th>Antifungal_Use_Pretreatment</th>\n",
              "      <th>Antifungal_Use_After_1W</th>\n",
              "      <th>Antifungal_Use_After_2W</th>\n",
              "      <th>Antifungal_Use_After_3W</th>\n",
              "      <th>Antifungal_Use_After_4W</th>\n",
              "      <th>Antifungal_Use_After_5W</th>\n",
              "      <th>Antifungal_Use_After_6W</th>\n",
              "      <th>Antifungal_Use_After_7W</th>\n",
              "      <th>Antifungal_Use_2W_After_Treatment</th>\n",
              "      <th>Antifungal_Use_4W_After_Treatment</th>\n",
              "      <th>Antifungal_Use</th>\n",
              "      <th>Impact_Pretreatment</th>\n",
              "      <th>Impact_After_1W</th>\n",
              "      <th>Impact_After_2W</th>\n",
              "      <th>Impact_After_3W</th>\n",
              "      <th>Impact_After_4W</th>\n",
              "      <th>Impact_After_5W</th>\n",
              "      <th>Impact_After_6W</th>\n",
              "      <th>Impact_After_7W</th>\n",
              "      <th>Impact_2W_After_Treatment</th>\n",
              "      <th>Impact_4W_After_Treatment</th>\n",
              "      <th>Treatment_interaption</th>\n",
              "    </tr>\n",
              "  </thead>\n",
              "  <tbody>\n",
              "    <tr>\n",
              "      <th>0</th>\n",
              "      <td>1</td>\n",
              "      <td>Cryotherapy along with maintaining oral hygiene</td>\n",
              "      <td>NICRH</td>\n",
              "      <td>Shahidullah</td>\n",
              "      <td>55</td>\n",
              "      <td>Male</td>\n",
              "      <td>20/21127</td>\n",
              "      <td>20/3233</td>\n",
              "      <td>1624609120</td>\n",
              "      <td>Hatirjeel, Dhaka</td>\n",
              "      <td>Vill:Rongakhola,PO:Sahagonj, PS:Gouripur, Dist...</td>\n",
              "      <td>Farmer</td>\n",
              "      <td>Married</td>\n",
              "      <td>Average</td>\n",
              "      <td>Below SSC</td>\n",
              "      <td>Former</td>\n",
              "      <td>No</td>\n",
              "      <td>1</td>\n",
              "      <td>2</td>\n",
              "      <td>Hypopharynx</td>\n",
              "      <td>#REF!</td>\n",
              "      <td>T:2 N:1 M:X</td>\n",
              "      <td>2</td>\n",
              "      <td>Squamous cell carcinoma</td>\n",
              "      <td>Intent radical</td>\n",
              "      <td>Co60</td>\n",
              "      <td>1.25</td>\n",
              "      <td>6600</td>\n",
              "      <td>33</td>\n",
              "      <td>200</td>\n",
              "      <td>5</td>\n",
              "      <td>1.38</td>\n",
              "      <td>F\\C</td>\n",
              "      <td>Mid tragus</td>\n",
              "      <td></td>\n",
              "      <td>3 cm behind ear lobule.</td>\n",
              "      <td></td>\n",
              "      <td>14X11</td>\n",
              "      <td></td>\n",
              "      <td></td>\n",
              "      <td>...</td>\n",
              "      <td>2</td>\n",
              "      <td>2</td>\n",
              "      <td>2</td>\n",
              "      <td>3</td>\n",
              "      <td>2</td>\n",
              "      <td>2</td>\n",
              "      <td>No</td>\n",
              "      <td>No</td>\n",
              "      <td>No</td>\n",
              "      <td>No</td>\n",
              "      <td>No</td>\n",
              "      <td>No</td>\n",
              "      <td>Yes, Non</td>\n",
              "      <td>Yes, Non</td>\n",
              "      <td>Yes, Non</td>\n",
              "      <td>No</td>\n",
              "      <td>1</td>\n",
              "      <td>0</td>\n",
              "      <td>No</td>\n",
              "      <td>No</td>\n",
              "      <td>No</td>\n",
              "      <td>No</td>\n",
              "      <td>No</td>\n",
              "      <td>Yes</td>\n",
              "      <td>Yes</td>\n",
              "      <td>Yes</td>\n",
              "      <td>No</td>\n",
              "      <td>No</td>\n",
              "      <td>1</td>\n",
              "      <td>No</td>\n",
              "      <td>No</td>\n",
              "      <td>No</td>\n",
              "      <td>No</td>\n",
              "      <td>No</td>\n",
              "      <td>No</td>\n",
              "      <td>No</td>\n",
              "      <td>No</td>\n",
              "      <td>No</td>\n",
              "      <td>No</td>\n",
              "      <td>0</td>\n",
              "    </tr>\n",
              "    <tr>\n",
              "      <th>1</th>\n",
              "      <td>2</td>\n",
              "      <td>Cryotherapy along with maintaining oral hygiene</td>\n",
              "      <td>NICRH</td>\n",
              "      <td>Nasima</td>\n",
              "      <td>50</td>\n",
              "      <td>Female</td>\n",
              "      <td>20/15490</td>\n",
              "      <td>20/1677</td>\n",
              "      <td>1721569087</td>\n",
              "      <td></td>\n",
              "      <td>Borguna</td>\n",
              "      <td>Others</td>\n",
              "      <td>Married</td>\n",
              "      <td>Poor</td>\n",
              "      <td>Illiterate</td>\n",
              "      <td>Never, Smokers in family</td>\n",
              "      <td>No</td>\n",
              "      <td>2</td>\n",
              "      <td>2</td>\n",
              "      <td>Lip and Oral Cavity</td>\n",
              "      <td>Post-operative</td>\n",
              "      <td>T:4b N:1 M:X</td>\n",
              "      <td>4</td>\n",
              "      <td>Squamous cell carcinoma</td>\n",
              "      <td>Intent radical</td>\n",
              "      <td>Co60(Phoneix)</td>\n",
              "      <td>1.25</td>\n",
              "      <td>6600</td>\n",
              "      <td>33</td>\n",
              "      <td>2</td>\n",
              "      <td>5</td>\n",
              "      <td>1.33</td>\n",
              "      <td>F\\C</td>\n",
              "      <td>Mid tragus</td>\n",
              "      <td></td>\n",
              "      <td>3 cm behind ear lobule.</td>\n",
              "      <td></td>\n",
              "      <td>11X13</td>\n",
              "      <td></td>\n",
              "      <td></td>\n",
              "      <td>...</td>\n",
              "      <td>1</td>\n",
              "      <td>2</td>\n",
              "      <td>2</td>\n",
              "      <td>2</td>\n",
              "      <td>1</td>\n",
              "      <td>0</td>\n",
              "      <td>No</td>\n",
              "      <td>No</td>\n",
              "      <td>No</td>\n",
              "      <td>No</td>\n",
              "      <td>No</td>\n",
              "      <td>Yes, Non</td>\n",
              "      <td>Yes, Non</td>\n",
              "      <td>Yes, Non</td>\n",
              "      <td>Yes, Non</td>\n",
              "      <td>No</td>\n",
              "      <td>1</td>\n",
              "      <td>0</td>\n",
              "      <td>No</td>\n",
              "      <td>No</td>\n",
              "      <td>No</td>\n",
              "      <td>No</td>\n",
              "      <td>Yes</td>\n",
              "      <td>Yes</td>\n",
              "      <td>Yes</td>\n",
              "      <td>Yes</td>\n",
              "      <td>Yes</td>\n",
              "      <td>No</td>\n",
              "      <td>1</td>\n",
              "      <td>No</td>\n",
              "      <td>No</td>\n",
              "      <td>No</td>\n",
              "      <td>No</td>\n",
              "      <td>No</td>\n",
              "      <td>No</td>\n",
              "      <td>No</td>\n",
              "      <td>No</td>\n",
              "      <td>No</td>\n",
              "      <td>No</td>\n",
              "      <td>0</td>\n",
              "    </tr>\n",
              "    <tr>\n",
              "      <th>2</th>\n",
              "      <td>3</td>\n",
              "      <td>Cryotherapy along with maintaining oral hygiene</td>\n",
              "      <td>NICRH</td>\n",
              "      <td>Sonya</td>\n",
              "      <td>30</td>\n",
              "      <td>Female</td>\n",
              "      <td>21/578</td>\n",
              "      <td>288/21</td>\n",
              "      <td>1910043791</td>\n",
              "      <td></td>\n",
              "      <td>Vill:Shalla,PO: ,PS:Joydebpur ,Dist:Gazipur</td>\n",
              "      <td>Officials</td>\n",
              "      <td>Married</td>\n",
              "      <td>Average</td>\n",
              "      <td>Below SSC</td>\n",
              "      <td>Never, Smokers in family</td>\n",
              "      <td>No</td>\n",
              "      <td>2</td>\n",
              "      <td>1</td>\n",
              "      <td>Larynx</td>\n",
              "      <td>#REF!</td>\n",
              "      <td>T: 1 N: 0 M:X</td>\n",
              "      <td>1</td>\n",
              "      <td>Squamous cell carcinoma</td>\n",
              "      <td>Intent radical</td>\n",
              "      <td>Co60(Phoneix)</td>\n",
              "      <td>1.25</td>\n",
              "      <td>6600</td>\n",
              "      <td>33</td>\n",
              "      <td>2</td>\n",
              "      <td>5</td>\n",
              "      <td>1.49</td>\n",
              "      <td>F\\C</td>\n",
              "      <td></td>\n",
              "      <td></td>\n",
              "      <td></td>\n",
              "      <td></td>\n",
              "      <td>6X8</td>\n",
              "      <td></td>\n",
              "      <td></td>\n",
              "      <td>...</td>\n",
              "      <td>2</td>\n",
              "      <td>3</td>\n",
              "      <td>3</td>\n",
              "      <td>2</td>\n",
              "      <td>2</td>\n",
              "      <td>2</td>\n",
              "      <td>No</td>\n",
              "      <td>No</td>\n",
              "      <td>No</td>\n",
              "      <td>Yes, Non, OP</td>\n",
              "      <td>Yes, Non, OP</td>\n",
              "      <td>Yes, Non, OP</td>\n",
              "      <td>Yes, OP</td>\n",
              "      <td>Yes, OP</td>\n",
              "      <td>Yes, Non</td>\n",
              "      <td>Yes, Non</td>\n",
              "      <td>1</td>\n",
              "      <td>1</td>\n",
              "      <td>No</td>\n",
              "      <td>No</td>\n",
              "      <td>No</td>\n",
              "      <td>No</td>\n",
              "      <td>Yes</td>\n",
              "      <td>Yes</td>\n",
              "      <td>Yes</td>\n",
              "      <td>Yes</td>\n",
              "      <td>Yes</td>\n",
              "      <td>No</td>\n",
              "      <td>1</td>\n",
              "      <td>No</td>\n",
              "      <td>No</td>\n",
              "      <td>No</td>\n",
              "      <td>No</td>\n",
              "      <td>No</td>\n",
              "      <td>No</td>\n",
              "      <td>No</td>\n",
              "      <td>No</td>\n",
              "      <td>No</td>\n",
              "      <td>No</td>\n",
              "      <td>0</td>\n",
              "    </tr>\n",
              "    <tr>\n",
              "      <th>3</th>\n",
              "      <td>4</td>\n",
              "      <td>Cryotherapy along with maintaining oral hygiene</td>\n",
              "      <td>NICRH</td>\n",
              "      <td>Shahin</td>\n",
              "      <td>50</td>\n",
              "      <td>Male</td>\n",
              "      <td>20/5774</td>\n",
              "      <td>103/21</td>\n",
              "      <td>1772336317</td>\n",
              "      <td></td>\n",
              "      <td>Vill:Sohagdal, PS:Sarupkathi, Dist:Pirojpur</td>\n",
              "      <td>Day Labourer</td>\n",
              "      <td>Married</td>\n",
              "      <td>Poor</td>\n",
              "      <td>Illiterate</td>\n",
              "      <td>Former</td>\n",
              "      <td>HTN</td>\n",
              "      <td>2</td>\n",
              "      <td>2</td>\n",
              "      <td>Larynx</td>\n",
              "      <td>#REF!</td>\n",
              "      <td>T:3 N:1 M:X</td>\n",
              "      <td>3</td>\n",
              "      <td>Squamous cell carcinoma</td>\n",
              "      <td>Intent radical</td>\n",
              "      <td>Co60(Phoneix)</td>\n",
              "      <td>1.25</td>\n",
              "      <td>6600</td>\n",
              "      <td>33</td>\n",
              "      <td>200</td>\n",
              "      <td>5</td>\n",
              "      <td>2.1</td>\n",
              "      <td>F\\C</td>\n",
              "      <td>Mid tragus</td>\n",
              "      <td></td>\n",
              "      <td>5 cm behind ear lobule.</td>\n",
              "      <td></td>\n",
              "      <td></td>\n",
              "      <td></td>\n",
              "      <td></td>\n",
              "      <td>...</td>\n",
              "      <td>2</td>\n",
              "      <td>2</td>\n",
              "      <td>2</td>\n",
              "      <td>2</td>\n",
              "      <td>1</td>\n",
              "      <td>0</td>\n",
              "      <td>No</td>\n",
              "      <td>No</td>\n",
              "      <td>No</td>\n",
              "      <td>No</td>\n",
              "      <td>No</td>\n",
              "      <td>Yes, Non</td>\n",
              "      <td>Yes, Non</td>\n",
              "      <td>Yes, Non</td>\n",
              "      <td>Yes, Non</td>\n",
              "      <td>Yes, Non</td>\n",
              "      <td>1</td>\n",
              "      <td>0</td>\n",
              "      <td>No</td>\n",
              "      <td>No</td>\n",
              "      <td>No</td>\n",
              "      <td>No</td>\n",
              "      <td>No</td>\n",
              "      <td>Yes</td>\n",
              "      <td>Yes</td>\n",
              "      <td>Yes</td>\n",
              "      <td>Yes</td>\n",
              "      <td>No</td>\n",
              "      <td>1</td>\n",
              "      <td>No</td>\n",
              "      <td>No</td>\n",
              "      <td>No</td>\n",
              "      <td>No</td>\n",
              "      <td>No</td>\n",
              "      <td>No</td>\n",
              "      <td>No</td>\n",
              "      <td>No</td>\n",
              "      <td>No</td>\n",
              "      <td>No</td>\n",
              "      <td>0</td>\n",
              "    </tr>\n",
              "    <tr>\n",
              "      <th>4</th>\n",
              "      <td>9</td>\n",
              "      <td>Cryotherapy along with maintaining oral hygiene</td>\n",
              "      <td>NICRH</td>\n",
              "      <td>Kamrul</td>\n",
              "      <td>20</td>\n",
              "      <td>Male</td>\n",
              "      <td>21/7395</td>\n",
              "      <td>578/21</td>\n",
              "      <td>1641748447</td>\n",
              "      <td>57/A, Hazipara, Rampura</td>\n",
              "      <td>Vill:Aminpur, PS:Matlab, Dist:Chandpur</td>\n",
              "      <td>Others</td>\n",
              "      <td>Unmarried</td>\n",
              "      <td>Average</td>\n",
              "      <td>HSC</td>\n",
              "      <td>Never</td>\n",
              "      <td>No</td>\n",
              "      <td>0</td>\n",
              "      <td>2</td>\n",
              "      <td>Others</td>\n",
              "      <td>#REF!</td>\n",
              "      <td></td>\n",
              "      <td>2</td>\n",
              "      <td>Squamous cell carcinoma</td>\n",
              "      <td>Intent radical</td>\n",
              "      <td>Co60(Phoneix)</td>\n",
              "      <td>1.25</td>\n",
              "      <td>6000</td>\n",
              "      <td>30</td>\n",
              "      <td>2</td>\n",
              "      <td>5</td>\n",
              "      <td>2.44</td>\n",
              "      <td>Lt lat Face</td>\n",
              "      <td>A long the zygomatic arch</td>\n",
              "      <td></td>\n",
              "      <td>3 cm behind ear lobule.</td>\n",
              "      <td></td>\n",
              "      <td></td>\n",
              "      <td></td>\n",
              "      <td></td>\n",
              "      <td>...</td>\n",
              "      <td>2</td>\n",
              "      <td>3</td>\n",
              "      <td>3</td>\n",
              "      <td>2</td>\n",
              "      <td>1</td>\n",
              "      <td>2</td>\n",
              "      <td>No</td>\n",
              "      <td>No</td>\n",
              "      <td>No</td>\n",
              "      <td>No</td>\n",
              "      <td>No</td>\n",
              "      <td>No</td>\n",
              "      <td>No</td>\n",
              "      <td>Yes, Non</td>\n",
              "      <td>No</td>\n",
              "      <td>No</td>\n",
              "      <td>1</td>\n",
              "      <td>0</td>\n",
              "      <td>No</td>\n",
              "      <td>No</td>\n",
              "      <td>No</td>\n",
              "      <td>No</td>\n",
              "      <td>No</td>\n",
              "      <td>No</td>\n",
              "      <td>No</td>\n",
              "      <td>No</td>\n",
              "      <td>No</td>\n",
              "      <td>No</td>\n",
              "      <td>0</td>\n",
              "      <td>No</td>\n",
              "      <td>No</td>\n",
              "      <td>No</td>\n",
              "      <td>No</td>\n",
              "      <td>No</td>\n",
              "      <td>No</td>\n",
              "      <td>No</td>\n",
              "      <td>No</td>\n",
              "      <td>No</td>\n",
              "      <td>No</td>\n",
              "      <td>0</td>\n",
              "    </tr>\n",
              "  </tbody>\n",
              "</table>\n",
              "<p>5 rows × 113 columns</p>\n",
              "</div>"
            ],
            "text/plain": [
              "  Case_No  ... Treatment_interaption\n",
              "0       1  ...                     0\n",
              "1       2  ...                     0\n",
              "2       3  ...                     0\n",
              "3       4  ...                     0\n",
              "4       9  ...                     0\n",
              "\n",
              "[5 rows x 113 columns]"
            ]
          },
          "metadata": {},
          "execution_count": 94
        }
      ]
    },
    {
      "cell_type": "markdown",
      "metadata": {
        "id": "toMInN0VJn5c"
      },
      "source": [
        "# Age"
      ]
    },
    {
      "cell_type": "code",
      "metadata": {
        "colab": {
          "base_uri": "https://localhost:8080/",
          "height": 700
        },
        "id": "0qtJuzG_X2HZ",
        "outputId": "2c419f94-8e56-490d-e550-76fd5ff63bc4"
      },
      "source": [
        "pd.crosstab(df.Age, df.Classification)"
      ],
      "execution_count": 95,
      "outputs": [
        {
          "output_type": "execute_result",
          "data": {
            "text/html": [
              "<div>\n",
              "<style scoped>\n",
              "    .dataframe tbody tr th:only-of-type {\n",
              "        vertical-align: middle;\n",
              "    }\n",
              "\n",
              "    .dataframe tbody tr th {\n",
              "        vertical-align: top;\n",
              "    }\n",
              "\n",
              "    .dataframe thead th {\n",
              "        text-align: right;\n",
              "    }\n",
              "</style>\n",
              "<table border=\"1\" class=\"dataframe\">\n",
              "  <thead>\n",
              "    <tr style=\"text-align: right;\">\n",
              "      <th>Classification</th>\n",
              "      <th>Cryotherapy along with maintaining oral hygiene</th>\n",
              "      <th>Maintaining oral hygiene only</th>\n",
              "    </tr>\n",
              "    <tr>\n",
              "      <th>Age</th>\n",
              "      <th></th>\n",
              "      <th></th>\n",
              "    </tr>\n",
              "  </thead>\n",
              "  <tbody>\n",
              "    <tr>\n",
              "      <th>20</th>\n",
              "      <td>2</td>\n",
              "      <td>0</td>\n",
              "    </tr>\n",
              "    <tr>\n",
              "      <th>30</th>\n",
              "      <td>2</td>\n",
              "      <td>0</td>\n",
              "    </tr>\n",
              "    <tr>\n",
              "      <th>32</th>\n",
              "      <td>0</td>\n",
              "      <td>2</td>\n",
              "    </tr>\n",
              "    <tr>\n",
              "      <th>41</th>\n",
              "      <td>2</td>\n",
              "      <td>0</td>\n",
              "    </tr>\n",
              "    <tr>\n",
              "      <th>45</th>\n",
              "      <td>2</td>\n",
              "      <td>4</td>\n",
              "    </tr>\n",
              "    <tr>\n",
              "      <th>50</th>\n",
              "      <td>8</td>\n",
              "      <td>6</td>\n",
              "    </tr>\n",
              "    <tr>\n",
              "      <th>54</th>\n",
              "      <td>2</td>\n",
              "      <td>4</td>\n",
              "    </tr>\n",
              "    <tr>\n",
              "      <th>55</th>\n",
              "      <td>6</td>\n",
              "      <td>6</td>\n",
              "    </tr>\n",
              "    <tr>\n",
              "      <th>58</th>\n",
              "      <td>0</td>\n",
              "      <td>2</td>\n",
              "    </tr>\n",
              "    <tr>\n",
              "      <th>59</th>\n",
              "      <td>0</td>\n",
              "      <td>2</td>\n",
              "    </tr>\n",
              "    <tr>\n",
              "      <th>60</th>\n",
              "      <td>10</td>\n",
              "      <td>8</td>\n",
              "    </tr>\n",
              "    <tr>\n",
              "      <th>61</th>\n",
              "      <td>2</td>\n",
              "      <td>0</td>\n",
              "    </tr>\n",
              "    <tr>\n",
              "      <th>62</th>\n",
              "      <td>0</td>\n",
              "      <td>4</td>\n",
              "    </tr>\n",
              "    <tr>\n",
              "      <th>63</th>\n",
              "      <td>4</td>\n",
              "      <td>0</td>\n",
              "    </tr>\n",
              "    <tr>\n",
              "      <th>65</th>\n",
              "      <td>2</td>\n",
              "      <td>6</td>\n",
              "    </tr>\n",
              "    <tr>\n",
              "      <th>66</th>\n",
              "      <td>0</td>\n",
              "      <td>4</td>\n",
              "    </tr>\n",
              "    <tr>\n",
              "      <th>70</th>\n",
              "      <td>0</td>\n",
              "      <td>2</td>\n",
              "    </tr>\n",
              "    <tr>\n",
              "      <th>75</th>\n",
              "      <td>2</td>\n",
              "      <td>0</td>\n",
              "    </tr>\n",
              "    <tr>\n",
              "      <th>80</th>\n",
              "      <td>4</td>\n",
              "      <td>0</td>\n",
              "    </tr>\n",
              "    <tr>\n",
              "      <th>90</th>\n",
              "      <td>2</td>\n",
              "      <td>0</td>\n",
              "    </tr>\n",
              "  </tbody>\n",
              "</table>\n",
              "</div>"
            ],
            "text/plain": [
              "Classification  Cryotherapy along with maintaining oral hygiene  Maintaining oral hygiene only\n",
              "Age                                                                                           \n",
              "20                                                            2                              0\n",
              "30                                                            2                              0\n",
              "32                                                            0                              2\n",
              "41                                                            2                              0\n",
              "45                                                            2                              4\n",
              "50                                                            8                              6\n",
              "54                                                            2                              4\n",
              "55                                                            6                              6\n",
              "58                                                            0                              2\n",
              "59                                                            0                              2\n",
              "60                                                           10                              8\n",
              "61                                                            2                              0\n",
              "62                                                            0                              4\n",
              "63                                                            4                              0\n",
              "65                                                            2                              6\n",
              "66                                                            0                              4\n",
              "70                                                            0                              2\n",
              "75                                                            2                              0\n",
              "80                                                            4                              0\n",
              "90                                                            2                              0"
            ]
          },
          "metadata": {},
          "execution_count": 95
        }
      ]
    },
    {
      "cell_type": "code",
      "metadata": {
        "colab": {
          "base_uri": "https://localhost:8080/"
        },
        "id": "TJJESEBbF9E6",
        "outputId": "9f64a1da-d349-4888-c666-2419c1de75c3"
      },
      "source": [
        "\n",
        "from scipy.stats import mannwhitneyu\n",
        "\n",
        "stat, p = mannwhitneyu(df['Age'], ['Classification'])\n",
        "print('stat=%.3f, p=%.3f' % (stat, p))\n",
        "if p > 0.05:\n",
        "\tprint('Probably the same distribution')\n",
        "else:\n",
        "\tprint('Probably different distributions')"
      ],
      "execution_count": 96,
      "outputs": [
        {
          "output_type": "stream",
          "name": "stdout",
          "text": [
            "stat=0.000, p=0.044\n",
            "Probably different distributions\n"
          ]
        }
      ]
    },
    {
      "cell_type": "code",
      "metadata": {
        "colab": {
          "base_uri": "https://localhost:8080/",
          "height": 173
        },
        "id": "NQFnKTc8Z9hS",
        "outputId": "f72b1eef-0baa-4203-a01f-817deed81939"
      },
      "source": [
        "pd.pivot_table(df1, index=['Classification'], values=['Age'], aggfunc=['mean', 'median','std'])"
      ],
      "execution_count": 97,
      "outputs": [
        {
          "output_type": "execute_result",
          "data": {
            "text/html": [
              "<div>\n",
              "<style scoped>\n",
              "    .dataframe tbody tr th:only-of-type {\n",
              "        vertical-align: middle;\n",
              "    }\n",
              "\n",
              "    .dataframe tbody tr th {\n",
              "        vertical-align: top;\n",
              "    }\n",
              "\n",
              "    .dataframe thead tr th {\n",
              "        text-align: left;\n",
              "    }\n",
              "\n",
              "    .dataframe thead tr:last-of-type th {\n",
              "        text-align: right;\n",
              "    }\n",
              "</style>\n",
              "<table border=\"1\" class=\"dataframe\">\n",
              "  <thead>\n",
              "    <tr>\n",
              "      <th></th>\n",
              "      <th>mean</th>\n",
              "      <th>median</th>\n",
              "      <th>std</th>\n",
              "    </tr>\n",
              "    <tr>\n",
              "      <th></th>\n",
              "      <th>Age</th>\n",
              "      <th>Age</th>\n",
              "      <th>Age</th>\n",
              "    </tr>\n",
              "    <tr>\n",
              "      <th>Classification</th>\n",
              "      <th></th>\n",
              "      <th></th>\n",
              "      <th></th>\n",
              "    </tr>\n",
              "  </thead>\n",
              "  <tbody>\n",
              "    <tr>\n",
              "      <th>Cryotherapy along with maintaining oral hygiene</th>\n",
              "      <td>57.28</td>\n",
              "      <td>60</td>\n",
              "      <td>14.820064</td>\n",
              "    </tr>\n",
              "    <tr>\n",
              "      <th>Maintaining oral hygiene only</th>\n",
              "      <td>56.92</td>\n",
              "      <td>59</td>\n",
              "      <td>8.339334</td>\n",
              "    </tr>\n",
              "  </tbody>\n",
              "</table>\n",
              "</div>"
            ],
            "text/plain": [
              "                                                  mean median        std\n",
              "                                                   Age    Age        Age\n",
              "Classification                                                          \n",
              "Cryotherapy along with maintaining oral hygiene  57.28     60  14.820064\n",
              "Maintaining oral hygiene only                    56.92     59   8.339334"
            ]
          },
          "metadata": {},
          "execution_count": 97
        }
      ]
    },
    {
      "cell_type": "markdown",
      "metadata": {
        "id": "_uJTi_iYFgHS"
      },
      "source": [
        "# Sex"
      ]
    },
    {
      "cell_type": "code",
      "metadata": {
        "colab": {
          "base_uri": "https://localhost:8080/"
        },
        "id": "qjdn1ipwKP3b",
        "outputId": "e9f1691d-9d7b-44b0-e035-a64647e199e7"
      },
      "source": [
        "df.Sex.unique()"
      ],
      "execution_count": 98,
      "outputs": [
        {
          "output_type": "execute_result",
          "data": {
            "text/plain": [
              "array(['Male', 'Female'], dtype=object)"
            ]
          },
          "metadata": {},
          "execution_count": 98
        }
      ]
    },
    {
      "cell_type": "code",
      "metadata": {
        "colab": {
          "base_uri": "https://localhost:8080/",
          "height": 142
        },
        "id": "A1iiDE3AKGBT",
        "outputId": "9b90b9aa-9fde-4c8e-8ac6-8ea0958aaa1b"
      },
      "source": [
        "contingency_data = pd.crosstab(df['Sex'], df['Classification'])\n",
        "contingency_data "
      ],
      "execution_count": 99,
      "outputs": [
        {
          "output_type": "execute_result",
          "data": {
            "text/html": [
              "<div>\n",
              "<style scoped>\n",
              "    .dataframe tbody tr th:only-of-type {\n",
              "        vertical-align: middle;\n",
              "    }\n",
              "\n",
              "    .dataframe tbody tr th {\n",
              "        vertical-align: top;\n",
              "    }\n",
              "\n",
              "    .dataframe thead th {\n",
              "        text-align: right;\n",
              "    }\n",
              "</style>\n",
              "<table border=\"1\" class=\"dataframe\">\n",
              "  <thead>\n",
              "    <tr style=\"text-align: right;\">\n",
              "      <th>Classification</th>\n",
              "      <th>Cryotherapy along with maintaining oral hygiene</th>\n",
              "      <th>Maintaining oral hygiene only</th>\n",
              "    </tr>\n",
              "    <tr>\n",
              "      <th>Sex</th>\n",
              "      <th></th>\n",
              "      <th></th>\n",
              "    </tr>\n",
              "  </thead>\n",
              "  <tbody>\n",
              "    <tr>\n",
              "      <th>Female</th>\n",
              "      <td>8</td>\n",
              "      <td>14</td>\n",
              "    </tr>\n",
              "    <tr>\n",
              "      <th>Male</th>\n",
              "      <td>42</td>\n",
              "      <td>36</td>\n",
              "    </tr>\n",
              "  </tbody>\n",
              "</table>\n",
              "</div>"
            ],
            "text/plain": [
              "Classification  Cryotherapy along with maintaining oral hygiene  Maintaining oral hygiene only\n",
              "Sex                                                                                           \n",
              "Female                                                        8                             14\n",
              "Male                                                         42                             36"
            ]
          },
          "metadata": {},
          "execution_count": 99
        }
      ]
    },
    {
      "cell_type": "code",
      "metadata": {
        "colab": {
          "base_uri": "https://localhost:8080/"
        },
        "id": "lUCAJzyRBRKU",
        "outputId": "2901090a-610e-4c3b-e39b-9c73e9ff9a2b"
      },
      "source": [
        "from scipy.stats import chi2_contingency\n",
        "\n",
        "stat, p, dof, expected = chi2_contingency(contingency_data)\n",
        "print('stat=%.3f, p=%.3f' % (stat, p))\n",
        "if p < 0.05:\n",
        "    print('Variables are Dependent / H0 Rejected')    \n",
        "else:\n",
        "    print('Variables are Independent / H0 Accepted')"
      ],
      "execution_count": 100,
      "outputs": [
        {
          "output_type": "stream",
          "name": "stdout",
          "text": [
            "stat=1.457, p=0.227\n",
            "Variables are Independent / H0 Accepted\n"
          ]
        }
      ]
    },
    {
      "cell_type": "markdown",
      "metadata": {
        "id": "YXbWFRSQKIsB"
      },
      "source": [
        "# Socioeconomic status"
      ]
    },
    {
      "cell_type": "code",
      "metadata": {
        "colab": {
          "base_uri": "https://localhost:8080/"
        },
        "id": "5MyXiTsHMElf",
        "outputId": "7a7c5eb5-4199-45de-db1d-b52195ead8d4"
      },
      "source": [
        "df.Socioeconomic_Condition.unique()"
      ],
      "execution_count": 101,
      "outputs": [
        {
          "output_type": "execute_result",
          "data": {
            "text/plain": [
              "array(['Average', 'Poor'], dtype=object)"
            ]
          },
          "metadata": {},
          "execution_count": 101
        }
      ]
    },
    {
      "cell_type": "code",
      "metadata": {
        "colab": {
          "base_uri": "https://localhost:8080/",
          "height": 142
        },
        "id": "BVf17H88aSds",
        "outputId": "61df8fa1-1da3-457d-aa3b-289477c0d833"
      },
      "source": [
        "contingency_data = pd.crosstab(df['Socioeconomic_Condition'], df['Classification'])\n",
        "contingency_data "
      ],
      "execution_count": 102,
      "outputs": [
        {
          "output_type": "execute_result",
          "data": {
            "text/html": [
              "<div>\n",
              "<style scoped>\n",
              "    .dataframe tbody tr th:only-of-type {\n",
              "        vertical-align: middle;\n",
              "    }\n",
              "\n",
              "    .dataframe tbody tr th {\n",
              "        vertical-align: top;\n",
              "    }\n",
              "\n",
              "    .dataframe thead th {\n",
              "        text-align: right;\n",
              "    }\n",
              "</style>\n",
              "<table border=\"1\" class=\"dataframe\">\n",
              "  <thead>\n",
              "    <tr style=\"text-align: right;\">\n",
              "      <th>Classification</th>\n",
              "      <th>Cryotherapy along with maintaining oral hygiene</th>\n",
              "      <th>Maintaining oral hygiene only</th>\n",
              "    </tr>\n",
              "    <tr>\n",
              "      <th>Socioeconomic_Condition</th>\n",
              "      <th></th>\n",
              "      <th></th>\n",
              "    </tr>\n",
              "  </thead>\n",
              "  <tbody>\n",
              "    <tr>\n",
              "      <th>Average</th>\n",
              "      <td>44</td>\n",
              "      <td>48</td>\n",
              "    </tr>\n",
              "    <tr>\n",
              "      <th>Poor</th>\n",
              "      <td>6</td>\n",
              "      <td>2</td>\n",
              "    </tr>\n",
              "  </tbody>\n",
              "</table>\n",
              "</div>"
            ],
            "text/plain": [
              "Classification           Cryotherapy along with maintaining oral hygiene  Maintaining oral hygiene only\n",
              "Socioeconomic_Condition                                                                                \n",
              "Average                                                               44                             48\n",
              "Poor                                                                   6                              2"
            ]
          },
          "metadata": {},
          "execution_count": 102
        }
      ]
    },
    {
      "cell_type": "code",
      "metadata": {
        "colab": {
          "base_uri": "https://localhost:8080/",
          "height": 142
        },
        "id": "SPjwgQJebASH",
        "outputId": "debbd87b-e887-40ad-a193-30a0c29551bb"
      },
      "source": [
        "pd.crosstab(df['Classification'],df['Socioeconomic_Condition']).apply(lambda r: r/r.sum(), axis=1)*100"
      ],
      "execution_count": 103,
      "outputs": [
        {
          "output_type": "execute_result",
          "data": {
            "text/html": [
              "<div>\n",
              "<style scoped>\n",
              "    .dataframe tbody tr th:only-of-type {\n",
              "        vertical-align: middle;\n",
              "    }\n",
              "\n",
              "    .dataframe tbody tr th {\n",
              "        vertical-align: top;\n",
              "    }\n",
              "\n",
              "    .dataframe thead th {\n",
              "        text-align: right;\n",
              "    }\n",
              "</style>\n",
              "<table border=\"1\" class=\"dataframe\">\n",
              "  <thead>\n",
              "    <tr style=\"text-align: right;\">\n",
              "      <th>Socioeconomic_Condition</th>\n",
              "      <th>Average</th>\n",
              "      <th>Poor</th>\n",
              "    </tr>\n",
              "    <tr>\n",
              "      <th>Classification</th>\n",
              "      <th></th>\n",
              "      <th></th>\n",
              "    </tr>\n",
              "  </thead>\n",
              "  <tbody>\n",
              "    <tr>\n",
              "      <th>Cryotherapy along with maintaining oral hygiene</th>\n",
              "      <td>88.0</td>\n",
              "      <td>12.0</td>\n",
              "    </tr>\n",
              "    <tr>\n",
              "      <th>Maintaining oral hygiene only</th>\n",
              "      <td>96.0</td>\n",
              "      <td>4.0</td>\n",
              "    </tr>\n",
              "  </tbody>\n",
              "</table>\n",
              "</div>"
            ],
            "text/plain": [
              "Socioeconomic_Condition                          Average  Poor\n",
              "Classification                                                \n",
              "Cryotherapy along with maintaining oral hygiene     88.0  12.0\n",
              "Maintaining oral hygiene only                       96.0   4.0"
            ]
          },
          "metadata": {},
          "execution_count": 103
        }
      ]
    },
    {
      "cell_type": "code",
      "metadata": {
        "colab": {
          "base_uri": "https://localhost:8080/"
        },
        "id": "WAnSjjvTMR7X",
        "outputId": "f3d0f8a3-4b2e-4fc4-9a86-b3c0b6db49ff"
      },
      "source": [
        "from scipy.stats import chi2_contingency\n",
        "\n",
        "stat, p, dof, expected = chi2_contingency(contingency_data)\n",
        "print('stat=%.3f, p=%.3f' % (stat, p))\n",
        "if p < 0.05:\n",
        "    print('Variables are Dependent / H0 Rejected')    \n",
        "else:\n",
        "    print('Variables are Independent / H0 Accepted')"
      ],
      "execution_count": 104,
      "outputs": [
        {
          "output_type": "stream",
          "name": "stdout",
          "text": [
            "stat=1.223, p=0.269\n",
            "Variables are Independent / H0 Accepted\n"
          ]
        }
      ]
    },
    {
      "cell_type": "markdown",
      "metadata": {
        "id": "7lxLjbrrMw9i"
      },
      "source": [
        "# Educational Qualification"
      ]
    },
    {
      "cell_type": "code",
      "metadata": {
        "colab": {
          "base_uri": "https://localhost:8080/"
        },
        "id": "IIVQGIK_M6os",
        "outputId": "4b9a9d67-4ce3-46fb-8870-1cd8baa823e2"
      },
      "source": [
        "df.Educational_Qualification.unique()"
      ],
      "execution_count": 105,
      "outputs": [
        {
          "output_type": "execute_result",
          "data": {
            "text/plain": [
              "array(['Below SSC', 'Illiterate', 'HSC', 'SSC'], dtype=object)"
            ]
          },
          "metadata": {},
          "execution_count": 105
        }
      ]
    },
    {
      "cell_type": "code",
      "metadata": {
        "colab": {
          "base_uri": "https://localhost:8080/",
          "height": 0
        },
        "id": "62SQAflLbTph",
        "outputId": "09b5edd4-dfcd-4b64-f8a1-802d9e6310b1"
      },
      "source": [
        "\n",
        "contingency_data = pd.crosstab(df['Educational_Qualification'], df['Classification'])\n",
        "contingency_data "
      ],
      "execution_count": 106,
      "outputs": [
        {
          "output_type": "execute_result",
          "data": {
            "text/html": [
              "<div>\n",
              "<style scoped>\n",
              "    .dataframe tbody tr th:only-of-type {\n",
              "        vertical-align: middle;\n",
              "    }\n",
              "\n",
              "    .dataframe tbody tr th {\n",
              "        vertical-align: top;\n",
              "    }\n",
              "\n",
              "    .dataframe thead th {\n",
              "        text-align: right;\n",
              "    }\n",
              "</style>\n",
              "<table border=\"1\" class=\"dataframe\">\n",
              "  <thead>\n",
              "    <tr style=\"text-align: right;\">\n",
              "      <th>Classification</th>\n",
              "      <th>Cryotherapy along with maintaining oral hygiene</th>\n",
              "      <th>Maintaining oral hygiene only</th>\n",
              "    </tr>\n",
              "    <tr>\n",
              "      <th>Educational_Qualification</th>\n",
              "      <th></th>\n",
              "      <th></th>\n",
              "    </tr>\n",
              "  </thead>\n",
              "  <tbody>\n",
              "    <tr>\n",
              "      <th>Below SSC</th>\n",
              "      <td>16</td>\n",
              "      <td>30</td>\n",
              "    </tr>\n",
              "    <tr>\n",
              "      <th>HSC</th>\n",
              "      <td>2</td>\n",
              "      <td>2</td>\n",
              "    </tr>\n",
              "    <tr>\n",
              "      <th>Illiterate</th>\n",
              "      <td>28</td>\n",
              "      <td>14</td>\n",
              "    </tr>\n",
              "    <tr>\n",
              "      <th>SSC</th>\n",
              "      <td>4</td>\n",
              "      <td>4</td>\n",
              "    </tr>\n",
              "  </tbody>\n",
              "</table>\n",
              "</div>"
            ],
            "text/plain": [
              "Classification             Cryotherapy along with maintaining oral hygiene  Maintaining oral hygiene only\n",
              "Educational_Qualification                                                                                \n",
              "Below SSC                                                               16                             30\n",
              "HSC                                                                      2                              2\n",
              "Illiterate                                                              28                             14\n",
              "SSC                                                                      4                              4"
            ]
          },
          "metadata": {},
          "execution_count": 106
        }
      ]
    },
    {
      "cell_type": "code",
      "metadata": {
        "colab": {
          "base_uri": "https://localhost:8080/"
        },
        "id": "G3lAERlENhOM",
        "outputId": "8803e583-4af8-4f3a-f7be-1f2f6fdb6941"
      },
      "source": [
        "from scipy.stats import chi2_contingency\n",
        "\n",
        "stat, p, dof, expected = chi2_contingency(contingency_data)\n",
        "print('stat=%.3f, p=%.3f' % (stat, p))\n",
        "if p < 0.05:\n",
        "    print('Variables are Dependent / H0 Rejected')    \n",
        "else:\n",
        "    print('Variables are Independent / H0 Accepted')"
      ],
      "execution_count": 107,
      "outputs": [
        {
          "output_type": "stream",
          "name": "stdout",
          "text": [
            "stat=8.928, p=0.030\n",
            "Variables are Dependent / H0 Rejected\n"
          ]
        }
      ]
    },
    {
      "cell_type": "markdown",
      "metadata": {
        "id": "2gXpxmQpP7Zk"
      },
      "source": [
        "# Smoking History"
      ]
    },
    {
      "cell_type": "code",
      "metadata": {
        "colab": {
          "base_uri": "https://localhost:8080/"
        },
        "id": "eeqe9zV0M8E9",
        "outputId": "487580bd-c1a3-4c9a-c607-6c1722a8f04d"
      },
      "source": [
        "df.Smoking_History.unique()"
      ],
      "execution_count": 108,
      "outputs": [
        {
          "output_type": "execute_result",
          "data": {
            "text/plain": [
              "array(['Former', 'Never, Smokers in family', 'Never', 'Smokers in Family'],\n",
              "      dtype=object)"
            ]
          },
          "metadata": {},
          "execution_count": 108
        }
      ]
    },
    {
      "cell_type": "code",
      "metadata": {
        "colab": {
          "base_uri": "https://localhost:8080/",
          "height": 0
        },
        "id": "Awno9eItR0G7",
        "outputId": "fb01fe54-af65-416c-9ded-cb25ea8b2677"
      },
      "source": [
        "contingency_data = pd.crosstab(df['Smoking_History'], df['Classification'])\n",
        "contingency_data "
      ],
      "execution_count": 109,
      "outputs": [
        {
          "output_type": "execute_result",
          "data": {
            "text/html": [
              "<div>\n",
              "<style scoped>\n",
              "    .dataframe tbody tr th:only-of-type {\n",
              "        vertical-align: middle;\n",
              "    }\n",
              "\n",
              "    .dataframe tbody tr th {\n",
              "        vertical-align: top;\n",
              "    }\n",
              "\n",
              "    .dataframe thead th {\n",
              "        text-align: right;\n",
              "    }\n",
              "</style>\n",
              "<table border=\"1\" class=\"dataframe\">\n",
              "  <thead>\n",
              "    <tr style=\"text-align: right;\">\n",
              "      <th>Classification</th>\n",
              "      <th>Cryotherapy along with maintaining oral hygiene</th>\n",
              "      <th>Maintaining oral hygiene only</th>\n",
              "    </tr>\n",
              "    <tr>\n",
              "      <th>Smoking_History</th>\n",
              "      <th></th>\n",
              "      <th></th>\n",
              "    </tr>\n",
              "  </thead>\n",
              "  <tbody>\n",
              "    <tr>\n",
              "      <th>Former</th>\n",
              "      <td>40</td>\n",
              "      <td>38</td>\n",
              "    </tr>\n",
              "    <tr>\n",
              "      <th>Never</th>\n",
              "      <td>2</td>\n",
              "      <td>4</td>\n",
              "    </tr>\n",
              "    <tr>\n",
              "      <th>Never, Smokers in family</th>\n",
              "      <td>4</td>\n",
              "      <td>2</td>\n",
              "    </tr>\n",
              "    <tr>\n",
              "      <th>Smokers in Family</th>\n",
              "      <td>4</td>\n",
              "      <td>6</td>\n",
              "    </tr>\n",
              "  </tbody>\n",
              "</table>\n",
              "</div>"
            ],
            "text/plain": [
              "Classification            Cryotherapy along with maintaining oral hygiene  Maintaining oral hygiene only\n",
              "Smoking_History                                                                                         \n",
              "Former                                                                 40                             38\n",
              "Never                                                                   2                              4\n",
              "Never, Smokers in family                                                4                              2\n",
              "Smokers in Family                                                       4                              6"
            ]
          },
          "metadata": {},
          "execution_count": 109
        }
      ]
    },
    {
      "cell_type": "code",
      "metadata": {
        "colab": {
          "base_uri": "https://localhost:8080/"
        },
        "id": "XAFkmKmbPmeP",
        "outputId": "a95c8950-6d11-4dca-9c08-0d3618cacbd0"
      },
      "source": [
        "from scipy.stats import chi2_contingency\n",
        "\n",
        "stat, p, dof, expected = chi2_contingency(contingency_data)\n",
        "print('stat=%.3f, p=%.3f' % (stat, p))\n",
        "if p < 0.05:\n",
        "    print('Variables are Dependent / H0 Rejected')    \n",
        "else:\n",
        "    print('Variables are Independent / H0 Accepted')"
      ],
      "execution_count": 110,
      "outputs": [
        {
          "output_type": "stream",
          "name": "stdout",
          "text": [
            "stat=1.785, p=0.618\n",
            "Variables are Independent / H0 Accepted\n"
          ]
        }
      ]
    },
    {
      "cell_type": "markdown",
      "metadata": {
        "id": "T1NKCivMQDi7"
      },
      "source": [
        "# Comorbidities"
      ]
    },
    {
      "cell_type": "code",
      "metadata": {
        "colab": {
          "base_uri": "https://localhost:8080/"
        },
        "id": "qrL9OaM3M7vc",
        "outputId": "d54fd103-355d-48f8-bcbd-be52fe506a57"
      },
      "source": [
        "df.Comorbidities.unique()"
      ],
      "execution_count": 111,
      "outputs": [
        {
          "output_type": "execute_result",
          "data": {
            "text/plain": [
              "array(['No', 'HTN', 'COPD', 'Diabetes, HTN', 'Diabetes',\n",
              "       'Lip and oral Cavity'], dtype=object)"
            ]
          },
          "metadata": {},
          "execution_count": 111
        }
      ]
    },
    {
      "cell_type": "code",
      "metadata": {
        "colab": {
          "base_uri": "https://localhost:8080/",
          "height": 0
        },
        "id": "nf5-Uti5Tus1",
        "outputId": "de6bff4f-c49a-41ee-9f19-697618671121"
      },
      "source": [
        "contingency_data = pd.crosstab(df['Comorbidities'], df['Classification'])\n",
        "contingency_data "
      ],
      "execution_count": 112,
      "outputs": [
        {
          "output_type": "execute_result",
          "data": {
            "text/html": [
              "<div>\n",
              "<style scoped>\n",
              "    .dataframe tbody tr th:only-of-type {\n",
              "        vertical-align: middle;\n",
              "    }\n",
              "\n",
              "    .dataframe tbody tr th {\n",
              "        vertical-align: top;\n",
              "    }\n",
              "\n",
              "    .dataframe thead th {\n",
              "        text-align: right;\n",
              "    }\n",
              "</style>\n",
              "<table border=\"1\" class=\"dataframe\">\n",
              "  <thead>\n",
              "    <tr style=\"text-align: right;\">\n",
              "      <th>Classification</th>\n",
              "      <th>Cryotherapy along with maintaining oral hygiene</th>\n",
              "      <th>Maintaining oral hygiene only</th>\n",
              "    </tr>\n",
              "    <tr>\n",
              "      <th>Comorbidities</th>\n",
              "      <th></th>\n",
              "      <th></th>\n",
              "    </tr>\n",
              "  </thead>\n",
              "  <tbody>\n",
              "    <tr>\n",
              "      <th>COPD</th>\n",
              "      <td>2</td>\n",
              "      <td>0</td>\n",
              "    </tr>\n",
              "    <tr>\n",
              "      <th>Diabetes</th>\n",
              "      <td>4</td>\n",
              "      <td>6</td>\n",
              "    </tr>\n",
              "    <tr>\n",
              "      <th>Diabetes, HTN</th>\n",
              "      <td>2</td>\n",
              "      <td>14</td>\n",
              "    </tr>\n",
              "    <tr>\n",
              "      <th>HTN</th>\n",
              "      <td>8</td>\n",
              "      <td>8</td>\n",
              "    </tr>\n",
              "    <tr>\n",
              "      <th>Lip and oral Cavity</th>\n",
              "      <td>0</td>\n",
              "      <td>2</td>\n",
              "    </tr>\n",
              "    <tr>\n",
              "      <th>No</th>\n",
              "      <td>34</td>\n",
              "      <td>20</td>\n",
              "    </tr>\n",
              "  </tbody>\n",
              "</table>\n",
              "</div>"
            ],
            "text/plain": [
              "Classification       Cryotherapy along with maintaining oral hygiene  Maintaining oral hygiene only\n",
              "Comorbidities                                                                                      \n",
              "COPD                                                               2                              0\n",
              "Diabetes                                                           4                              6\n",
              "Diabetes, HTN                                                      2                             14\n",
              "HTN                                                                8                              8\n",
              "Lip and oral Cavity                                                0                              2\n",
              "No                                                                34                             20"
            ]
          },
          "metadata": {},
          "execution_count": 112
        }
      ]
    },
    {
      "cell_type": "code",
      "metadata": {
        "colab": {
          "base_uri": "https://localhost:8080/"
        },
        "id": "s-7KK56RQSpV",
        "outputId": "05e4d101-8e35-4ccc-af70-cc4189151776"
      },
      "source": [
        "from scipy.stats import chi2_contingency\n",
        "\n",
        "stat, p, dof, expected = chi2_contingency(contingency_data)\n",
        "print('stat=%.3f, p=%.3f' % (stat, p))\n",
        "if p < 0.05:\n",
        "    print('Variables are Dependent / H0 Rejected')    \n",
        "else:\n",
        "    print('Variables are Independent / H0 Accepted')"
      ],
      "execution_count": 113,
      "outputs": [
        {
          "output_type": "stream",
          "name": "stdout",
          "text": [
            "stat=17.030, p=0.004\n",
            "Variables are Dependent / H0 Rejected\n"
          ]
        }
      ]
    },
    {
      "cell_type": "markdown",
      "metadata": {
        "id": "LzdNn86bQeps"
      },
      "source": [
        "# Performance Status"
      ]
    },
    {
      "cell_type": "code",
      "metadata": {
        "colab": {
          "base_uri": "https://localhost:8080/"
        },
        "id": "5UNdrwa0M7X8",
        "outputId": "d59a51cd-4c8c-4692-f25c-147174d3d3e3"
      },
      "source": [
        "df.Performance_Status.unique()"
      ],
      "execution_count": 114,
      "outputs": [
        {
          "output_type": "execute_result",
          "data": {
            "text/plain": [
              "array(['1', '2', '0', '3', '4'], dtype=object)"
            ]
          },
          "metadata": {},
          "execution_count": 114
        }
      ]
    },
    {
      "cell_type": "code",
      "metadata": {
        "colab": {
          "base_uri": "https://localhost:8080/",
          "height": 0
        },
        "id": "4sgXI2x5UxPl",
        "outputId": "d6dfd024-5a80-4f54-e241-42fb30583e54"
      },
      "source": [
        "contingency_data = pd.crosstab(df['Performance_Status'], df['Classification'])\n",
        "contingency_data "
      ],
      "execution_count": 115,
      "outputs": [
        {
          "output_type": "execute_result",
          "data": {
            "text/html": [
              "<div>\n",
              "<style scoped>\n",
              "    .dataframe tbody tr th:only-of-type {\n",
              "        vertical-align: middle;\n",
              "    }\n",
              "\n",
              "    .dataframe tbody tr th {\n",
              "        vertical-align: top;\n",
              "    }\n",
              "\n",
              "    .dataframe thead th {\n",
              "        text-align: right;\n",
              "    }\n",
              "</style>\n",
              "<table border=\"1\" class=\"dataframe\">\n",
              "  <thead>\n",
              "    <tr style=\"text-align: right;\">\n",
              "      <th>Classification</th>\n",
              "      <th>Cryotherapy along with maintaining oral hygiene</th>\n",
              "      <th>Maintaining oral hygiene only</th>\n",
              "    </tr>\n",
              "    <tr>\n",
              "      <th>Performance_Status</th>\n",
              "      <th></th>\n",
              "      <th></th>\n",
              "    </tr>\n",
              "  </thead>\n",
              "  <tbody>\n",
              "    <tr>\n",
              "      <th>0</th>\n",
              "      <td>2</td>\n",
              "      <td>2</td>\n",
              "    </tr>\n",
              "    <tr>\n",
              "      <th>1</th>\n",
              "      <td>18</td>\n",
              "      <td>10</td>\n",
              "    </tr>\n",
              "    <tr>\n",
              "      <th>2</th>\n",
              "      <td>26</td>\n",
              "      <td>32</td>\n",
              "    </tr>\n",
              "    <tr>\n",
              "      <th>3</th>\n",
              "      <td>4</td>\n",
              "      <td>4</td>\n",
              "    </tr>\n",
              "    <tr>\n",
              "      <th>4</th>\n",
              "      <td>0</td>\n",
              "      <td>2</td>\n",
              "    </tr>\n",
              "  </tbody>\n",
              "</table>\n",
              "</div>"
            ],
            "text/plain": [
              "Classification      Cryotherapy along with maintaining oral hygiene  Maintaining oral hygiene only\n",
              "Performance_Status                                                                                \n",
              "0                                                                 2                              2\n",
              "1                                                                18                             10\n",
              "2                                                                26                             32\n",
              "3                                                                 4                              4\n",
              "4                                                                 0                              2"
            ]
          },
          "metadata": {},
          "execution_count": 115
        }
      ]
    },
    {
      "cell_type": "code",
      "metadata": {
        "colab": {
          "base_uri": "https://localhost:8080/"
        },
        "id": "r_JA1M5QQ8KP",
        "outputId": "d08b3f26-cdc5-4b07-d88b-32023ab18964"
      },
      "source": [
        "from scipy.stats import chi2_contingency\n",
        "\n",
        "stat, p, dof, expected = chi2_contingency(contingency_data)\n",
        "print('stat=%.3f, p=%.3f' % (stat, p))\n",
        "if p < 0.05:\n",
        "    print('Variables are Dependent / H0 Rejected')    \n",
        "else:\n",
        "    print('Variables are Independent / H0 Accepted')"
      ],
      "execution_count": 116,
      "outputs": [
        {
          "output_type": "stream",
          "name": "stdout",
          "text": [
            "stat=4.906, p=0.297\n",
            "Variables are Independent / H0 Accepted\n"
          ]
        }
      ]
    },
    {
      "cell_type": "markdown",
      "metadata": {
        "id": "hSbEAGFdREcR"
      },
      "source": [
        "# Diagnosis"
      ]
    },
    {
      "cell_type": "code",
      "metadata": {
        "colab": {
          "base_uri": "https://localhost:8080/"
        },
        "id": "BvG6x6VVM_2s",
        "outputId": "11f08c8d-e16c-4e7b-aecb-66a83383d760"
      },
      "source": [
        "df.Diagnosis.unique()"
      ],
      "execution_count": 117,
      "outputs": [
        {
          "output_type": "execute_result",
          "data": {
            "text/plain": [
              "array(['Hypopharynx', 'Lip and Oral Cavity', 'Larynx', 'Others',\n",
              "       'Oropharynx', 'Nasopharynx', 'Nasal Cavity paranasal sinus'],\n",
              "      dtype=object)"
            ]
          },
          "metadata": {},
          "execution_count": 117
        }
      ]
    },
    {
      "cell_type": "code",
      "metadata": {
        "colab": {
          "base_uri": "https://localhost:8080/"
        },
        "id": "uUDeuz7hU-Fb",
        "outputId": "b01d4277-662a-4837-8da3-ed9217851ad1"
      },
      "source": [
        "df.Diagnosis.isnull().any()"
      ],
      "execution_count": 118,
      "outputs": [
        {
          "output_type": "execute_result",
          "data": {
            "text/plain": [
              "False"
            ]
          },
          "metadata": {},
          "execution_count": 118
        }
      ]
    },
    {
      "cell_type": "code",
      "metadata": {
        "colab": {
          "base_uri": "https://localhost:8080/",
          "height": 0
        },
        "id": "ULznjBCgVW7b",
        "outputId": "a4655e2b-356f-4b6e-d1fc-79a5cd72b67b"
      },
      "source": [
        "contingency_data = pd.crosstab(df['Diagnosis'], df['Classification'])\n",
        "contingency_data "
      ],
      "execution_count": 119,
      "outputs": [
        {
          "output_type": "execute_result",
          "data": {
            "text/html": [
              "<div>\n",
              "<style scoped>\n",
              "    .dataframe tbody tr th:only-of-type {\n",
              "        vertical-align: middle;\n",
              "    }\n",
              "\n",
              "    .dataframe tbody tr th {\n",
              "        vertical-align: top;\n",
              "    }\n",
              "\n",
              "    .dataframe thead th {\n",
              "        text-align: right;\n",
              "    }\n",
              "</style>\n",
              "<table border=\"1\" class=\"dataframe\">\n",
              "  <thead>\n",
              "    <tr style=\"text-align: right;\">\n",
              "      <th>Classification</th>\n",
              "      <th>Cryotherapy along with maintaining oral hygiene</th>\n",
              "      <th>Maintaining oral hygiene only</th>\n",
              "    </tr>\n",
              "    <tr>\n",
              "      <th>Diagnosis</th>\n",
              "      <th></th>\n",
              "      <th></th>\n",
              "    </tr>\n",
              "  </thead>\n",
              "  <tbody>\n",
              "    <tr>\n",
              "      <th>Hypopharynx</th>\n",
              "      <td>7</td>\n",
              "      <td>4</td>\n",
              "    </tr>\n",
              "    <tr>\n",
              "      <th>Larynx</th>\n",
              "      <td>20</td>\n",
              "      <td>14</td>\n",
              "    </tr>\n",
              "    <tr>\n",
              "      <th>Lip and Oral Cavity</th>\n",
              "      <td>6</td>\n",
              "      <td>16</td>\n",
              "    </tr>\n",
              "    <tr>\n",
              "      <th>Nasal Cavity paranasal sinus</th>\n",
              "      <td>0</td>\n",
              "      <td>2</td>\n",
              "    </tr>\n",
              "    <tr>\n",
              "      <th>Nasopharynx</th>\n",
              "      <td>2</td>\n",
              "      <td>0</td>\n",
              "    </tr>\n",
              "    <tr>\n",
              "      <th>Oropharynx</th>\n",
              "      <td>11</td>\n",
              "      <td>10</td>\n",
              "    </tr>\n",
              "    <tr>\n",
              "      <th>Others</th>\n",
              "      <td>4</td>\n",
              "      <td>4</td>\n",
              "    </tr>\n",
              "  </tbody>\n",
              "</table>\n",
              "</div>"
            ],
            "text/plain": [
              "Classification                Cryotherapy along with maintaining oral hygiene  Maintaining oral hygiene only\n",
              "Diagnosis                                                                                                   \n",
              "Hypopharynx                                                                 7                              4\n",
              "Larynx                                                                     20                             14\n",
              "Lip and Oral Cavity                                                         6                             16\n",
              "Nasal Cavity paranasal sinus                                                0                              2\n",
              "Nasopharynx                                                                 2                              0\n",
              "Oropharynx                                                                 11                             10\n",
              "Others                                                                      4                              4"
            ]
          },
          "metadata": {},
          "execution_count": 119
        }
      ]
    },
    {
      "cell_type": "code",
      "metadata": {
        "colab": {
          "base_uri": "https://localhost:8080/"
        },
        "id": "DItEjWxbRr8z",
        "outputId": "89eb7c4e-b0f9-4727-99ee-07bd6cc44707"
      },
      "source": [
        "from scipy.stats import chi2_contingency\n",
        "\n",
        "stat, p, dof, expected = chi2_contingency(contingency_data)\n",
        "print('stat=%.3f, p=%.3f' % (stat, p))\n",
        "if p < 0.05:\n",
        "    print('Variables are Dependent / H0 Rejected')    \n",
        "else:\n",
        "    print('Variables are Independent / H0 Accepted')"
      ],
      "execution_count": 120,
      "outputs": [
        {
          "output_type": "stream",
          "name": "stdout",
          "text": [
            "stat=10.470, p=0.106\n",
            "Variables are Independent / H0 Accepted\n"
          ]
        }
      ]
    },
    {
      "cell_type": "markdown",
      "metadata": {
        "id": "RRh7vyMDSdVE"
      },
      "source": [
        "# Diagnosis Stage"
      ]
    },
    {
      "cell_type": "code",
      "metadata": {
        "id": "-R1DXSmKZMN7",
        "colab": {
          "base_uri": "https://localhost:8080/"
        },
        "outputId": "758af734-bb71-43db-cf88-f7661a45c6a2"
      },
      "source": [
        "df.Stage.unique()"
      ],
      "execution_count": 121,
      "outputs": [
        {
          "output_type": "execute_result",
          "data": {
            "text/plain": [
              "array(['2', '4', '1', '3'], dtype=object)"
            ]
          },
          "metadata": {},
          "execution_count": 121
        }
      ]
    },
    {
      "cell_type": "code",
      "metadata": {
        "id": "xuFzr0EsR5kB",
        "colab": {
          "base_uri": "https://localhost:8080/",
          "height": 0
        },
        "outputId": "c8ee887f-4b58-4f06-a98e-63db354d5a33"
      },
      "source": [
        "contingency_data = pd.crosstab(df['Stage'], df['Classification'])\n",
        "contingency_data "
      ],
      "execution_count": 122,
      "outputs": [
        {
          "output_type": "execute_result",
          "data": {
            "text/html": [
              "<div>\n",
              "<style scoped>\n",
              "    .dataframe tbody tr th:only-of-type {\n",
              "        vertical-align: middle;\n",
              "    }\n",
              "\n",
              "    .dataframe tbody tr th {\n",
              "        vertical-align: top;\n",
              "    }\n",
              "\n",
              "    .dataframe thead th {\n",
              "        text-align: right;\n",
              "    }\n",
              "</style>\n",
              "<table border=\"1\" class=\"dataframe\">\n",
              "  <thead>\n",
              "    <tr style=\"text-align: right;\">\n",
              "      <th>Classification</th>\n",
              "      <th>Cryotherapy along with maintaining oral hygiene</th>\n",
              "      <th>Maintaining oral hygiene only</th>\n",
              "    </tr>\n",
              "    <tr>\n",
              "      <th>Stage</th>\n",
              "      <th></th>\n",
              "      <th></th>\n",
              "    </tr>\n",
              "  </thead>\n",
              "  <tbody>\n",
              "    <tr>\n",
              "      <th>1</th>\n",
              "      <td>2</td>\n",
              "      <td>2</td>\n",
              "    </tr>\n",
              "    <tr>\n",
              "      <th>2</th>\n",
              "      <td>17</td>\n",
              "      <td>9</td>\n",
              "    </tr>\n",
              "    <tr>\n",
              "      <th>3</th>\n",
              "      <td>25</td>\n",
              "      <td>31</td>\n",
              "    </tr>\n",
              "    <tr>\n",
              "      <th>4</th>\n",
              "      <td>6</td>\n",
              "      <td>8</td>\n",
              "    </tr>\n",
              "  </tbody>\n",
              "</table>\n",
              "</div>"
            ],
            "text/plain": [
              "Classification  Cryotherapy along with maintaining oral hygiene  Maintaining oral hygiene only\n",
              "Stage                                                                                         \n",
              "1                                                             2                              2\n",
              "2                                                            17                              9\n",
              "3                                                            25                             31\n",
              "4                                                             6                              8"
            ]
          },
          "metadata": {},
          "execution_count": 122
        }
      ]
    },
    {
      "cell_type": "code",
      "metadata": {
        "colab": {
          "base_uri": "https://localhost:8080/"
        },
        "id": "737_XzW2DXSV",
        "outputId": "893b8a39-e9de-402b-d63c-c377fb18a327"
      },
      "source": [
        "from scipy.stats import chi2_contingency\n",
        "\n",
        "stat, p, dof, expected = chi2_contingency(contingency_data)\n",
        "print('stat=%.3f, p=%.3f' % (stat, p))\n",
        "if p < 0.05:\n",
        "    print('Variables are Dependent / H0 Rejected')    \n",
        "else:\n",
        "    print('Variables are Independent / H0 Accepted')"
      ],
      "execution_count": 123,
      "outputs": [
        {
          "output_type": "stream",
          "name": "stdout",
          "text": [
            "stat=3.390, p=0.335\n",
            "Variables are Independent / H0 Accepted\n"
          ]
        }
      ]
    },
    {
      "cell_type": "markdown",
      "metadata": {
        "id": "0LSyDq_QSrO_"
      },
      "source": [
        "# Histopathology"
      ]
    },
    {
      "cell_type": "code",
      "metadata": {
        "colab": {
          "base_uri": "https://localhost:8080/"
        },
        "id": "4FCtQF61M_k-",
        "outputId": "38b3424e-201b-4fe1-9854-e36efb4400a2"
      },
      "source": [
        "df.Histopathology.unique()"
      ],
      "execution_count": 124,
      "outputs": [
        {
          "output_type": "execute_result",
          "data": {
            "text/plain": [
              "array(['Squamous cell carcinoma', 'Others'], dtype=object)"
            ]
          },
          "metadata": {},
          "execution_count": 124
        }
      ]
    },
    {
      "cell_type": "code",
      "metadata": {
        "colab": {
          "base_uri": "https://localhost:8080/"
        },
        "id": "Sk4iscd2Wu56",
        "outputId": "8fa33c11-3ee9-40ee-b39f-cfbfdedd5759"
      },
      "source": [
        "df.Histopathology.isnull().any()"
      ],
      "execution_count": 125,
      "outputs": [
        {
          "output_type": "execute_result",
          "data": {
            "text/plain": [
              "False"
            ]
          },
          "metadata": {},
          "execution_count": 125
        }
      ]
    },
    {
      "cell_type": "code",
      "metadata": {
        "colab": {
          "base_uri": "https://localhost:8080/",
          "height": 0
        },
        "id": "2rKKS44cXcnt",
        "outputId": "565e60d5-3e59-4026-82e3-d38ff0d9bda8"
      },
      "source": [
        "contingency_data = pd.crosstab(df['Histopathology'], df['Classification'])\n",
        "contingency_data "
      ],
      "execution_count": 126,
      "outputs": [
        {
          "output_type": "execute_result",
          "data": {
            "text/html": [
              "<div>\n",
              "<style scoped>\n",
              "    .dataframe tbody tr th:only-of-type {\n",
              "        vertical-align: middle;\n",
              "    }\n",
              "\n",
              "    .dataframe tbody tr th {\n",
              "        vertical-align: top;\n",
              "    }\n",
              "\n",
              "    .dataframe thead th {\n",
              "        text-align: right;\n",
              "    }\n",
              "</style>\n",
              "<table border=\"1\" class=\"dataframe\">\n",
              "  <thead>\n",
              "    <tr style=\"text-align: right;\">\n",
              "      <th>Classification</th>\n",
              "      <th>Cryotherapy along with maintaining oral hygiene</th>\n",
              "      <th>Maintaining oral hygiene only</th>\n",
              "    </tr>\n",
              "    <tr>\n",
              "      <th>Histopathology</th>\n",
              "      <th></th>\n",
              "      <th></th>\n",
              "    </tr>\n",
              "  </thead>\n",
              "  <tbody>\n",
              "    <tr>\n",
              "      <th>Others</th>\n",
              "      <td>4</td>\n",
              "      <td>2</td>\n",
              "    </tr>\n",
              "    <tr>\n",
              "      <th>Squamous cell carcinoma</th>\n",
              "      <td>46</td>\n",
              "      <td>48</td>\n",
              "    </tr>\n",
              "  </tbody>\n",
              "</table>\n",
              "</div>"
            ],
            "text/plain": [
              "Classification           Cryotherapy along with maintaining oral hygiene  Maintaining oral hygiene only\n",
              "Histopathology                                                                                         \n",
              "Others                                                                 4                              2\n",
              "Squamous cell carcinoma                                               46                             48"
            ]
          },
          "metadata": {},
          "execution_count": 126
        }
      ]
    },
    {
      "cell_type": "code",
      "metadata": {
        "id": "mBbX3a4qOlt7",
        "colab": {
          "base_uri": "https://localhost:8080/"
        },
        "outputId": "27bf669b-3443-4218-cf7b-1baeeaccacdc"
      },
      "source": [
        "from scipy.stats import chi2_contingency\n",
        "\n",
        "stat, p, dof, expected = chi2_contingency(contingency_data)\n",
        "print('stat=%.3f, p=%.3f' % (stat, p))\n",
        "if p < 0.05:\n",
        "    print('Variables are Dependent / H0 Rejected')    \n",
        "else:\n",
        "    print('Variables are Independent / H0 Accepted')"
      ],
      "execution_count": 127,
      "outputs": [
        {
          "output_type": "stream",
          "name": "stdout",
          "text": [
            "stat=0.177, p=0.674\n",
            "Variables are Independent / H0 Accepted\n"
          ]
        }
      ]
    },
    {
      "cell_type": "markdown",
      "metadata": {
        "id": "Agk6EKwUwi-t"
      },
      "source": [
        "# Radiotherapy"
      ]
    },
    {
      "cell_type": "code",
      "metadata": {
        "id": "tcK0pkPLOloB",
        "colab": {
          "base_uri": "https://localhost:8080/"
        },
        "outputId": "7a98deb1-86cf-4aca-df0d-06924dcda693"
      },
      "source": [
        "df.Radiotherapy.unique()"
      ],
      "execution_count": 128,
      "outputs": [
        {
          "output_type": "execute_result",
          "data": {
            "text/plain": [
              "array(['#REF!', 'Post-operative'], dtype=object)"
            ]
          },
          "metadata": {},
          "execution_count": 128
        }
      ]
    },
    {
      "cell_type": "code",
      "metadata": {
        "id": "E3ZUWoWYOliZ",
        "colab": {
          "base_uri": "https://localhost:8080/"
        },
        "outputId": "a30cf637-9486-49b3-8342-000968d61128"
      },
      "source": [
        "df.Histopathology.isnull().any()"
      ],
      "execution_count": 129,
      "outputs": [
        {
          "output_type": "execute_result",
          "data": {
            "text/plain": [
              "False"
            ]
          },
          "metadata": {},
          "execution_count": 129
        }
      ]
    },
    {
      "cell_type": "code",
      "metadata": {
        "id": "LJRsPk0eOlc2",
        "colab": {
          "base_uri": "https://localhost:8080/",
          "height": 0
        },
        "outputId": "c74c4dfd-d281-4773-af53-3aed1bb5bdb2"
      },
      "source": [
        "contingency_data = pd.crosstab(df['Radiotherapy'], df['Classification'])\n",
        "contingency_data "
      ],
      "execution_count": 130,
      "outputs": [
        {
          "output_type": "execute_result",
          "data": {
            "text/html": [
              "<div>\n",
              "<style scoped>\n",
              "    .dataframe tbody tr th:only-of-type {\n",
              "        vertical-align: middle;\n",
              "    }\n",
              "\n",
              "    .dataframe tbody tr th {\n",
              "        vertical-align: top;\n",
              "    }\n",
              "\n",
              "    .dataframe thead th {\n",
              "        text-align: right;\n",
              "    }\n",
              "</style>\n",
              "<table border=\"1\" class=\"dataframe\">\n",
              "  <thead>\n",
              "    <tr style=\"text-align: right;\">\n",
              "      <th>Classification</th>\n",
              "      <th>Cryotherapy along with maintaining oral hygiene</th>\n",
              "      <th>Maintaining oral hygiene only</th>\n",
              "    </tr>\n",
              "    <tr>\n",
              "      <th>Radiotherapy</th>\n",
              "      <th></th>\n",
              "      <th></th>\n",
              "    </tr>\n",
              "  </thead>\n",
              "  <tbody>\n",
              "    <tr>\n",
              "      <th>#REF!</th>\n",
              "      <td>44</td>\n",
              "      <td>34</td>\n",
              "    </tr>\n",
              "    <tr>\n",
              "      <th>Post-operative</th>\n",
              "      <td>6</td>\n",
              "      <td>16</td>\n",
              "    </tr>\n",
              "  </tbody>\n",
              "</table>\n",
              "</div>"
            ],
            "text/plain": [
              "Classification  Cryotherapy along with maintaining oral hygiene  Maintaining oral hygiene only\n",
              "Radiotherapy                                                                                  \n",
              "#REF!                                                        44                             34\n",
              "Post-operative                                                6                             16"
            ]
          },
          "metadata": {},
          "execution_count": 130
        }
      ]
    },
    {
      "cell_type": "code",
      "metadata": {
        "id": "s9YMTXrEOlWO",
        "colab": {
          "base_uri": "https://localhost:8080/"
        },
        "outputId": "249096d3-9b16-4fb2-f471-f165a186659c"
      },
      "source": [
        "from scipy.stats import chi2_contingency\n",
        "\n",
        "stat, p, dof, expected = chi2_contingency(contingency_data)\n",
        "print('stat=%.3f, p=%.3f' % (stat, p))\n",
        "if p < 0.05:\n",
        "    print('Variables are Dependent / H0 Rejected')    \n",
        "else:\n",
        "    print('Variables are Independent / H0 Accepted')"
      ],
      "execution_count": 131,
      "outputs": [
        {
          "output_type": "stream",
          "name": "stdout",
          "text": [
            "stat=4.720, p=0.030\n",
            "Variables are Dependent / H0 Rejected\n"
          ]
        }
      ]
    },
    {
      "cell_type": "markdown",
      "metadata": {
        "id": "aHf6v9p4xVTS"
      },
      "source": [
        "# Total_Dose"
      ]
    },
    {
      "cell_type": "code",
      "metadata": {
        "id": "SQOZX1ggOlQ4",
        "colab": {
          "base_uri": "https://localhost:8080/"
        },
        "outputId": "8375b821-3fea-42ee-d940-082539b20e13"
      },
      "source": [
        "df.Total_Dose.unique()"
      ],
      "execution_count": 132,
      "outputs": [
        {
          "output_type": "execute_result",
          "data": {
            "text/plain": [
              "array(['6600', '6000', '3000'], dtype=object)"
            ]
          },
          "metadata": {},
          "execution_count": 132
        }
      ]
    },
    {
      "cell_type": "code",
      "metadata": {
        "colab": {
          "base_uri": "https://localhost:8080/"
        },
        "id": "CT9hQQREx51p",
        "outputId": "8046a3f6-f6e1-4122-cf6f-5eebc60dc430"
      },
      "source": [
        "df.Total_Dose.isnull().any()"
      ],
      "execution_count": 133,
      "outputs": [
        {
          "output_type": "execute_result",
          "data": {
            "text/plain": [
              "False"
            ]
          },
          "metadata": {},
          "execution_count": 133
        }
      ]
    },
    {
      "cell_type": "code",
      "metadata": {
        "colab": {
          "base_uri": "https://localhost:8080/",
          "height": 0
        },
        "id": "_ZF2bul2x9VH",
        "outputId": "cc1fc374-72fa-4edf-ba59-d27dbb9ef6c2"
      },
      "source": [
        "contingency_data = pd.crosstab(df['Total_Dose'], df['Classification'])\n",
        "contingency_data "
      ],
      "execution_count": 134,
      "outputs": [
        {
          "output_type": "execute_result",
          "data": {
            "text/html": [
              "<div>\n",
              "<style scoped>\n",
              "    .dataframe tbody tr th:only-of-type {\n",
              "        vertical-align: middle;\n",
              "    }\n",
              "\n",
              "    .dataframe tbody tr th {\n",
              "        vertical-align: top;\n",
              "    }\n",
              "\n",
              "    .dataframe thead th {\n",
              "        text-align: right;\n",
              "    }\n",
              "</style>\n",
              "<table border=\"1\" class=\"dataframe\">\n",
              "  <thead>\n",
              "    <tr style=\"text-align: right;\">\n",
              "      <th>Classification</th>\n",
              "      <th>Cryotherapy along with maintaining oral hygiene</th>\n",
              "      <th>Maintaining oral hygiene only</th>\n",
              "    </tr>\n",
              "    <tr>\n",
              "      <th>Total_Dose</th>\n",
              "      <th></th>\n",
              "      <th></th>\n",
              "    </tr>\n",
              "  </thead>\n",
              "  <tbody>\n",
              "    <tr>\n",
              "      <th>3000</th>\n",
              "      <td>0</td>\n",
              "      <td>4</td>\n",
              "    </tr>\n",
              "    <tr>\n",
              "      <th>6000</th>\n",
              "      <td>6</td>\n",
              "      <td>10</td>\n",
              "    </tr>\n",
              "    <tr>\n",
              "      <th>6600</th>\n",
              "      <td>44</td>\n",
              "      <td>36</td>\n",
              "    </tr>\n",
              "  </tbody>\n",
              "</table>\n",
              "</div>"
            ],
            "text/plain": [
              "Classification  Cryotherapy along with maintaining oral hygiene  Maintaining oral hygiene only\n",
              "Total_Dose                                                                                    \n",
              "3000                                                          0                              4\n",
              "6000                                                          6                             10\n",
              "6600                                                         44                             36"
            ]
          },
          "metadata": {},
          "execution_count": 134
        }
      ]
    },
    {
      "cell_type": "code",
      "metadata": {
        "id": "mwBTN2HeOlJy",
        "colab": {
          "base_uri": "https://localhost:8080/"
        },
        "outputId": "c2eea13f-5b55-4ac2-9f43-a44cb87a6f87"
      },
      "source": [
        "from scipy.stats import chi2_contingency\n",
        "\n",
        "stat, p, dof, expected = chi2_contingency(contingency_data)\n",
        "print('stat=%.3f, p=%.3f' % (stat, p))\n",
        "if p < 0.05:\n",
        "    print('Variables are Dependent / H0 Rejected')    \n",
        "else:\n",
        "    print('Variables are Independent / H0 Accepted')"
      ],
      "execution_count": 135,
      "outputs": [
        {
          "output_type": "stream",
          "name": "stdout",
          "text": [
            "stat=5.800, p=0.055\n",
            "Variables are Independent / H0 Accepted\n"
          ]
        }
      ]
    },
    {
      "cell_type": "markdown",
      "metadata": {
        "id": "rxdxADBsy_xL"
      },
      "source": [
        "# RT field"
      ]
    },
    {
      "cell_type": "markdown",
      "metadata": {
        "id": "aD5K7kfFzD5k"
      },
      "source": [
        "![image.png](data:image/png;base64,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)\n",
        "\n",
        "---\n"
      ]
    },
    {
      "cell_type": "code",
      "metadata": {
        "colab": {
          "base_uri": "https://localhost:8080/"
        },
        "id": "rA6o48xby-hN",
        "outputId": "dcdcc3a0-6448-41a3-fcce-62acaa4e9fc2"
      },
      "source": [
        "from scipy.stats import fisher_exact\n",
        "\n",
        "Unilateral_Cryotherapy, Unilateral_Maintaining = 5, 4\n",
        "Parallel_Cryotherapy, Parallel_Maintaining = 45, 46\n",
        "\n",
        "oddsratio, pvalue = fisher_exact([[Unilateral_Cryotherapy, Unilateral_Maintaining], [Parallel_Cryotherapy, Parallel_Maintaining]])\n",
        "print('Fisher exact test p-value: {:.4f}'.format(pvalue))"
      ],
      "execution_count": 136,
      "outputs": [
        {
          "output_type": "stream",
          "name": "stdout",
          "text": [
            "Fisher exact test p-value: 1.0000\n"
          ]
        }
      ]
    },
    {
      "cell_type": "markdown",
      "metadata": {
        "id": "zHu2QG3A1ouq"
      },
      "source": [
        "# Comparison of WHO mucositis grade in 1st week of radiotherapy"
      ]
    },
    {
      "cell_type": "code",
      "metadata": {
        "colab": {
          "base_uri": "https://localhost:8080/",
          "height": 142
        },
        "id": "SPP9kGUf8_da",
        "outputId": "cda12f25-578b-4511-8e68-e354052c76aa"
      },
      "source": [
        "pd.crosstab(df.WHO_Grade_After_1W, df.Classification)"
      ],
      "execution_count": 137,
      "outputs": [
        {
          "output_type": "execute_result",
          "data": {
            "text/html": [
              "<div>\n",
              "<style scoped>\n",
              "    .dataframe tbody tr th:only-of-type {\n",
              "        vertical-align: middle;\n",
              "    }\n",
              "\n",
              "    .dataframe tbody tr th {\n",
              "        vertical-align: top;\n",
              "    }\n",
              "\n",
              "    .dataframe thead th {\n",
              "        text-align: right;\n",
              "    }\n",
              "</style>\n",
              "<table border=\"1\" class=\"dataframe\">\n",
              "  <thead>\n",
              "    <tr style=\"text-align: right;\">\n",
              "      <th>Classification</th>\n",
              "      <th>Cryotherapy along with maintaining oral hygiene</th>\n",
              "      <th>Maintaining oral hygiene only</th>\n",
              "    </tr>\n",
              "    <tr>\n",
              "      <th>WHO_Grade_After_1W</th>\n",
              "      <th></th>\n",
              "      <th></th>\n",
              "    </tr>\n",
              "  </thead>\n",
              "  <tbody>\n",
              "    <tr>\n",
              "      <th>0</th>\n",
              "      <td>46</td>\n",
              "      <td>8</td>\n",
              "    </tr>\n",
              "    <tr>\n",
              "      <th>1</th>\n",
              "      <td>4</td>\n",
              "      <td>42</td>\n",
              "    </tr>\n",
              "  </tbody>\n",
              "</table>\n",
              "</div>"
            ],
            "text/plain": [
              "Classification      Cryotherapy along with maintaining oral hygiene  Maintaining oral hygiene only\n",
              "WHO_Grade_After_1W                                                                                \n",
              "0                                                                46                              8\n",
              "1                                                                 4                             42"
            ]
          },
          "metadata": {},
          "execution_count": 137
        }
      ]
    },
    {
      "cell_type": "markdown",
      "metadata": {
        "id": "99xkTpAl1kAN"
      },
      "source": [
        "# Comparison of WHO mucositis grade in 2nd week of radiotherapy"
      ]
    },
    {
      "cell_type": "code",
      "metadata": {
        "colab": {
          "base_uri": "https://localhost:8080/",
          "height": 173
        },
        "id": "CsDnarV69G7Z",
        "outputId": "44b06278-680d-45d8-a242-12c4a0a0163d"
      },
      "source": [
        "pd.crosstab(df.WHO_Grade_After_2W, df.Classification)"
      ],
      "execution_count": 138,
      "outputs": [
        {
          "output_type": "execute_result",
          "data": {
            "text/html": [
              "<div>\n",
              "<style scoped>\n",
              "    .dataframe tbody tr th:only-of-type {\n",
              "        vertical-align: middle;\n",
              "    }\n",
              "\n",
              "    .dataframe tbody tr th {\n",
              "        vertical-align: top;\n",
              "    }\n",
              "\n",
              "    .dataframe thead th {\n",
              "        text-align: right;\n",
              "    }\n",
              "</style>\n",
              "<table border=\"1\" class=\"dataframe\">\n",
              "  <thead>\n",
              "    <tr style=\"text-align: right;\">\n",
              "      <th>Classification</th>\n",
              "      <th>Cryotherapy along with maintaining oral hygiene</th>\n",
              "      <th>Maintaining oral hygiene only</th>\n",
              "    </tr>\n",
              "    <tr>\n",
              "      <th>WHO_Grade_After_2W</th>\n",
              "      <th></th>\n",
              "      <th></th>\n",
              "    </tr>\n",
              "  </thead>\n",
              "  <tbody>\n",
              "    <tr>\n",
              "      <th>0</th>\n",
              "      <td>23</td>\n",
              "      <td>1</td>\n",
              "    </tr>\n",
              "    <tr>\n",
              "      <th>1</th>\n",
              "      <td>27</td>\n",
              "      <td>38</td>\n",
              "    </tr>\n",
              "    <tr>\n",
              "      <th>2</th>\n",
              "      <td>0</td>\n",
              "      <td>11</td>\n",
              "    </tr>\n",
              "  </tbody>\n",
              "</table>\n",
              "</div>"
            ],
            "text/plain": [
              "Classification      Cryotherapy along with maintaining oral hygiene  Maintaining oral hygiene only\n",
              "WHO_Grade_After_2W                                                                                \n",
              "0                                                                23                              1\n",
              "1                                                                27                             38\n",
              "2                                                                 0                             11"
            ]
          },
          "metadata": {},
          "execution_count": 138
        }
      ]
    },
    {
      "cell_type": "markdown",
      "metadata": {
        "id": "5TFjhwur29BR"
      },
      "source": [
        "# Comparison of WHO mucositis grade in 3rd week of radiotherapy"
      ]
    },
    {
      "cell_type": "code",
      "metadata": {
        "id": "EL47gsPWOkGm",
        "colab": {
          "base_uri": "https://localhost:8080/",
          "height": 204
        },
        "outputId": "33fd6648-0c85-4055-acb7-a4d31161ec4a"
      },
      "source": [
        "pd.crosstab(df.WHO_Grade_After_3W, df.Classification)"
      ],
      "execution_count": 139,
      "outputs": [
        {
          "output_type": "execute_result",
          "data": {
            "text/html": [
              "<div>\n",
              "<style scoped>\n",
              "    .dataframe tbody tr th:only-of-type {\n",
              "        vertical-align: middle;\n",
              "    }\n",
              "\n",
              "    .dataframe tbody tr th {\n",
              "        vertical-align: top;\n",
              "    }\n",
              "\n",
              "    .dataframe thead th {\n",
              "        text-align: right;\n",
              "    }\n",
              "</style>\n",
              "<table border=\"1\" class=\"dataframe\">\n",
              "  <thead>\n",
              "    <tr style=\"text-align: right;\">\n",
              "      <th>Classification</th>\n",
              "      <th>Cryotherapy along with maintaining oral hygiene</th>\n",
              "      <th>Maintaining oral hygiene only</th>\n",
              "    </tr>\n",
              "    <tr>\n",
              "      <th>WHO_Grade_After_3W</th>\n",
              "      <th></th>\n",
              "      <th></th>\n",
              "    </tr>\n",
              "  </thead>\n",
              "  <tbody>\n",
              "    <tr>\n",
              "      <th>0</th>\n",
              "      <td>8</td>\n",
              "      <td>0</td>\n",
              "    </tr>\n",
              "    <tr>\n",
              "      <th>1</th>\n",
              "      <td>37</td>\n",
              "      <td>10</td>\n",
              "    </tr>\n",
              "    <tr>\n",
              "      <th>2</th>\n",
              "      <td>5</td>\n",
              "      <td>31</td>\n",
              "    </tr>\n",
              "    <tr>\n",
              "      <th>3</th>\n",
              "      <td>0</td>\n",
              "      <td>9</td>\n",
              "    </tr>\n",
              "  </tbody>\n",
              "</table>\n",
              "</div>"
            ],
            "text/plain": [
              "Classification      Cryotherapy along with maintaining oral hygiene  Maintaining oral hygiene only\n",
              "WHO_Grade_After_3W                                                                                \n",
              "0                                                                 8                              0\n",
              "1                                                                37                             10\n",
              "2                                                                 5                             31\n",
              "3                                                                 0                              9"
            ]
          },
          "metadata": {},
          "execution_count": 139
        }
      ]
    },
    {
      "cell_type": "code",
      "metadata": {
        "colab": {
          "base_uri": "https://localhost:8080/"
        },
        "id": "8wNwOZz7-7Le",
        "outputId": "b5c974b7-4e66-43ce-fb44-b5f1eb78a40e"
      },
      "source": [
        "from scipy.stats import fisher_exact\n",
        "\n",
        "Unilateral_Cryotherapy, Unilateral_Maintaining = 50, 41\n",
        "Parallel_Cryotherapy, Parallel_Maintaining = 0, 9\n",
        "\n",
        "oddsratio, pvalue = fisher_exact([[Unilateral_Cryotherapy, Unilateral_Maintaining], [Parallel_Cryotherapy, Parallel_Maintaining]])\n",
        "print('Fisher exact test p-value: {:.4f}'.format(pvalue))"
      ],
      "execution_count": 140,
      "outputs": [
        {
          "output_type": "stream",
          "name": "stdout",
          "text": [
            "Fisher exact test p-value: 0.0026\n"
          ]
        }
      ]
    },
    {
      "cell_type": "markdown",
      "metadata": {
        "id": "3lMp6eEv3FzB"
      },
      "source": [
        "# Comparison of WHO mucositis grade in 4th week of radiotherapy"
      ]
    },
    {
      "cell_type": "code",
      "metadata": {
        "id": "ZFJt5hJ5PE78",
        "colab": {
          "base_uri": "https://localhost:8080/",
          "height": 173
        },
        "outputId": "1c6e6b1f-07da-4244-c6b0-395188a25e53"
      },
      "source": [
        "pd.crosstab(df.WHO_Grade_After_4W, df.Classification)"
      ],
      "execution_count": 141,
      "outputs": [
        {
          "output_type": "execute_result",
          "data": {
            "text/html": [
              "<div>\n",
              "<style scoped>\n",
              "    .dataframe tbody tr th:only-of-type {\n",
              "        vertical-align: middle;\n",
              "    }\n",
              "\n",
              "    .dataframe tbody tr th {\n",
              "        vertical-align: top;\n",
              "    }\n",
              "\n",
              "    .dataframe thead th {\n",
              "        text-align: right;\n",
              "    }\n",
              "</style>\n",
              "<table border=\"1\" class=\"dataframe\">\n",
              "  <thead>\n",
              "    <tr style=\"text-align: right;\">\n",
              "      <th>Classification</th>\n",
              "      <th>Cryotherapy along with maintaining oral hygiene</th>\n",
              "      <th>Maintaining oral hygiene only</th>\n",
              "    </tr>\n",
              "    <tr>\n",
              "      <th>WHO_Grade_After_4W</th>\n",
              "      <th></th>\n",
              "      <th></th>\n",
              "    </tr>\n",
              "  </thead>\n",
              "  <tbody>\n",
              "    <tr>\n",
              "      <th>1</th>\n",
              "      <td>37</td>\n",
              "      <td>1</td>\n",
              "    </tr>\n",
              "    <tr>\n",
              "      <th>2</th>\n",
              "      <td>13</td>\n",
              "      <td>34</td>\n",
              "    </tr>\n",
              "    <tr>\n",
              "      <th>3</th>\n",
              "      <td>0</td>\n",
              "      <td>15</td>\n",
              "    </tr>\n",
              "  </tbody>\n",
              "</table>\n",
              "</div>"
            ],
            "text/plain": [
              "Classification      Cryotherapy along with maintaining oral hygiene  Maintaining oral hygiene only\n",
              "WHO_Grade_After_4W                                                                                \n",
              "1                                                                37                              1\n",
              "2                                                                13                             34\n",
              "3                                                                 0                             15"
            ]
          },
          "metadata": {},
          "execution_count": 141
        }
      ]
    },
    {
      "cell_type": "code",
      "metadata": {
        "colab": {
          "base_uri": "https://localhost:8080/"
        },
        "id": "da1m2xt-G7A5",
        "outputId": "698860f0-6dce-4ed4-c484-6220e73cd8b8"
      },
      "source": [
        "from scipy.stats import fisher_exact\n",
        "\n",
        "Unilateral_Cryotherapy, Unilateral_Maintaining = 50, 35\n",
        "Parallel_Cryotherapy, Parallel_Maintaining = 0, 15\n",
        "\n",
        "oddsratio, pvalue = fisher_exact([[Unilateral_Cryotherapy, Unilateral_Maintaining], [Parallel_Cryotherapy, Parallel_Maintaining]])\n",
        "print('Fisher exact test p-value: {:.4f}'.format(pvalue))\n",
        "pvalue"
      ],
      "execution_count": 142,
      "outputs": [
        {
          "output_type": "stream",
          "name": "stdout",
          "text": [
            "Fisher exact test p-value: 0.0000\n"
          ]
        },
        {
          "output_type": "execute_result",
          "data": {
            "text/plain": [
              "1.776934678042208e-05"
            ]
          },
          "metadata": {},
          "execution_count": 142
        }
      ]
    },
    {
      "cell_type": "markdown",
      "metadata": {
        "id": "H8WM_86f3WI3"
      },
      "source": [
        "# Comparison of WHO mucositis grade in 5th week of radiotherapy"
      ]
    },
    {
      "cell_type": "code",
      "metadata": {
        "id": "jlcJ_woTQEKM",
        "colab": {
          "base_uri": "https://localhost:8080/",
          "height": 173
        },
        "outputId": "8f12c0ee-d507-4d9d-d340-bb52e5304436"
      },
      "source": [
        "pd.crosstab(df.WHO_Grade_After_5W, df.Classification)"
      ],
      "execution_count": 143,
      "outputs": [
        {
          "output_type": "execute_result",
          "data": {
            "text/html": [
              "<div>\n",
              "<style scoped>\n",
              "    .dataframe tbody tr th:only-of-type {\n",
              "        vertical-align: middle;\n",
              "    }\n",
              "\n",
              "    .dataframe tbody tr th {\n",
              "        vertical-align: top;\n",
              "    }\n",
              "\n",
              "    .dataframe thead th {\n",
              "        text-align: right;\n",
              "    }\n",
              "</style>\n",
              "<table border=\"1\" class=\"dataframe\">\n",
              "  <thead>\n",
              "    <tr style=\"text-align: right;\">\n",
              "      <th>Classification</th>\n",
              "      <th>Cryotherapy along with maintaining oral hygiene</th>\n",
              "      <th>Maintaining oral hygiene only</th>\n",
              "    </tr>\n",
              "    <tr>\n",
              "      <th>WHO_Grade_After_5W</th>\n",
              "      <th></th>\n",
              "      <th></th>\n",
              "    </tr>\n",
              "  </thead>\n",
              "  <tbody>\n",
              "    <tr>\n",
              "      <th>1</th>\n",
              "      <td>25</td>\n",
              "      <td>0</td>\n",
              "    </tr>\n",
              "    <tr>\n",
              "      <th>2</th>\n",
              "      <td>25</td>\n",
              "      <td>11</td>\n",
              "    </tr>\n",
              "    <tr>\n",
              "      <th>3</th>\n",
              "      <td>0</td>\n",
              "      <td>39</td>\n",
              "    </tr>\n",
              "  </tbody>\n",
              "</table>\n",
              "</div>"
            ],
            "text/plain": [
              "Classification      Cryotherapy along with maintaining oral hygiene  Maintaining oral hygiene only\n",
              "WHO_Grade_After_5W                                                                                \n",
              "1                                                                25                              0\n",
              "2                                                                25                             11\n",
              "3                                                                 0                             39"
            ]
          },
          "metadata": {},
          "execution_count": 143
        }
      ]
    },
    {
      "cell_type": "code",
      "metadata": {
        "colab": {
          "base_uri": "https://localhost:8080/"
        },
        "id": "GomDjYHhHZDY",
        "outputId": "ba32c843-4d23-45c7-f6df-dbaed70201fe"
      },
      "source": [
        "from scipy.stats import fisher_exact\n",
        "\n",
        "Unilateral_Cryotherapy, Unilateral_Maintaining = 50, 11\n",
        "Parallel_Cryotherapy, Parallel_Maintaining = 0, 39\n",
        "\n",
        "oddsratio, pvalue = fisher_exact([[Unilateral_Cryotherapy, Unilateral_Maintaining], [Parallel_Cryotherapy, Parallel_Maintaining]])\n",
        "print('Fisher exact test p-value: {:.4f}'.format(pvalue))"
      ],
      "execution_count": 144,
      "outputs": [
        {
          "output_type": "stream",
          "name": "stdout",
          "text": [
            "Fisher exact test p-value: 0.0000\n"
          ]
        }
      ]
    },
    {
      "cell_type": "markdown",
      "metadata": {
        "id": "v5F8BDSm3aqh"
      },
      "source": [
        "# Comparison of WHO mucositis grade in 6th week of radiotherapy"
      ]
    },
    {
      "cell_type": "code",
      "metadata": {
        "id": "Cxf-9p9MQIqZ",
        "colab": {
          "base_uri": "https://localhost:8080/",
          "height": 173
        },
        "outputId": "6d1c7563-b7c7-46cc-d258-c4c9bc09c9f7"
      },
      "source": [
        "pd.crosstab(df.WHO_Grade_After_6W, df.Classification)"
      ],
      "execution_count": 145,
      "outputs": [
        {
          "output_type": "execute_result",
          "data": {
            "text/html": [
              "<div>\n",
              "<style scoped>\n",
              "    .dataframe tbody tr th:only-of-type {\n",
              "        vertical-align: middle;\n",
              "    }\n",
              "\n",
              "    .dataframe tbody tr th {\n",
              "        vertical-align: top;\n",
              "    }\n",
              "\n",
              "    .dataframe thead th {\n",
              "        text-align: right;\n",
              "    }\n",
              "</style>\n",
              "<table border=\"1\" class=\"dataframe\">\n",
              "  <thead>\n",
              "    <tr style=\"text-align: right;\">\n",
              "      <th>Classification</th>\n",
              "      <th>Cryotherapy along with maintaining oral hygiene</th>\n",
              "      <th>Maintaining oral hygiene only</th>\n",
              "    </tr>\n",
              "    <tr>\n",
              "      <th>WHO_Grade_After_6W</th>\n",
              "      <th></th>\n",
              "      <th></th>\n",
              "    </tr>\n",
              "  </thead>\n",
              "  <tbody>\n",
              "    <tr>\n",
              "      <th>1</th>\n",
              "      <td>7</td>\n",
              "      <td>0</td>\n",
              "    </tr>\n",
              "    <tr>\n",
              "      <th>2</th>\n",
              "      <td>37</td>\n",
              "      <td>4</td>\n",
              "    </tr>\n",
              "    <tr>\n",
              "      <th>3</th>\n",
              "      <td>6</td>\n",
              "      <td>46</td>\n",
              "    </tr>\n",
              "  </tbody>\n",
              "</table>\n",
              "</div>"
            ],
            "text/plain": [
              "Classification      Cryotherapy along with maintaining oral hygiene  Maintaining oral hygiene only\n",
              "WHO_Grade_After_6W                                                                                \n",
              "1                                                                 7                              0\n",
              "2                                                                37                              4\n",
              "3                                                                 6                             46"
            ]
          },
          "metadata": {},
          "execution_count": 145
        }
      ]
    },
    {
      "cell_type": "code",
      "metadata": {
        "colab": {
          "base_uri": "https://localhost:8080/"
        },
        "id": "YuXhGns4HjKB",
        "outputId": "48fb3383-b58c-4c51-f97f-c063075a41cc"
      },
      "source": [
        "from scipy.stats import fisher_exact\n",
        "\n",
        "Unilateral_Cryotherapy, Unilateral_Maintaining = 44, 4\n",
        "Parallel_Cryotherapy, Parallel_Maintaining = 6, 46\n",
        "\n",
        "oddsratio, pvalue = fisher_exact([[Unilateral_Cryotherapy, Unilateral_Maintaining], [Parallel_Cryotherapy, Parallel_Maintaining]])\n",
        "print('Fisher exact test p-value: {:.4f}'.format(pvalue))"
      ],
      "execution_count": 146,
      "outputs": [
        {
          "output_type": "stream",
          "name": "stdout",
          "text": [
            "Fisher exact test p-value: 0.0000\n"
          ]
        }
      ]
    },
    {
      "cell_type": "markdown",
      "metadata": {
        "id": "gP-ExuMH44Sd"
      },
      "source": [
        "# Comparison of WHO mucositis grade in first follow-up 14 days after radiotherapy"
      ]
    },
    {
      "cell_type": "code",
      "metadata": {
        "id": "1yF0joFIQVqq",
        "colab": {
          "base_uri": "https://localhost:8080/",
          "height": 204
        },
        "outputId": "ff0426fb-f3b1-4cbf-88f9-cd17c4103cde"
      },
      "source": [
        "pd.crosstab(df.WHO_Grade_2W_After_Treatment, df.Classification)"
      ],
      "execution_count": 147,
      "outputs": [
        {
          "output_type": "execute_result",
          "data": {
            "text/html": [
              "<div>\n",
              "<style scoped>\n",
              "    .dataframe tbody tr th:only-of-type {\n",
              "        vertical-align: middle;\n",
              "    }\n",
              "\n",
              "    .dataframe tbody tr th {\n",
              "        vertical-align: top;\n",
              "    }\n",
              "\n",
              "    .dataframe thead th {\n",
              "        text-align: right;\n",
              "    }\n",
              "</style>\n",
              "<table border=\"1\" class=\"dataframe\">\n",
              "  <thead>\n",
              "    <tr style=\"text-align: right;\">\n",
              "      <th>Classification</th>\n",
              "      <th>Cryotherapy along with maintaining oral hygiene</th>\n",
              "      <th>Maintaining oral hygiene only</th>\n",
              "    </tr>\n",
              "    <tr>\n",
              "      <th>WHO_Grade_2W_After_Treatment</th>\n",
              "      <th></th>\n",
              "      <th></th>\n",
              "    </tr>\n",
              "  </thead>\n",
              "  <tbody>\n",
              "    <tr>\n",
              "      <th>1</th>\n",
              "      <td>11</td>\n",
              "      <td>0</td>\n",
              "    </tr>\n",
              "    <tr>\n",
              "      <th>2</th>\n",
              "      <td>33</td>\n",
              "      <td>8</td>\n",
              "    </tr>\n",
              "    <tr>\n",
              "      <th>3</th>\n",
              "      <td>6</td>\n",
              "      <td>21</td>\n",
              "    </tr>\n",
              "    <tr>\n",
              "      <th>4</th>\n",
              "      <td>0</td>\n",
              "      <td>21</td>\n",
              "    </tr>\n",
              "  </tbody>\n",
              "</table>\n",
              "</div>"
            ],
            "text/plain": [
              "Classification                Cryotherapy along with maintaining oral hygiene  Maintaining oral hygiene only\n",
              "WHO_Grade_2W_After_Treatment                                                                                \n",
              "1                                                                          11                              0\n",
              "2                                                                          33                              8\n",
              "3                                                                           6                             21\n",
              "4                                                                           0                             21"
            ]
          },
          "metadata": {},
          "execution_count": 147
        }
      ]
    },
    {
      "cell_type": "code",
      "metadata": {
        "colab": {
          "base_uri": "https://localhost:8080/"
        },
        "id": "IxKwCEDTIaAP",
        "outputId": "e172fb64-0048-4e40-8fa6-f644954644ca"
      },
      "source": [
        "from scipy.stats import fisher_exact\n",
        "\n",
        "Unilateral_Cryotherapy, Unilateral_Maintaining = 44, 8\n",
        "Parallel_Cryotherapy, Parallel_Maintaining = 6, 42\n",
        "\n",
        "oddsratio, pvalue = fisher_exact([[Unilateral_Cryotherapy, Unilateral_Maintaining], [Parallel_Cryotherapy, Parallel_Maintaining]])\n",
        "print('Fisher exact test p-value: {:.4f}'.format(pvalue))"
      ],
      "execution_count": 148,
      "outputs": [
        {
          "output_type": "stream",
          "name": "stdout",
          "text": [
            "Fisher exact test p-value: 0.0000\n"
          ]
        }
      ]
    },
    {
      "cell_type": "markdown",
      "metadata": {
        "id": "nt7O03YV5PWi"
      },
      "source": [
        "# Comparison of WHO mucositis grade in first follow-up 28 days after radiotherapy"
      ]
    },
    {
      "cell_type": "code",
      "metadata": {
        "id": "A-e6imYCQc1t",
        "colab": {
          "base_uri": "https://localhost:8080/",
          "height": 173
        },
        "outputId": "bed72e1e-cf5b-459f-be85-ca3279e2480f"
      },
      "source": [
        "pd.crosstab(df.WHO_Grade_4W_After_Treatment, df.Classification)"
      ],
      "execution_count": 149,
      "outputs": [
        {
          "output_type": "execute_result",
          "data": {
            "text/html": [
              "<div>\n",
              "<style scoped>\n",
              "    .dataframe tbody tr th:only-of-type {\n",
              "        vertical-align: middle;\n",
              "    }\n",
              "\n",
              "    .dataframe tbody tr th {\n",
              "        vertical-align: top;\n",
              "    }\n",
              "\n",
              "    .dataframe thead th {\n",
              "        text-align: right;\n",
              "    }\n",
              "</style>\n",
              "<table border=\"1\" class=\"dataframe\">\n",
              "  <thead>\n",
              "    <tr style=\"text-align: right;\">\n",
              "      <th>Classification</th>\n",
              "      <th>Cryotherapy along with maintaining oral hygiene</th>\n",
              "      <th>Maintaining oral hygiene only</th>\n",
              "    </tr>\n",
              "    <tr>\n",
              "      <th>WHO_Grade_4W_After_Treatment</th>\n",
              "      <th></th>\n",
              "      <th></th>\n",
              "    </tr>\n",
              "  </thead>\n",
              "  <tbody>\n",
              "    <tr>\n",
              "      <th>1</th>\n",
              "      <td>40</td>\n",
              "      <td>6</td>\n",
              "    </tr>\n",
              "    <tr>\n",
              "      <th>2</th>\n",
              "      <td>10</td>\n",
              "      <td>15</td>\n",
              "    </tr>\n",
              "    <tr>\n",
              "      <th>3</th>\n",
              "      <td>0</td>\n",
              "      <td>29</td>\n",
              "    </tr>\n",
              "  </tbody>\n",
              "</table>\n",
              "</div>"
            ],
            "text/plain": [
              "Classification                Cryotherapy along with maintaining oral hygiene  Maintaining oral hygiene only\n",
              "WHO_Grade_4W_After_Treatment                                                                                \n",
              "1                                                                          40                              6\n",
              "2                                                                          10                             15\n",
              "3                                                                           0                             29"
            ]
          },
          "metadata": {},
          "execution_count": 149
        }
      ]
    },
    {
      "cell_type": "code",
      "metadata": {
        "colab": {
          "base_uri": "https://localhost:8080/"
        },
        "id": "wPQHTY3AIGf8",
        "outputId": "73413f04-bc3d-4048-aafa-dd2d652cabfb"
      },
      "source": [
        "from scipy.stats import fisher_exact\n",
        "\n",
        "Unilateral_Cryotherapy, Unilateral_Maintaining = 50, 21\n",
        "Parallel_Cryotherapy, Parallel_Maintaining = 0, 29\n",
        "\n",
        "oddsratio, pvalue = fisher_exact([[Unilateral_Cryotherapy, Unilateral_Maintaining], [Parallel_Cryotherapy, Parallel_Maintaining]])\n",
        "print('Fisher exact test p-value: {:.4f}'.format(pvalue))"
      ],
      "execution_count": 150,
      "outputs": [
        {
          "output_type": "stream",
          "name": "stdout",
          "text": [
            "Fisher exact test p-value: 0.0000\n"
          ]
        }
      ]
    },
    {
      "cell_type": "code",
      "metadata": {
        "id": "8JfWSiEhc7Nm",
        "colab": {
          "base_uri": "https://localhost:8080/"
        },
        "outputId": "cce1a42b-e6fa-42be-f8e4-4dc705e395c3"
      },
      "source": [
        "df.Age.describe()"
      ],
      "execution_count": 151,
      "outputs": [
        {
          "output_type": "execute_result",
          "data": {
            "text/plain": [
              "count     100\n",
              "unique     20\n",
              "top        60\n",
              "freq       18\n",
              "Name: Age, dtype: object"
            ]
          },
          "metadata": {},
          "execution_count": 151
        }
      ]
    },
    {
      "cell_type": "code",
      "metadata": {
        "id": "VFXwNg7-97ee"
      },
      "source": [
        ""
      ],
      "execution_count": 151,
      "outputs": []
    },
    {
      "cell_type": "code",
      "metadata": {
        "id": "hiPTatviifub"
      },
      "source": [
        ""
      ],
      "execution_count": 151,
      "outputs": []
    },
    {
      "cell_type": "markdown",
      "metadata": {
        "id": "y6Yrg8wNcG2W"
      },
      "source": [
        "# Comparison of pain intensity"
      ]
    },
    {
      "cell_type": "markdown",
      "metadata": {
        "id": "-b3ZC0DXcK_t"
      },
      "source": [
        "Week – 1"
      ]
    },
    {
      "cell_type": "code",
      "metadata": {
        "colab": {
          "base_uri": "https://localhost:8080/",
          "height": 0
        },
        "id": "_0740dSRaOxi",
        "outputId": "f78b78b2-1f93-43a9-aabb-0664595c041b"
      },
      "source": [
        "def my25(g):\n",
        "    return np.percentile(g, 25)\n",
        "\n",
        "def my75(g):\n",
        "    return np.percentile(g, 75)\n",
        "    \n",
        "def iqr(g):\n",
        "    return np.percentile(g, 75)-np.percentile(g, 25)\n",
        "\n",
        "df1.pivot_table(columns = ['Classification'], values = ['Pain_Intensity_After_1W'], \n",
        "               aggfunc = [np.mean, np.median, np.std, my75, my25, iqr])"
      ],
      "execution_count": 152,
      "outputs": [
        {
          "output_type": "execute_result",
          "data": {
            "text/html": [
              "<div>\n",
              "<style scoped>\n",
              "    .dataframe tbody tr th:only-of-type {\n",
              "        vertical-align: middle;\n",
              "    }\n",
              "\n",
              "    .dataframe tbody tr th {\n",
              "        vertical-align: top;\n",
              "    }\n",
              "\n",
              "    .dataframe thead tr th {\n",
              "        text-align: left;\n",
              "    }\n",
              "</style>\n",
              "<table border=\"1\" class=\"dataframe\">\n",
              "  <thead>\n",
              "    <tr>\n",
              "      <th></th>\n",
              "      <th colspan=\"2\" halign=\"left\">mean</th>\n",
              "      <th colspan=\"2\" halign=\"left\">median</th>\n",
              "      <th colspan=\"2\" halign=\"left\">std</th>\n",
              "      <th colspan=\"2\" halign=\"left\">my75</th>\n",
              "      <th colspan=\"2\" halign=\"left\">my25</th>\n",
              "      <th colspan=\"2\" halign=\"left\">iqr</th>\n",
              "    </tr>\n",
              "    <tr>\n",
              "      <th>Classification</th>\n",
              "      <th>Cryotherapy along with maintaining oral hygiene</th>\n",
              "      <th>Maintaining oral hygiene only</th>\n",
              "      <th>Cryotherapy along with maintaining oral hygiene</th>\n",
              "      <th>Maintaining oral hygiene only</th>\n",
              "      <th>Cryotherapy along with maintaining oral hygiene</th>\n",
              "      <th>Maintaining oral hygiene only</th>\n",
              "      <th>Cryotherapy along with maintaining oral hygiene</th>\n",
              "      <th>Maintaining oral hygiene only</th>\n",
              "      <th>Cryotherapy along with maintaining oral hygiene</th>\n",
              "      <th>Maintaining oral hygiene only</th>\n",
              "      <th>Cryotherapy along with maintaining oral hygiene</th>\n",
              "      <th>Maintaining oral hygiene only</th>\n",
              "    </tr>\n",
              "  </thead>\n",
              "  <tbody>\n",
              "    <tr>\n",
              "      <th>Pain_Intensity_After_1W</th>\n",
              "      <td>0.04</td>\n",
              "      <td>0.84</td>\n",
              "      <td>0</td>\n",
              "      <td>1</td>\n",
              "      <td>0.197949</td>\n",
              "      <td>0.618095</td>\n",
              "      <td>0</td>\n",
              "      <td>1</td>\n",
              "      <td>0</td>\n",
              "      <td>0</td>\n",
              "      <td>0</td>\n",
              "      <td>1</td>\n",
              "    </tr>\n",
              "  </tbody>\n",
              "</table>\n",
              "</div>"
            ],
            "text/plain": [
              "                                                                   mean  ...                           iqr\n",
              "Classification          Cryotherapy along with maintaining oral hygiene  ... Maintaining oral hygiene only\n",
              "Pain_Intensity_After_1W                                            0.04  ...                             1\n",
              "\n",
              "[1 rows x 12 columns]"
            ]
          },
          "metadata": {},
          "execution_count": 152
        }
      ]
    },
    {
      "cell_type": "code",
      "metadata": {
        "colab": {
          "base_uri": "https://localhost:8080/"
        },
        "id": "kN09N4FGkoWf",
        "outputId": "7ce29e42-5940-4da1-8d40-afecc7be0273"
      },
      "source": [
        "from scipy.stats import ttest_1samp\n",
        "Pain_Intensity_After_1W\t = df1['Pain_Intensity_After_1W']\n",
        "Pain_Intensity_After_1W_mean = np.mean(Pain_Intensity_After_1W)\n",
        "print(Pain_Intensity_After_1W_mean)\n",
        "tset, pval = ttest_1samp(Pain_Intensity_After_1W, 1)\n",
        "print('p-values',pval)\n",
        "if pval < 0.05:    # alpha value is 0.05 or 5%\n",
        "   print(\" we are rejecting null hypothesis\")\n",
        "else:\n",
        "  print(\"we are accepting null hypothesis\")"
      ],
      "execution_count": 153,
      "outputs": [
        {
          "output_type": "stream",
          "name": "stdout",
          "text": [
            "0.44\n",
            "p-values 5.926623382744107e-15\n",
            " we are rejecting null hypothesis\n"
          ]
        }
      ]
    },
    {
      "cell_type": "markdown",
      "metadata": {
        "id": "IEPEGTAicVGM"
      },
      "source": [
        "Week – 2"
      ]
    },
    {
      "cell_type": "code",
      "metadata": {
        "colab": {
          "base_uri": "https://localhost:8080/",
          "height": 0
        },
        "id": "FLDBtpNFdIMk",
        "outputId": "d7c7d3fe-99fa-4fdd-8e7a-0317c8ac4a43"
      },
      "source": [
        "def my25(g):\n",
        "    return np.percentile(g, 25)\n",
        "\n",
        "def my75(g):\n",
        "    return np.percentile(g, 75)\n",
        "    \n",
        "def iqr(g):\n",
        "    return np.percentile(g, 75)-np.percentile(g, 25)\n",
        "\n",
        "df1.pivot_table(columns = ['Classification'], values = ['Pain_Intensity_After_2W'], \n",
        "               aggfunc = [np.mean, np.median, np.std, my75, my25, iqr])"
      ],
      "execution_count": 154,
      "outputs": [
        {
          "output_type": "execute_result",
          "data": {
            "text/html": [
              "<div>\n",
              "<style scoped>\n",
              "    .dataframe tbody tr th:only-of-type {\n",
              "        vertical-align: middle;\n",
              "    }\n",
              "\n",
              "    .dataframe tbody tr th {\n",
              "        vertical-align: top;\n",
              "    }\n",
              "\n",
              "    .dataframe thead tr th {\n",
              "        text-align: left;\n",
              "    }\n",
              "</style>\n",
              "<table border=\"1\" class=\"dataframe\">\n",
              "  <thead>\n",
              "    <tr>\n",
              "      <th></th>\n",
              "      <th colspan=\"2\" halign=\"left\">mean</th>\n",
              "      <th colspan=\"2\" halign=\"left\">median</th>\n",
              "      <th colspan=\"2\" halign=\"left\">std</th>\n",
              "      <th colspan=\"2\" halign=\"left\">my75</th>\n",
              "      <th colspan=\"2\" halign=\"left\">my25</th>\n",
              "      <th colspan=\"2\" halign=\"left\">iqr</th>\n",
              "    </tr>\n",
              "    <tr>\n",
              "      <th>Classification</th>\n",
              "      <th>Cryotherapy along with maintaining oral hygiene</th>\n",
              "      <th>Maintaining oral hygiene only</th>\n",
              "      <th>Cryotherapy along with maintaining oral hygiene</th>\n",
              "      <th>Maintaining oral hygiene only</th>\n",
              "      <th>Cryotherapy along with maintaining oral hygiene</th>\n",
              "      <th>Maintaining oral hygiene only</th>\n",
              "      <th>Cryotherapy along with maintaining oral hygiene</th>\n",
              "      <th>Maintaining oral hygiene only</th>\n",
              "      <th>Cryotherapy along with maintaining oral hygiene</th>\n",
              "      <th>Maintaining oral hygiene only</th>\n",
              "      <th>Cryotherapy along with maintaining oral hygiene</th>\n",
              "      <th>Maintaining oral hygiene only</th>\n",
              "    </tr>\n",
              "  </thead>\n",
              "  <tbody>\n",
              "    <tr>\n",
              "      <th>Pain_Intensity_After_2W</th>\n",
              "      <td>0.16</td>\n",
              "      <td>1.84</td>\n",
              "      <td>0</td>\n",
              "      <td>2</td>\n",
              "      <td>0.467734</td>\n",
              "      <td>0.933722</td>\n",
              "      <td>0</td>\n",
              "      <td>2</td>\n",
              "      <td>0</td>\n",
              "      <td>1</td>\n",
              "      <td>0</td>\n",
              "      <td>1</td>\n",
              "    </tr>\n",
              "  </tbody>\n",
              "</table>\n",
              "</div>"
            ],
            "text/plain": [
              "                                                                   mean  ...                           iqr\n",
              "Classification          Cryotherapy along with maintaining oral hygiene  ... Maintaining oral hygiene only\n",
              "Pain_Intensity_After_2W                                            0.16  ...                             1\n",
              "\n",
              "[1 rows x 12 columns]"
            ]
          },
          "metadata": {},
          "execution_count": 154
        }
      ]
    },
    {
      "cell_type": "code",
      "metadata": {
        "colab": {
          "base_uri": "https://localhost:8080/"
        },
        "id": "mMmQdy9T7_KN",
        "outputId": "834d391f-047d-4b8a-9ada-5bede3bb396c"
      },
      "source": [
        "from scipy.stats import ttest_1samp\n",
        "Pain_Intensity_After_2W\t = df1['Pain_Intensity_After_2W']\n",
        "Pain_Intensity_After_2W_mean = np.mean(Pain_Intensity_After_2W)\n",
        "print(Pain_Intensity_After_2W_mean)\n",
        "tset, pval = ttest_1samp(Pain_Intensity_After_2W, 1)\n",
        "print('p-values',pval)\n",
        "if pval < 0.05:    # alpha value is 0.05 or 5%\n",
        "   print(\" we are rejecting null hypothesis\")\n",
        "else:\n",
        "  print(\"we are accepting null hypothesis\")"
      ],
      "execution_count": 155,
      "outputs": [
        {
          "output_type": "stream",
          "name": "stdout",
          "text": [
            "1.0\n",
            "p-values 1.0\n",
            "we are accepting null hypothesis\n"
          ]
        }
      ]
    },
    {
      "cell_type": "markdown",
      "metadata": {
        "id": "KPnqedZOcVAX"
      },
      "source": [
        "Week – 3"
      ]
    },
    {
      "cell_type": "code",
      "metadata": {
        "colab": {
          "base_uri": "https://localhost:8080/",
          "height": 0
        },
        "id": "_iZ4EFCVdLzJ",
        "outputId": "8462083e-2c6b-457e-ed6c-d09c76684df5"
      },
      "source": [
        "def my25(g):\n",
        "    return np.percentile(g, 25)\n",
        "\n",
        "def my75(g):\n",
        "    return np.percentile(g, 75)\n",
        "    \n",
        "def iqr(g):\n",
        "    return np.percentile(g, 75)-np.percentile(g, 25)\n",
        "\n",
        "df1.pivot_table(columns = ['Classification'], values = ['Pain_Intensity_After_3W'], \n",
        "               aggfunc = [np.mean, np.median, np.std, my75, my25, iqr])"
      ],
      "execution_count": 156,
      "outputs": [
        {
          "output_type": "execute_result",
          "data": {
            "text/html": [
              "<div>\n",
              "<style scoped>\n",
              "    .dataframe tbody tr th:only-of-type {\n",
              "        vertical-align: middle;\n",
              "    }\n",
              "\n",
              "    .dataframe tbody tr th {\n",
              "        vertical-align: top;\n",
              "    }\n",
              "\n",
              "    .dataframe thead tr th {\n",
              "        text-align: left;\n",
              "    }\n",
              "</style>\n",
              "<table border=\"1\" class=\"dataframe\">\n",
              "  <thead>\n",
              "    <tr>\n",
              "      <th></th>\n",
              "      <th colspan=\"2\" halign=\"left\">mean</th>\n",
              "      <th colspan=\"2\" halign=\"left\">median</th>\n",
              "      <th colspan=\"2\" halign=\"left\">std</th>\n",
              "      <th colspan=\"2\" halign=\"left\">my75</th>\n",
              "      <th colspan=\"2\" halign=\"left\">my25</th>\n",
              "      <th colspan=\"2\" halign=\"left\">iqr</th>\n",
              "    </tr>\n",
              "    <tr>\n",
              "      <th>Classification</th>\n",
              "      <th>Cryotherapy along with maintaining oral hygiene</th>\n",
              "      <th>Maintaining oral hygiene only</th>\n",
              "      <th>Cryotherapy along with maintaining oral hygiene</th>\n",
              "      <th>Maintaining oral hygiene only</th>\n",
              "      <th>Cryotherapy along with maintaining oral hygiene</th>\n",
              "      <th>Maintaining oral hygiene only</th>\n",
              "      <th>Cryotherapy along with maintaining oral hygiene</th>\n",
              "      <th>Maintaining oral hygiene only</th>\n",
              "      <th>Cryotherapy along with maintaining oral hygiene</th>\n",
              "      <th>Maintaining oral hygiene only</th>\n",
              "      <th>Cryotherapy along with maintaining oral hygiene</th>\n",
              "      <th>Maintaining oral hygiene only</th>\n",
              "    </tr>\n",
              "  </thead>\n",
              "  <tbody>\n",
              "    <tr>\n",
              "      <th>Pain_Intensity_After_3W</th>\n",
              "      <td>0.76</td>\n",
              "      <td>2.68</td>\n",
              "      <td>1</td>\n",
              "      <td>3</td>\n",
              "      <td>0.656521</td>\n",
              "      <td>0.978128</td>\n",
              "      <td>1</td>\n",
              "      <td>3</td>\n",
              "      <td>0</td>\n",
              "      <td>2</td>\n",
              "      <td>1</td>\n",
              "      <td>1</td>\n",
              "    </tr>\n",
              "  </tbody>\n",
              "</table>\n",
              "</div>"
            ],
            "text/plain": [
              "                                                                   mean  ...                           iqr\n",
              "Classification          Cryotherapy along with maintaining oral hygiene  ... Maintaining oral hygiene only\n",
              "Pain_Intensity_After_3W                                            0.76  ...                             1\n",
              "\n",
              "[1 rows x 12 columns]"
            ]
          },
          "metadata": {},
          "execution_count": 156
        }
      ]
    },
    {
      "cell_type": "code",
      "metadata": {
        "colab": {
          "base_uri": "https://localhost:8080/"
        },
        "id": "I3Kgvk-X8HeO",
        "outputId": "20138cf8-95e7-43d5-d111-c561f8352040"
      },
      "source": [
        "from scipy.stats import ttest_1samp\n",
        "Pain_Intensity_After_3W\t = df1['Pain_Intensity_After_3W']\n",
        "Pain_Intensity_After_3W_mean = np.mean(Pain_Intensity_After_3W)\n",
        "print(Pain_Intensity_After_3W_mean)\n",
        "tset, pval = ttest_1samp(Pain_Intensity_After_3W, 2)\n",
        "print('p-values',pval)\n",
        "if pval < 0.05:    # alpha value is 0.05 or 5%\n",
        "   print(\" we are rejecting null hypothesis\")\n",
        "else:\n",
        "  print(\"we are accepting null hypothesis\")"
      ],
      "execution_count": 157,
      "outputs": [
        {
          "output_type": "stream",
          "name": "stdout",
          "text": [
            "1.72\n",
            "p-values 0.03003066144717237\n",
            " we are rejecting null hypothesis\n"
          ]
        }
      ]
    },
    {
      "cell_type": "markdown",
      "metadata": {
        "id": "64klNFjhcU5M"
      },
      "source": [
        "Week – 4"
      ]
    },
    {
      "cell_type": "code",
      "metadata": {
        "colab": {
          "base_uri": "https://localhost:8080/",
          "height": 0
        },
        "id": "RbQlTh5RdNLh",
        "outputId": "fcfa8e0d-4362-4350-db17-e342f0a27bea"
      },
      "source": [
        "def my25(g):\n",
        "    return np.percentile(g, 25)\n",
        "\n",
        "def my75(g):\n",
        "    return np.percentile(g, 75)\n",
        "    \n",
        "def iqr(g):\n",
        "    return np.percentile(g, 75)-np.percentile(g, 25)\n",
        "\n",
        "df1.pivot_table(columns = ['Classification'], values = ['Pain_Intensity_After_4W'], \n",
        "               aggfunc = [np.mean, np.median, np.std, my75, my25, iqr])"
      ],
      "execution_count": 158,
      "outputs": [
        {
          "output_type": "execute_result",
          "data": {
            "text/html": [
              "<div>\n",
              "<style scoped>\n",
              "    .dataframe tbody tr th:only-of-type {\n",
              "        vertical-align: middle;\n",
              "    }\n",
              "\n",
              "    .dataframe tbody tr th {\n",
              "        vertical-align: top;\n",
              "    }\n",
              "\n",
              "    .dataframe thead tr th {\n",
              "        text-align: left;\n",
              "    }\n",
              "</style>\n",
              "<table border=\"1\" class=\"dataframe\">\n",
              "  <thead>\n",
              "    <tr>\n",
              "      <th></th>\n",
              "      <th colspan=\"2\" halign=\"left\">mean</th>\n",
              "      <th colspan=\"2\" halign=\"left\">median</th>\n",
              "      <th colspan=\"2\" halign=\"left\">std</th>\n",
              "      <th colspan=\"2\" halign=\"left\">my75</th>\n",
              "      <th colspan=\"2\" halign=\"left\">my25</th>\n",
              "      <th colspan=\"2\" halign=\"left\">iqr</th>\n",
              "    </tr>\n",
              "    <tr>\n",
              "      <th>Classification</th>\n",
              "      <th>Cryotherapy along with maintaining oral hygiene</th>\n",
              "      <th>Maintaining oral hygiene only</th>\n",
              "      <th>Cryotherapy along with maintaining oral hygiene</th>\n",
              "      <th>Maintaining oral hygiene only</th>\n",
              "      <th>Cryotherapy along with maintaining oral hygiene</th>\n",
              "      <th>Maintaining oral hygiene only</th>\n",
              "      <th>Cryotherapy along with maintaining oral hygiene</th>\n",
              "      <th>Maintaining oral hygiene only</th>\n",
              "      <th>Cryotherapy along with maintaining oral hygiene</th>\n",
              "      <th>Maintaining oral hygiene only</th>\n",
              "      <th>Cryotherapy along with maintaining oral hygiene</th>\n",
              "      <th>Maintaining oral hygiene only</th>\n",
              "    </tr>\n",
              "  </thead>\n",
              "  <tbody>\n",
              "    <tr>\n",
              "      <th>Pain_Intensity_After_4W</th>\n",
              "      <td>1.08</td>\n",
              "      <td>3.48</td>\n",
              "      <td>1</td>\n",
              "      <td>4</td>\n",
              "      <td>0.633745</td>\n",
              "      <td>1.281581</td>\n",
              "      <td>1</td>\n",
              "      <td>4</td>\n",
              "      <td>1</td>\n",
              "      <td>3</td>\n",
              "      <td>0</td>\n",
              "      <td>1</td>\n",
              "    </tr>\n",
              "  </tbody>\n",
              "</table>\n",
              "</div>"
            ],
            "text/plain": [
              "                                                                   mean  ...                           iqr\n",
              "Classification          Cryotherapy along with maintaining oral hygiene  ... Maintaining oral hygiene only\n",
              "Pain_Intensity_After_4W                                            1.08  ...                             1\n",
              "\n",
              "[1 rows x 12 columns]"
            ]
          },
          "metadata": {},
          "execution_count": 158
        }
      ]
    },
    {
      "cell_type": "code",
      "metadata": {
        "colab": {
          "base_uri": "https://localhost:8080/"
        },
        "id": "w4u6dVmH8YqT",
        "outputId": "304d503e-d8ff-431e-f4ba-8d2808f7df3e"
      },
      "source": [
        "from scipy.stats import ttest_1samp\n",
        "Pain_Intensity_After_4W\t = df1['Pain_Intensity_After_4W']\n",
        "Pain_Intensity_After_4W_mean = np.mean(Pain_Intensity_After_4W)\n",
        "print(Pain_Intensity_After_4W_mean)\n",
        "tset, pval = ttest_1samp(Pain_Intensity_After_4W, 3)\n",
        "print('p-values',pval)\n",
        "if pval < 0.05:    # alpha value is 0.05 or 5%\n",
        "   print(\" we are rejecting null hypothesis\")\n",
        "else:\n",
        "  print(\"we are accepting null hypothesis\")"
      ],
      "execution_count": 159,
      "outputs": [
        {
          "output_type": "stream",
          "name": "stdout",
          "text": [
            "2.28\n",
            "p-values 1.3302994229915723e-05\n",
            " we are rejecting null hypothesis\n"
          ]
        }
      ]
    },
    {
      "cell_type": "markdown",
      "metadata": {
        "id": "Wxvib_zecUs2"
      },
      "source": [
        "Week – 5"
      ]
    },
    {
      "cell_type": "code",
      "metadata": {
        "colab": {
          "base_uri": "https://localhost:8080/",
          "height": 0
        },
        "id": "Phid3B7udOlS",
        "outputId": "dbfc34f1-cdf1-4748-c3ab-13ffeaca72c8"
      },
      "source": [
        "def my25(g):\n",
        "    return np.percentile(g, 25)\n",
        "\n",
        "def my75(g):\n",
        "    return np.percentile(g, 75)\n",
        "    \n",
        "def iqr(g):\n",
        "    return np.percentile(g, 75)-np.percentile(g, 25)\n",
        "\n",
        "df1.pivot_table(columns = ['Classification'], values = ['Pain_Intensity_After_5W'], \n",
        "               aggfunc = [np.mean, np.median, np.std, my75, my25, iqr])"
      ],
      "execution_count": 160,
      "outputs": [
        {
          "output_type": "execute_result",
          "data": {
            "text/html": [
              "<div>\n",
              "<style scoped>\n",
              "    .dataframe tbody tr th:only-of-type {\n",
              "        vertical-align: middle;\n",
              "    }\n",
              "\n",
              "    .dataframe tbody tr th {\n",
              "        vertical-align: top;\n",
              "    }\n",
              "\n",
              "    .dataframe thead tr th {\n",
              "        text-align: left;\n",
              "    }\n",
              "</style>\n",
              "<table border=\"1\" class=\"dataframe\">\n",
              "  <thead>\n",
              "    <tr>\n",
              "      <th></th>\n",
              "      <th colspan=\"2\" halign=\"left\">mean</th>\n",
              "      <th colspan=\"2\" halign=\"left\">median</th>\n",
              "      <th colspan=\"2\" halign=\"left\">std</th>\n",
              "      <th colspan=\"2\" halign=\"left\">my75</th>\n",
              "      <th colspan=\"2\" halign=\"left\">my25</th>\n",
              "      <th colspan=\"2\" halign=\"left\">iqr</th>\n",
              "    </tr>\n",
              "    <tr>\n",
              "      <th>Classification</th>\n",
              "      <th>Cryotherapy along with maintaining oral hygiene</th>\n",
              "      <th>Maintaining oral hygiene only</th>\n",
              "      <th>Cryotherapy along with maintaining oral hygiene</th>\n",
              "      <th>Maintaining oral hygiene only</th>\n",
              "      <th>Cryotherapy along with maintaining oral hygiene</th>\n",
              "      <th>Maintaining oral hygiene only</th>\n",
              "      <th>Cryotherapy along with maintaining oral hygiene</th>\n",
              "      <th>Maintaining oral hygiene only</th>\n",
              "      <th>Cryotherapy along with maintaining oral hygiene</th>\n",
              "      <th>Maintaining oral hygiene only</th>\n",
              "      <th>Cryotherapy along with maintaining oral hygiene</th>\n",
              "      <th>Maintaining oral hygiene only</th>\n",
              "    </tr>\n",
              "  </thead>\n",
              "  <tbody>\n",
              "    <tr>\n",
              "      <th>Pain_Intensity_After_5W</th>\n",
              "      <td>1.56</td>\n",
              "      <td>4.28</td>\n",
              "      <td>1</td>\n",
              "      <td>4</td>\n",
              "      <td>0.860944</td>\n",
              "      <td>1.414791</td>\n",
              "      <td>2</td>\n",
              "      <td>5</td>\n",
              "      <td>1</td>\n",
              "      <td>4</td>\n",
              "      <td>1</td>\n",
              "      <td>1</td>\n",
              "    </tr>\n",
              "  </tbody>\n",
              "</table>\n",
              "</div>"
            ],
            "text/plain": [
              "                                                                   mean  ...                           iqr\n",
              "Classification          Cryotherapy along with maintaining oral hygiene  ... Maintaining oral hygiene only\n",
              "Pain_Intensity_After_5W                                            1.56  ...                             1\n",
              "\n",
              "[1 rows x 12 columns]"
            ]
          },
          "metadata": {},
          "execution_count": 160
        }
      ]
    },
    {
      "cell_type": "code",
      "metadata": {
        "colab": {
          "base_uri": "https://localhost:8080/"
        },
        "id": "qW2nb2FN8sCN",
        "outputId": "edcbbb15-3077-4ffe-f77e-8973b247b88d"
      },
      "source": [
        "from scipy.stats import ttest_1samp\n",
        "Pain_Intensity_After_5W\t = df1['Pain_Intensity_After_5W']\n",
        "Pain_Intensity_After_5W_mean = np.mean(Pain_Intensity_After_5W)\n",
        "print(Pain_Intensity_After_5W_mean)\n",
        "tset, pval = ttest_1samp(Pain_Intensity_After_5W, 3)\n",
        "print('p-values',pval)\n",
        "if pval < 0.05:    # alpha value is 0.05 or 5%\n",
        "   print(\" we are rejecting null hypothesis\")\n",
        "else:\n",
        "  print(\"we are accepting null hypothesis\")"
      ],
      "execution_count": 161,
      "outputs": [
        {
          "output_type": "stream",
          "name": "stdout",
          "text": [
            "2.92\n",
            "p-values 0.6569905055563481\n",
            "we are accepting null hypothesis\n"
          ]
        }
      ]
    },
    {
      "cell_type": "markdown",
      "metadata": {
        "id": "JLyotr_OcUe9"
      },
      "source": [
        "Week – 6"
      ]
    },
    {
      "cell_type": "code",
      "metadata": {
        "colab": {
          "base_uri": "https://localhost:8080/",
          "height": 0
        },
        "id": "aUR-O451dQDA",
        "outputId": "19baf32e-f21f-4ceb-e1ec-824fc2f4a594"
      },
      "source": [
        "def my25(g):\n",
        "    return np.percentile(g, 25)\n",
        "\n",
        "def my75(g):\n",
        "    return np.percentile(g, 75)\n",
        "    \n",
        "def iqr(g):\n",
        "    return np.percentile(g, 75)-np.percentile(g, 25)\n",
        "\n",
        "df1.pivot_table(columns = ['Classification'], values = ['Pain_Intensity_After_6W'], \n",
        "               aggfunc = [np.mean, np.median, np.std, my75, my25, iqr])"
      ],
      "execution_count": 162,
      "outputs": [
        {
          "output_type": "execute_result",
          "data": {
            "text/html": [
              "<div>\n",
              "<style scoped>\n",
              "    .dataframe tbody tr th:only-of-type {\n",
              "        vertical-align: middle;\n",
              "    }\n",
              "\n",
              "    .dataframe tbody tr th {\n",
              "        vertical-align: top;\n",
              "    }\n",
              "\n",
              "    .dataframe thead tr th {\n",
              "        text-align: left;\n",
              "    }\n",
              "</style>\n",
              "<table border=\"1\" class=\"dataframe\">\n",
              "  <thead>\n",
              "    <tr>\n",
              "      <th></th>\n",
              "      <th colspan=\"2\" halign=\"left\">mean</th>\n",
              "      <th colspan=\"2\" halign=\"left\">median</th>\n",
              "      <th colspan=\"2\" halign=\"left\">std</th>\n",
              "      <th colspan=\"2\" halign=\"left\">my75</th>\n",
              "      <th colspan=\"2\" halign=\"left\">my25</th>\n",
              "      <th colspan=\"2\" halign=\"left\">iqr</th>\n",
              "    </tr>\n",
              "    <tr>\n",
              "      <th>Classification</th>\n",
              "      <th>Cryotherapy along with maintaining oral hygiene</th>\n",
              "      <th>Maintaining oral hygiene only</th>\n",
              "      <th>Cryotherapy along with maintaining oral hygiene</th>\n",
              "      <th>Maintaining oral hygiene only</th>\n",
              "      <th>Cryotherapy along with maintaining oral hygiene</th>\n",
              "      <th>Maintaining oral hygiene only</th>\n",
              "      <th>Cryotherapy along with maintaining oral hygiene</th>\n",
              "      <th>Maintaining oral hygiene only</th>\n",
              "      <th>Cryotherapy along with maintaining oral hygiene</th>\n",
              "      <th>Maintaining oral hygiene only</th>\n",
              "      <th>Cryotherapy along with maintaining oral hygiene</th>\n",
              "      <th>Maintaining oral hygiene only</th>\n",
              "    </tr>\n",
              "  </thead>\n",
              "  <tbody>\n",
              "    <tr>\n",
              "      <th>Pain_Intensity_After_6W</th>\n",
              "      <td>2.04</td>\n",
              "      <td>5.08</td>\n",
              "      <td>2</td>\n",
              "      <td>5</td>\n",
              "      <td>0.968061</td>\n",
              "      <td>1.588736</td>\n",
              "      <td>2</td>\n",
              "      <td>6</td>\n",
              "      <td>2</td>\n",
              "      <td>4</td>\n",
              "      <td>0</td>\n",
              "      <td>2</td>\n",
              "    </tr>\n",
              "  </tbody>\n",
              "</table>\n",
              "</div>"
            ],
            "text/plain": [
              "                                                                   mean  ...                           iqr\n",
              "Classification          Cryotherapy along with maintaining oral hygiene  ... Maintaining oral hygiene only\n",
              "Pain_Intensity_After_6W                                            2.04  ...                             2\n",
              "\n",
              "[1 rows x 12 columns]"
            ]
          },
          "metadata": {},
          "execution_count": 162
        }
      ]
    },
    {
      "cell_type": "code",
      "metadata": {
        "colab": {
          "base_uri": "https://localhost:8080/"
        },
        "id": "Qm-TPn1s87GE",
        "outputId": "f8c87bf1-e739-4a0b-e8e4-01158dac2d01"
      },
      "source": [
        "from scipy.stats import ttest_1samp\n",
        "Pain_Intensity_After_6W\t = df1['Pain_Intensity_After_6W']\n",
        "Pain_Intensity_After_6W_mean = np.mean(Pain_Intensity_After_6W)\n",
        "print(Pain_Intensity_After_6W_mean)\n",
        "tset, pval = ttest_1samp(Pain_Intensity_After_6W, 4)\n",
        "print('p-values',pval)\n",
        "if pval < 0.05:    # alpha value is 0.05 or 5%\n",
        "   print(\" we are rejecting null hypothesis\")\n",
        "else:\n",
        "  print(\"we are accepting null hypothesis\")"
      ],
      "execution_count": 163,
      "outputs": [
        {
          "output_type": "stream",
          "name": "stdout",
          "text": [
            "3.56\n",
            "p-values 0.03108051829598951\n",
            " we are rejecting null hypothesis\n"
          ]
        }
      ]
    },
    {
      "cell_type": "markdown",
      "metadata": {
        "id": "KVluhlo4cT6S"
      },
      "source": [
        "2 Weeks after radiotherapy"
      ]
    },
    {
      "cell_type": "code",
      "metadata": {
        "colab": {
          "base_uri": "https://localhost:8080/",
          "height": 0
        },
        "id": "Sy036OpQdUaQ",
        "outputId": "10d8a671-4ff1-4876-f26f-a544fcc299f1"
      },
      "source": [
        "def my25(g):\n",
        "    return np.percentile(g, 25)\n",
        "\n",
        "def my75(g):\n",
        "    return np.percentile(g, 75)\n",
        "    \n",
        "def iqr(g):\n",
        "    return np.percentile(g, 75)-np.percentile(g, 25)\n",
        "\n",
        "df1.pivot_table(columns = ['Classification'], values = ['Pain_Intensity_2W_After_Treatment'], \n",
        "               aggfunc = [np.mean, np.median, np.std, my75, my25, iqr])"
      ],
      "execution_count": 164,
      "outputs": [
        {
          "output_type": "execute_result",
          "data": {
            "text/html": [
              "<div>\n",
              "<style scoped>\n",
              "    .dataframe tbody tr th:only-of-type {\n",
              "        vertical-align: middle;\n",
              "    }\n",
              "\n",
              "    .dataframe tbody tr th {\n",
              "        vertical-align: top;\n",
              "    }\n",
              "\n",
              "    .dataframe thead tr th {\n",
              "        text-align: left;\n",
              "    }\n",
              "</style>\n",
              "<table border=\"1\" class=\"dataframe\">\n",
              "  <thead>\n",
              "    <tr>\n",
              "      <th></th>\n",
              "      <th colspan=\"2\" halign=\"left\">mean</th>\n",
              "      <th colspan=\"2\" halign=\"left\">median</th>\n",
              "      <th colspan=\"2\" halign=\"left\">std</th>\n",
              "      <th colspan=\"2\" halign=\"left\">my75</th>\n",
              "      <th colspan=\"2\" halign=\"left\">my25</th>\n",
              "      <th colspan=\"2\" halign=\"left\">iqr</th>\n",
              "    </tr>\n",
              "    <tr>\n",
              "      <th>Classification</th>\n",
              "      <th>Cryotherapy along with maintaining oral hygiene</th>\n",
              "      <th>Maintaining oral hygiene only</th>\n",
              "      <th>Cryotherapy along with maintaining oral hygiene</th>\n",
              "      <th>Maintaining oral hygiene only</th>\n",
              "      <th>Cryotherapy along with maintaining oral hygiene</th>\n",
              "      <th>Maintaining oral hygiene only</th>\n",
              "      <th>Cryotherapy along with maintaining oral hygiene</th>\n",
              "      <th>Maintaining oral hygiene only</th>\n",
              "      <th>Cryotherapy along with maintaining oral hygiene</th>\n",
              "      <th>Maintaining oral hygiene only</th>\n",
              "      <th>Cryotherapy along with maintaining oral hygiene</th>\n",
              "      <th>Maintaining oral hygiene only</th>\n",
              "    </tr>\n",
              "  </thead>\n",
              "  <tbody>\n",
              "    <tr>\n",
              "      <th>Pain_Intensity_2W_After_Treatment</th>\n",
              "      <td>2.0</td>\n",
              "      <td>5.96</td>\n",
              "      <td>2</td>\n",
              "      <td>6</td>\n",
              "      <td>0.903508</td>\n",
              "      <td>1.795232</td>\n",
              "      <td>2</td>\n",
              "      <td>7</td>\n",
              "      <td>1</td>\n",
              "      <td>5</td>\n",
              "      <td>1</td>\n",
              "      <td>2</td>\n",
              "    </tr>\n",
              "  </tbody>\n",
              "</table>\n",
              "</div>"
            ],
            "text/plain": [
              "                                                                             mean  ...                           iqr\n",
              "Classification                    Cryotherapy along with maintaining oral hygiene  ... Maintaining oral hygiene only\n",
              "Pain_Intensity_2W_After_Treatment                                             2.0  ...                             2\n",
              "\n",
              "[1 rows x 12 columns]"
            ]
          },
          "metadata": {},
          "execution_count": 164
        }
      ]
    },
    {
      "cell_type": "code",
      "metadata": {
        "colab": {
          "base_uri": "https://localhost:8080/"
        },
        "id": "k9laxlH-9dm8",
        "outputId": "2c8db4bf-1c9c-4adb-e940-c36cca4a2010"
      },
      "source": [
        "from scipy.stats import ttest_1samp\n",
        "Pain_Intensity_2W_After_Treatment\t = df1['Pain_Intensity_2W_After_Treatment']\n",
        "Pain_Intensity_2W_After_Treatment_mean = np.mean(Pain_Intensity_2W_After_Treatment)\n",
        "print(Pain_Intensity_2W_After_Treatment_mean)\n",
        "tset, pval = ttest_1samp(Pain_Intensity_2W_After_Treatment, 4)\n",
        "print('p-values',pval)\n",
        "if pval < 0.05:    # alpha value is 0.05 or 5%\n",
        "   print(\" we are rejecting null hypothesis\")\n",
        "else:\n",
        "  print(\"we are accepting null hypothesis\")"
      ],
      "execution_count": 165,
      "outputs": [
        {
          "output_type": "stream",
          "name": "stdout",
          "text": [
            "3.98\n",
            "p-values 0.9348687884836742\n",
            "we are accepting null hypothesis\n"
          ]
        }
      ]
    },
    {
      "cell_type": "markdown",
      "metadata": {
        "id": "bcDMUKeucT0T"
      },
      "source": [
        "4 weeks after radiotherapy"
      ]
    },
    {
      "cell_type": "code",
      "metadata": {
        "colab": {
          "base_uri": "https://localhost:8080/",
          "height": 0
        },
        "id": "CcE-BcD9dVXQ",
        "outputId": "2de40bf9-ccf2-47d0-ecfd-e99a6c740aec"
      },
      "source": [
        "def my25(g):\n",
        "    return np.percentile(g, 25)\n",
        "\n",
        "def my75(g):\n",
        "    return np.percentile(g, 75)\n",
        "    \n",
        "def iqr(g):\n",
        "    return np.percentile(g, 75)-np.percentile(g, 25)\n",
        "\n",
        "df1.pivot_table(columns = ['Classification'], values = ['Pain_Intensity_4W_After_Treatment'], \n",
        "               aggfunc = [np.mean, np.median, np.std, my75, my25, iqr])"
      ],
      "execution_count": 166,
      "outputs": [
        {
          "output_type": "execute_result",
          "data": {
            "text/html": [
              "<div>\n",
              "<style scoped>\n",
              "    .dataframe tbody tr th:only-of-type {\n",
              "        vertical-align: middle;\n",
              "    }\n",
              "\n",
              "    .dataframe tbody tr th {\n",
              "        vertical-align: top;\n",
              "    }\n",
              "\n",
              "    .dataframe thead tr th {\n",
              "        text-align: left;\n",
              "    }\n",
              "</style>\n",
              "<table border=\"1\" class=\"dataframe\">\n",
              "  <thead>\n",
              "    <tr>\n",
              "      <th></th>\n",
              "      <th colspan=\"2\" halign=\"left\">mean</th>\n",
              "      <th colspan=\"2\" halign=\"left\">median</th>\n",
              "      <th colspan=\"2\" halign=\"left\">std</th>\n",
              "      <th colspan=\"2\" halign=\"left\">my75</th>\n",
              "      <th colspan=\"2\" halign=\"left\">my25</th>\n",
              "      <th colspan=\"2\" halign=\"left\">iqr</th>\n",
              "    </tr>\n",
              "    <tr>\n",
              "      <th>Classification</th>\n",
              "      <th>Cryotherapy along with maintaining oral hygiene</th>\n",
              "      <th>Maintaining oral hygiene only</th>\n",
              "      <th>Cryotherapy along with maintaining oral hygiene</th>\n",
              "      <th>Maintaining oral hygiene only</th>\n",
              "      <th>Cryotherapy along with maintaining oral hygiene</th>\n",
              "      <th>Maintaining oral hygiene only</th>\n",
              "      <th>Cryotherapy along with maintaining oral hygiene</th>\n",
              "      <th>Maintaining oral hygiene only</th>\n",
              "      <th>Cryotherapy along with maintaining oral hygiene</th>\n",
              "      <th>Maintaining oral hygiene only</th>\n",
              "      <th>Cryotherapy along with maintaining oral hygiene</th>\n",
              "      <th>Maintaining oral hygiene only</th>\n",
              "    </tr>\n",
              "  </thead>\n",
              "  <tbody>\n",
              "    <tr>\n",
              "      <th>Pain_Intensity_4W_After_Treatment</th>\n",
              "      <td>1.28</td>\n",
              "      <td>5.2</td>\n",
              "      <td>1</td>\n",
              "      <td>6</td>\n",
              "      <td>0.833973</td>\n",
              "      <td>1.690309</td>\n",
              "      <td>2</td>\n",
              "      <td>6</td>\n",
              "      <td>1</td>\n",
              "      <td>4</td>\n",
              "      <td>1</td>\n",
              "      <td>2</td>\n",
              "    </tr>\n",
              "  </tbody>\n",
              "</table>\n",
              "</div>"
            ],
            "text/plain": [
              "                                                                             mean  ...                           iqr\n",
              "Classification                    Cryotherapy along with maintaining oral hygiene  ... Maintaining oral hygiene only\n",
              "Pain_Intensity_4W_After_Treatment                                            1.28  ...                             2\n",
              "\n",
              "[1 rows x 12 columns]"
            ]
          },
          "metadata": {},
          "execution_count": 166
        }
      ]
    },
    {
      "cell_type": "code",
      "metadata": {
        "colab": {
          "base_uri": "https://localhost:8080/"
        },
        "id": "n9ycEhie9sLB",
        "outputId": "c5c52d88-7937-43fc-fa74-18542448de41"
      },
      "source": [
        "from scipy.stats import ttest_1samp\n",
        "Pain_Intensity_4W_After_Treatment\t = df1['Pain_Intensity_4W_After_Treatment']\n",
        "Pain_Intensity_4W_After_Treatment_mean = np.mean(Pain_Intensity_4W_After_Treatment)\n",
        "print(Pain_Intensity_4W_After_Treatment_mean)\n",
        "tset, pval = ttest_1samp(Pain_Intensity_4W_After_Treatment, 4)\n",
        "print('p-values',pval)\n",
        "if pval < 0.05:    # alpha value is 0.05 or 5%\n",
        "   print(\" we are rejecting null hypothesis\")\n",
        "else:\n",
        "  print(\"we are accepting null hypothesis\")"
      ],
      "execution_count": 167,
      "outputs": [
        {
          "output_type": "stream",
          "name": "stdout",
          "text": [
            "3.24\n",
            "p-values 0.0018440439669650502\n",
            " we are rejecting null hypothesis\n"
          ]
        }
      ]
    },
    {
      "cell_type": "markdown",
      "metadata": {
        "id": "XOodnhoScTqs"
      },
      "source": [
        ""
      ]
    },
    {
      "cell_type": "markdown",
      "metadata": {
        "id": "HwAkHHaWcTbR"
      },
      "source": [
        ""
      ]
    },
    {
      "cell_type": "markdown",
      "metadata": {
        "id": "72gksrWycTQg"
      },
      "source": [
        ""
      ]
    },
    {
      "cell_type": "markdown",
      "metadata": {
        "id": "gFGM96UKcTAc"
      },
      "source": [
        ""
      ]
    },
    {
      "cell_type": "markdown",
      "metadata": {
        "id": "i6Xp_ojKzmNG"
      },
      "source": [
        "# Comparison of duration of WHO Gr-3 "
      ]
    },
    {
      "cell_type": "code",
      "metadata": {
        "colab": {
          "base_uri": "https://localhost:8080/",
          "height": 199
        },
        "id": "cnwZW74WzyOo",
        "outputId": "e52e0587-d5bb-4cd4-b573-b609969c396a"
      },
      "source": [
        "def my25(g):\n",
        "    return np.percentile(g, 25)\n",
        "\n",
        "def my75(g):\n",
        "    return np.percentile(g, 75)\n",
        "    \n",
        "def iqr(g):\n",
        "    return np.percentile(g, 75)-np.percentile(g, 25)\n",
        "\n",
        "a = df1.pivot_table(columns = ['Classification'], values = ['WHO_Grade3_Duration'], \n",
        "               aggfunc = [np.mean, np.median, np.std, my75, my25, iqr])\n",
        "a*7"
      ],
      "execution_count": 168,
      "outputs": [
        {
          "output_type": "execute_result",
          "data": {
            "text/html": [
              "<div>\n",
              "<style scoped>\n",
              "    .dataframe tbody tr th:only-of-type {\n",
              "        vertical-align: middle;\n",
              "    }\n",
              "\n",
              "    .dataframe tbody tr th {\n",
              "        vertical-align: top;\n",
              "    }\n",
              "\n",
              "    .dataframe thead tr th {\n",
              "        text-align: left;\n",
              "    }\n",
              "</style>\n",
              "<table border=\"1\" class=\"dataframe\">\n",
              "  <thead>\n",
              "    <tr>\n",
              "      <th></th>\n",
              "      <th colspan=\"2\" halign=\"left\">mean</th>\n",
              "      <th colspan=\"2\" halign=\"left\">median</th>\n",
              "      <th colspan=\"2\" halign=\"left\">std</th>\n",
              "      <th colspan=\"2\" halign=\"left\">my75</th>\n",
              "      <th colspan=\"2\" halign=\"left\">my25</th>\n",
              "      <th colspan=\"2\" halign=\"left\">iqr</th>\n",
              "    </tr>\n",
              "    <tr>\n",
              "      <th>Classification</th>\n",
              "      <th>Cryotherapy along with maintaining oral hygiene</th>\n",
              "      <th>Maintaining oral hygiene only</th>\n",
              "      <th>Cryotherapy along with maintaining oral hygiene</th>\n",
              "      <th>Maintaining oral hygiene only</th>\n",
              "      <th>Cryotherapy along with maintaining oral hygiene</th>\n",
              "      <th>Maintaining oral hygiene only</th>\n",
              "      <th>Cryotherapy along with maintaining oral hygiene</th>\n",
              "      <th>Maintaining oral hygiene only</th>\n",
              "      <th>Cryotherapy along with maintaining oral hygiene</th>\n",
              "      <th>Maintaining oral hygiene only</th>\n",
              "      <th>Cryotherapy along with maintaining oral hygiene</th>\n",
              "      <th>Maintaining oral hygiene only</th>\n",
              "    </tr>\n",
              "  </thead>\n",
              "  <tbody>\n",
              "    <tr>\n",
              "      <th>WHO_Grade3_Duration</th>\n",
              "      <td>5.04</td>\n",
              "      <td>33.32</td>\n",
              "      <td>0</td>\n",
              "      <td>35</td>\n",
              "      <td>6.788225</td>\n",
              "      <td>10.729399</td>\n",
              "      <td>7</td>\n",
              "      <td>42</td>\n",
              "      <td>0</td>\n",
              "      <td>28</td>\n",
              "      <td>7</td>\n",
              "      <td>14</td>\n",
              "    </tr>\n",
              "  </tbody>\n",
              "</table>\n",
              "</div>"
            ],
            "text/plain": [
              "                                                               mean  ...                           iqr\n",
              "Classification      Cryotherapy along with maintaining oral hygiene  ... Maintaining oral hygiene only\n",
              "WHO_Grade3_Duration                                            5.04  ...                            14\n",
              "\n",
              "[1 rows x 12 columns]"
            ]
          },
          "metadata": {},
          "execution_count": 168
        }
      ]
    },
    {
      "cell_type": "code",
      "metadata": {
        "colab": {
          "base_uri": "https://localhost:8080/"
        },
        "id": "yotSIZAS44cx",
        "outputId": "1914276c-5aa7-4a2b-f6c6-667901c8dbfa"
      },
      "source": [
        "from scipy.stats import ttest_1samp\n",
        "WHO_Grade3_Duration\t = df1['WHO_Grade3_Duration']\n",
        "WHO_Grade3_Duration_mean = np.mean(WHO_Grade3_Duration)\n",
        "print(WHO_Grade3_Duration_mean)\n",
        "tset, pval = ttest_1samp(WHO_Grade3_Duration, 3)\n",
        "print('p-values',pval)\n",
        "if pval < 0.05:    # alpha value is 0.05 or 5%\n",
        "   print(\" we are rejecting null hypothesis\")\n",
        "else:\n",
        "  print(\"we are accepting null hypothesis\")\n",
        "\n",
        "tset"
      ],
      "execution_count": 169,
      "outputs": [
        {
          "output_type": "stream",
          "name": "stdout",
          "text": [
            "2.74\n",
            "p-values 0.2808721993408512\n",
            "we are accepting null hypothesis\n"
          ]
        },
        {
          "output_type": "execute_result",
          "data": {
            "text/plain": [
              "-1.0842844769372697"
            ]
          },
          "metadata": {},
          "execution_count": 169
        }
      ]
    },
    {
      "cell_type": "code",
      "metadata": {
        "id": "kOcI1377v38y",
        "colab": {
          "base_uri": "https://localhost:8080/"
        },
        "outputId": "7e16ace1-9a5f-4f75-f2e7-7a5002324998"
      },
      "source": [
        "from scipy.stats import fisher_exact\n",
        "\n",
        "Unilateral_Cryotherapy, Unilateral_Maintaining = 50, 50\n",
        "Parallel_Cryotherapy, Parallel_Maintaining = 0, 0\n",
        "\n",
        "oddsratio, pvalue = fisher_exact([[Unilateral_Cryotherapy, Unilateral_Maintaining], [Parallel_Cryotherapy, Parallel_Maintaining]])\n",
        "print('Fisher exact test p-value: {:.4f}'.format(pvalue))"
      ],
      "execution_count": 170,
      "outputs": [
        {
          "output_type": "stream",
          "name": "stdout",
          "text": [
            "Fisher exact test p-value: 1.0000\n"
          ]
        }
      ]
    },
    {
      "cell_type": "markdown",
      "metadata": {
        "id": "Xa3qi35IMLRR"
      },
      "source": [
        "#Use of analgesic\n"
      ]
    },
    {
      "cell_type": "code",
      "metadata": {
        "colab": {
          "base_uri": "https://localhost:8080/"
        },
        "id": "RRALUXFdMdgb",
        "outputId": "aa34b94b-214a-421a-e922-2f51f4c5f22e"
      },
      "source": [
        "from scipy.stats import ttest_1samp\n",
        "Analgesic_Use\t = df1['Analgesic_Use']\n",
        "Analgesic_Use_mean = np.mean(Analgesic_Use)\n",
        "print(Analgesic_Use_mean)\n",
        "tset, pval = ttest_1samp(Analgesic_Use, 1)\n",
        "print('p-values',pval)\n",
        "if pval < 0.05:    # alpha value is 0.05 or 5%\n",
        "   print(\" we are rejecting null hypothesis\")\n",
        "else:\n",
        "  print(\"we are accepting null hypothesis\")\n",
        "\n",
        "tset"
      ],
      "execution_count": 171,
      "outputs": [
        {
          "output_type": "stream",
          "name": "stdout",
          "text": [
            "0.98\n",
            "p-values 0.15833990565972533\n",
            "we are accepting null hypothesis\n"
          ]
        },
        {
          "output_type": "execute_result",
          "data": {
            "text/plain": [
              "-1.4214106244380298"
            ]
          },
          "metadata": {},
          "execution_count": 171
        }
      ]
    },
    {
      "cell_type": "markdown",
      "metadata": {
        "id": "MIh4WXDpMUJU"
      },
      "source": [
        "#Use of opioid analgesics"
      ]
    },
    {
      "cell_type": "code",
      "metadata": {
        "colab": {
          "base_uri": "https://localhost:8080/"
        },
        "id": "QVRalT8CiZsf",
        "outputId": "2ac973c4-75e7-4fd1-aeca-16b63034a995"
      },
      "source": [
        "from scipy.stats import ttest_1samp\n",
        "Opioid_analgesic_use\t = df1['Opioid_analgesic_use']\n",
        "Opioid_analgesic_use_mean = np.mean(Opioid_analgesic_use)\n",
        "print(Opioid_analgesic_use_mean)\n",
        "tset, pval = ttest_1samp(Opioid_analgesic_use, 1)\n",
        "print('p-values',pval)\n",
        "if pval < 0.05:    # alpha value is 0.05 or 5%\n",
        "   print(\" we are rejecting null hypothesis\")\n",
        "else:\n",
        "  print(\"we are accepting null hypothesis\")\n",
        "\n",
        "tset"
      ],
      "execution_count": 174,
      "outputs": [
        {
          "output_type": "stream",
          "name": "stdout",
          "text": [
            "0.24\n",
            "p-values 1.9130564588604125e-32\n",
            " we are rejecting null hypothesis\n"
          ]
        },
        {
          "output_type": "execute_result",
          "data": {
            "text/plain": [
              "-17.70593120962577"
            ]
          },
          "metadata": {},
          "execution_count": 174
        }
      ]
    },
    {
      "cell_type": "markdown",
      "metadata": {
        "id": "Ip-EaMPoMXXD"
      },
      "source": [
        "#Use of antifungal"
      ]
    },
    {
      "cell_type": "code",
      "metadata": {
        "colab": {
          "base_uri": "https://localhost:8080/"
        },
        "id": "P5bevZuqkT9Y",
        "outputId": "da813a0c-3ef0-42f9-c4f9-db32d4023130"
      },
      "source": [
        "from scipy.stats import ttest_1samp\n",
        "Antifungal_Use\t = df1['Antifungal_Use']\n",
        "Antifungal_Use_mean = np.mean(Antifungal_Use)\n",
        "print(Antifungal_Use_mean)\n",
        "tset, pval = ttest_1samp(Antifungal_Use, 1)\n",
        "print('p-values',pval)\n",
        "if pval < 0.05:    # alpha value is 0.05 or 5%\n",
        "   print(\" we are rejecting null hypothesis\")\n",
        "else:\n",
        "  print(\"we are accepting null hypothesis\")\n",
        "\n",
        "tset"
      ],
      "execution_count": 175,
      "outputs": [
        {
          "output_type": "stream",
          "name": "stdout",
          "text": [
            "0.96\n",
            "p-values 0.04493472521263028\n",
            " we are rejecting null hypothesis\n"
          ]
        },
        {
          "output_type": "execute_result",
          "data": {
            "text/plain": [
              "-2.0310096011589915"
            ]
          },
          "metadata": {},
          "execution_count": 175
        }
      ]
    },
    {
      "cell_type": "markdown",
      "metadata": {
        "id": "oHC8pz8KMbJS"
      },
      "source": [
        "\n",
        "#Treatment interruption"
      ]
    },
    {
      "cell_type": "code",
      "metadata": {
        "colab": {
          "base_uri": "https://localhost:8080/"
        },
        "id": "1ANaF7ypkvr5",
        "outputId": "fa429df6-4288-498a-e1e4-9ea825024cee"
      },
      "source": [
        "from scipy.stats import ttest_1samp\n",
        "Treatment_interaption\t = df1['Treatment_interaption']\n",
        "Treatment_interaption_mean = np.mean(Treatment_interaption)\n",
        "print(Treatment_interaption_mean)\n",
        "tset, pval = ttest_1samp(Treatment_interaption, 1)\n",
        "print('p-values',pval)\n",
        "if pval < 0.05:    # alpha value is 0.05 or 5%\n",
        "   print(\" we are rejecting null hypothesis\")\n",
        "else:\n",
        "  print(\"we are accepting null hypothesis\")\n",
        "\n",
        "tset"
      ],
      "execution_count": 180,
      "outputs": [
        {
          "output_type": "stream",
          "name": "stdout",
          "text": [
            "0.08\n",
            "p-values 4.204487799548898e-56\n",
            " we are rejecting null hypothesis\n"
          ]
        },
        {
          "output_type": "execute_result",
          "data": {
            "text/plain": [
              "-33.741665637605976"
            ]
          },
          "metadata": {},
          "execution_count": 180
        }
      ]
    }
  ]
}